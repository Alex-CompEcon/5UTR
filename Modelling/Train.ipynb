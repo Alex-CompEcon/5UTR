{
 "cells": [
  {
   "cell_type": "markdown",
   "metadata": {},
   "source": [
    "#### Modelling\n",
    "\n",
    "In this notebook, we train a model on the 5utr MPRA data that works for any input size and compare it to the fixed-size model from \"Human 5′ UTR design and variant effect prediction from a massively parallel translation assay\""
   ]
  },
  {
   "cell_type": "code",
   "execution_count": 1,
   "metadata": {},
   "outputs": [
    {
     "name": "stderr",
     "output_type": "stream",
     "text": [
      "Using TensorFlow backend.\n"
     ]
    }
   ],
   "source": [
    "from importlib import reload\n",
    "import re\n",
    "import random\n",
    "random.seed(1337)\n",
    "import os\n",
    "import pickle\n",
    "\n",
    "import numpy as np\n",
    "np.random.seed(1337)\n",
    "import pandas as pd\n",
    "import scipy.stats as stats\n",
    "\n",
    "import matplotlib.pyplot as plt\n",
    "import seaborn as sns\n",
    "\n",
    "import keras\n",
    "from keras import backend as K\n",
    "from keras.models import load_model\n",
    "\n",
    "from IPython.display import SVG\n",
    "from keras.utils.vis_utils import model_to_dot\n",
    "\n",
    "import model\n",
    "import utils"
   ]
  },
  {
   "cell_type": "markdown",
   "metadata": {},
   "source": [
    "### Read in the prepared data"
   ]
  },
  {
   "cell_type": "code",
   "execution_count": 12,
   "metadata": {},
   "outputs": [],
   "source": [
    "with open(\"../Data/data_dict.pkl\", 'rb') as handle:\n",
    "    data_dict = pickle.load(handle)\n",
    "\n",
    "data_df = data_dict[\"data\"]\n",
    "snv_df = data_dict[\"snv\"]\n",
    "ptr_df = data_dict[\"ptr\"]"
   ]
  },
  {
   "cell_type": "markdown",
   "metadata": {},
   "source": [
    "### Encode the data in the required input format"
   ]
  },
  {
   "cell_type": "code",
   "execution_count": 31,
   "metadata": {},
   "outputs": [],
   "source": [
    "reload(utils)\n",
    "encoded_data = {}\n",
    "data_df = utils.extract_tis(data_df, downstream_nt=6, upstream_nt=2, cds_col=\"context\", new_col=\"tis\")\n",
    "for set_type in data_df[\"set\"].unique():\n",
    "    df_slice = data_df[data_df[\"set\"] == set_type]\n",
    "    set_type_dict = {}\n",
    "    for library in df_slice[\"library\"].unique():\n",
    "        set_type_dict[library] = utils.encode_df(df_slice[df_slice[\"library\"] == library], tis_col=\"tis\")  \n",
    "    encoded_data[set_type] = set_type_dict\n",
    "\n",
    "snv_encoded = {}\n",
    "snv_df = utils.extract_tis(snv_df, downstream_nt=6, upstream_nt=2, cds_col=\"context\", new_col=\"tis\")\n",
    "snv_df[\"library\"] = \"human\"\n",
    "snv_encoded[\"snv\"] = utils.encode_df(snv_df, col=\"utr\", output_col=\"hrl\", tis_col=\"tis\")\n",
    "snv_encoded[\"wt\"] = utils.encode_df(snv_df, col=\"mother\", output_col=\"hrl\", tis_col=\"tis\")\n",
    "\n",
    "ptr_df[\"library\"] = \"egfp_unmod_1\"\n",
    "ptr_df = utils.extract_tis(ptr_df, downstream_nt=6, upstream_nt=2, new_col=\"tis\")\n",
    "ptr_encoded = utils.encode_df(ptr_df, col=\"utr\", output_col=None, variable_len=True, tis_col=\"tis\")"
   ]
  },
  {
   "cell_type": "markdown",
   "metadata": {},
   "source": [
    "### Instantiate a basic model and train"
   ]
  },
  {
   "cell_type": "code",
   "execution_count": 4,
   "metadata": {},
   "outputs": [
    {
     "name": "stdout",
     "output_type": "stream",
     "text": [
      "WARNING:tensorflow:From /data/ouga04b/ag_gagneur/home/karollus/.conda/envs/karollus-env/lib/python3.6/site-packages/tensorflow/python/framework/op_def_library.py:263: colocate_with (from tensorflow.python.framework.ops) is deprecated and will be removed in a future version.\n",
      "Instructions for updating:\n",
      "Colocations handled automatically by placer.\n",
      "WARNING:tensorflow:From /data/ouga04b/ag_gagneur/home/karollus/.conda/envs/karollus-env/lib/python3.6/site-packages/keras/backend/tensorflow_backend.py:3445: calling dropout (from tensorflow.python.ops.nn_ops) with keep_prob is deprecated and will be removed in a future version.\n",
      "Instructions for updating:\n",
      "Please use `rate` instead of `keep_prob`. Rate should be set to `rate = 1 - keep_prob`.\n"
     ]
    }
   ],
   "source": [
    "utr_model = model.create_model_masked_bordered()"
   ]
  },
  {
   "cell_type": "code",
   "execution_count": 70,
   "metadata": {},
   "outputs": [
    {
     "name": "stdout",
     "output_type": "stream",
     "text": [
      "__________________________________________________________________________________________________\n",
      "Layer (type)                    Output Shape         Param #     Connected to                     \n",
      "==================================================================================================\n",
      "input_seq (InputLayer)          (None, None, 4)      0                                            \n",
      "__________________________________________________________________________________________________\n",
      "convolution_0 (Conv1D)          (None, None, 128)    4224        input_seq[0][0]                  \n",
      "__________________________________________________________________________________________________\n",
      "compute_pad_mask (Lambda)       (None, None)         0           input_seq[0][0]                  \n",
      "__________________________________________________________________________________________________\n",
      "apply_pad_mask_0 (Lambda)       (None, None, 128)    0           convolution_0[0][0]              \n",
      "                                                                 compute_pad_mask[0][0]           \n",
      "__________________________________________________________________________________________________\n",
      "convolution_1 (Conv1D)          (None, None, 128)    131200      apply_pad_mask_0[0][0]           \n",
      "__________________________________________________________________________________________________\n",
      "apply_pad_mask_1 (Lambda)       (None, None, 128)    0           convolution_1[0][0]              \n",
      "                                                                 compute_pad_mask[0][0]           \n",
      "__________________________________________________________________________________________________\n",
      "convolution_2 (Conv1D)          (None, None, 128)    131200      apply_pad_mask_1[0][0]           \n",
      "__________________________________________________________________________________________________\n",
      "apply_pad_mask_2 (Lambda)       (None, None, 128)    0           convolution_2[0][0]              \n",
      "                                                                 compute_pad_mask[0][0]           \n",
      "__________________________________________________________________________________________________\n",
      "frame_masking (FrameSliceLayer) [(None, None, 128),  0           apply_pad_mask_2[0][0]           \n",
      "__________________________________________________________________________________________________\n",
      "pool_max_frame_conv (GlobalMaxP (None, 128)          0           frame_masking[0][0]              \n",
      "                                                                 frame_masking[0][1]              \n",
      "                                                                 frame_masking[0][2]              \n",
      "__________________________________________________________________________________________________\n",
      "pool_avg_frame_conv (Lambda)    (None, 128)          0           frame_masking[0][0]              \n",
      "                                                                 compute_pad_mask[0][0]           \n",
      "                                                                 frame_masking[0][1]              \n",
      "                                                                 compute_pad_mask[0][0]           \n",
      "                                                                 frame_masking[0][2]              \n",
      "                                                                 compute_pad_mask[0][0]           \n",
      "__________________________________________________________________________________________________\n",
      "concatenate_pooled (Concatenate (None, 768)          0           pool_max_frame_conv[0][0]        \n",
      "                                                                 pool_max_frame_conv[1][0]        \n",
      "                                                                 pool_max_frame_conv[2][0]        \n",
      "                                                                 pool_avg_frame_conv[0][0]        \n",
      "                                                                 pool_avg_frame_conv[1][0]        \n",
      "                                                                 pool_avg_frame_conv[2][0]        \n",
      "__________________________________________________________________________________________________\n",
      "fully_connected (Dense)         (None, 64)           49216       concatenate_pooled[0][0]         \n",
      "__________________________________________________________________________________________________\n",
      "fc_dropout (Dropout)            (None, 64)           0           fully_connected[0][0]            \n",
      "__________________________________________________________________________________________________\n",
      "mrl_output_unscaled (Dense)     (None, 1)            65          fc_dropout[0][0]                 \n",
      "__________________________________________________________________________________________________\n",
      "input_experiment (InputLayer)   (None, 6)            0                                            \n",
      "__________________________________________________________________________________________________\n",
      "interaction_term (Lambda)       (None, 6)            0           mrl_output_unscaled[0][0]        \n",
      "                                                                 input_experiment[0][0]           \n",
      "__________________________________________________________________________________________________\n",
      "prepare_regression (Concatenate (None, 12)           0           interaction_term[0][0]           \n",
      "                                                                 input_experiment[0][0]           \n",
      "__________________________________________________________________________________________________\n",
      "scaling_regression (Dense)      (None, 1)            12          prepare_regression[0][0]         \n",
      "==================================================================================================\n",
      "Total params: 315,917\n",
      "Trainable params: 12\n",
      "Non-trainable params: 315,905\n",
      "__________________________________________________________________________________________________\n"
     ]
    }
   ],
   "source": [
    "utr_model.summary()"
   ]
  },
  {
   "cell_type": "code",
   "execution_count": 73,
   "metadata": {},
   "outputs": [
    {
     "data": {
      "image/svg+xml": [
       "<svg height=\"1140pt\" viewBox=\"0.00 0.00 554.00 1140.00\" width=\"554pt\" xmlns=\"http://www.w3.org/2000/svg\" xmlns:xlink=\"http://www.w3.org/1999/xlink\">\n",
       "<g class=\"graph\" id=\"graph0\" transform=\"scale(1 1) rotate(0) translate(4 1136)\">\n",
       "<title>G</title>\n",
       "<polygon fill=\"#ffffff\" points=\"-4,4 -4,-1136 550,-1136 550,4 -4,4\" stroke=\"transparent\"/>\n",
       "<!-- 139851004577944 -->\n",
       "<g class=\"node\" id=\"node1\">\n",
       "<title>139851004577944</title>\n",
       "<polygon fill=\"none\" points=\"226.5,-1095.5 226.5,-1131.5 363.5,-1131.5 363.5,-1095.5 226.5,-1095.5\" stroke=\"#000000\"/>\n",
       "<text fill=\"#000000\" font-family=\"Times,serif\" font-size=\"14.00\" text-anchor=\"middle\" x=\"295\" y=\"-1109.8\">input_seq: InputLayer</text>\n",
       "</g>\n",
       "<!-- 139851004578056 -->\n",
       "<g class=\"node\" id=\"node2\">\n",
       "<title>139851004578056</title>\n",
       "<polygon fill=\"none\" points=\"130,-1022.5 130,-1058.5 278,-1058.5 278,-1022.5 130,-1022.5\" stroke=\"#000000\"/>\n",
       "<text fill=\"#000000\" font-family=\"Times,serif\" font-size=\"14.00\" text-anchor=\"middle\" x=\"204\" y=\"-1036.8\">convolution_0: Conv1D</text>\n",
       "</g>\n",
       "<!-- 139851004577944&#45;&gt;139851004578056 -->\n",
       "<g class=\"edge\" id=\"edge1\">\n",
       "<title>139851004577944-&gt;139851004578056</title>\n",
       "<path d=\"M272.5056,-1095.4551C261.0211,-1086.2422 246.883,-1074.9006 234.4389,-1064.918\" fill=\"none\" stroke=\"#000000\"/>\n",
       "<polygon fill=\"#000000\" points=\"236.5414,-1062.1177 226.551,-1058.5904 232.1612,-1067.5779 236.5414,-1062.1177\" stroke=\"#000000\"/>\n",
       "</g>\n",
       "<!-- 139851004578504 -->\n",
       "<g class=\"node\" id=\"node3\">\n",
       "<title>139851004578504</title>\n",
       "<polygon fill=\"none\" points=\"296.5,-1022.5 296.5,-1058.5 475.5,-1058.5 475.5,-1022.5 296.5,-1022.5\" stroke=\"#000000\"/>\n",
       "<text fill=\"#000000\" font-family=\"Times,serif\" font-size=\"14.00\" text-anchor=\"middle\" x=\"386\" y=\"-1036.8\">compute_pad_mask: Lambda</text>\n",
       "</g>\n",
       "<!-- 139851004577944&#45;&gt;139851004578504 -->\n",
       "<g class=\"edge\" id=\"edge2\">\n",
       "<title>139851004577944-&gt;139851004578504</title>\n",
       "<path d=\"M317.4944,-1095.4551C328.9789,-1086.2422 343.117,-1074.9006 355.5611,-1064.918\" fill=\"none\" stroke=\"#000000\"/>\n",
       "<polygon fill=\"#000000\" points=\"357.8388,-1067.5779 363.449,-1058.5904 353.4586,-1062.1177 357.8388,-1067.5779\" stroke=\"#000000\"/>\n",
       "</g>\n",
       "<!-- 139851004578728 -->\n",
       "<g class=\"node\" id=\"node4\">\n",
       "<title>139851004578728</title>\n",
       "<polygon fill=\"none\" points=\"182.5,-949.5 182.5,-985.5 357.5,-985.5 357.5,-949.5 182.5,-949.5\" stroke=\"#000000\"/>\n",
       "<text fill=\"#000000\" font-family=\"Times,serif\" font-size=\"14.00\" text-anchor=\"middle\" x=\"270\" y=\"-963.8\">apply_pad_mask_0: Lambda</text>\n",
       "</g>\n",
       "<!-- 139851004578056&#45;&gt;139851004578728 -->\n",
       "<g class=\"edge\" id=\"edge3\">\n",
       "<title>139851004578056-&gt;139851004578728</title>\n",
       "<path d=\"M220.3146,-1022.4551C228.3267,-1013.5932 238.1196,-1002.7616 246.8868,-993.0646\" fill=\"none\" stroke=\"#000000\"/>\n",
       "<polygon fill=\"#000000\" points=\"249.5341,-995.3554 253.6443,-985.5904 244.3416,-990.6609 249.5341,-995.3554\" stroke=\"#000000\"/>\n",
       "</g>\n",
       "<!-- 139851004578504&#45;&gt;139851004578728 -->\n",
       "<g class=\"edge\" id=\"edge4\">\n",
       "<title>139851004578504-&gt;139851004578728</title>\n",
       "<path d=\"M357.3258,-1022.4551C342.268,-1012.979 323.6314,-1001.2508 307.447,-991.0658\" fill=\"none\" stroke=\"#000000\"/>\n",
       "<polygon fill=\"#000000\" points=\"309.0741,-987.9544 298.7463,-985.5904 305.3457,-993.8788 309.0741,-987.9544\" stroke=\"#000000\"/>\n",
       "</g>\n",
       "<!-- 139851004579288 -->\n",
       "<g class=\"node\" id=\"node6\">\n",
       "<title>139851004579288</title>\n",
       "<polygon fill=\"none\" points=\"182.5,-803.5 182.5,-839.5 357.5,-839.5 357.5,-803.5 182.5,-803.5\" stroke=\"#000000\"/>\n",
       "<text fill=\"#000000\" font-family=\"Times,serif\" font-size=\"14.00\" text-anchor=\"middle\" x=\"270\" y=\"-817.8\">apply_pad_mask_1: Lambda</text>\n",
       "</g>\n",
       "<!-- 139851004578504&#45;&gt;139851004579288 -->\n",
       "<g class=\"edge\" id=\"edge7\">\n",
       "<title>139851004578504-&gt;139851004579288</title>\n",
       "<path d=\"M389.7276,-1022.3389C394.7147,-994.0838 401.2806,-938.2962 386,-894.5\" fill=\"none\" stroke=\"#000000\"/>\n",
       "<path d=\"M386,-894.5C376.4597,-871.7469 355.6179,-855.4496 334.1947,-844.1111\" fill=\"none\" stroke=\"#000000\"/>\n",
       "<polygon fill=\"#000000\" points=\"335.5222,-840.8626 325.0089,-839.551 332.4096,-847.1325 335.5222,-840.8626\" stroke=\"#000000\"/>\n",
       "</g>\n",
       "<!-- 139851004579736 -->\n",
       "<g class=\"node\" id=\"node8\">\n",
       "<title>139851004579736</title>\n",
       "<polygon fill=\"none\" points=\"182.5,-657.5 182.5,-693.5 357.5,-693.5 357.5,-657.5 182.5,-657.5\" stroke=\"#000000\"/>\n",
       "<text fill=\"#000000\" font-family=\"Times,serif\" font-size=\"14.00\" text-anchor=\"middle\" x=\"270\" y=\"-671.8\">apply_pad_mask_2: Lambda</text>\n",
       "</g>\n",
       "<!-- 139851004578504&#45;&gt;139851004579736 -->\n",
       "<g class=\"edge\" id=\"edge10\">\n",
       "<title>139851004578504-&gt;139851004579736</title>\n",
       "<path d=\"M386,-894.5C360.9087,-834.6586 407.3761,-809.7669 386,-748.5\" fill=\"none\" stroke=\"#000000\"/>\n",
       "<path d=\"M386,-748.5C378.3568,-725.5895 358.5393,-709.3707 337.4027,-698.1389\" fill=\"none\" stroke=\"#000000\"/>\n",
       "<polygon fill=\"#000000\" points=\"338.8094,-694.9298 328.2951,-693.6256 335.7012,-701.2019 338.8094,-694.9298\" stroke=\"#000000\"/>\n",
       "</g>\n",
       "<!-- 139851004579792 -->\n",
       "<g class=\"node\" id=\"node11\">\n",
       "<title>139851004579792</title>\n",
       "<polygon fill=\"none\" points=\"290.5,-511.5 290.5,-547.5 481.5,-547.5 481.5,-511.5 290.5,-511.5\" stroke=\"#000000\"/>\n",
       "<text fill=\"#000000\" font-family=\"Times,serif\" font-size=\"14.00\" text-anchor=\"middle\" x=\"386\" y=\"-525.8\">pool_avg_frame_conv: Lambda</text>\n",
       "</g>\n",
       "<!-- 139851004578504&#45;&gt;139851004579792 -->\n",
       "<g class=\"edge\" id=\"edge16\">\n",
       "<title>139851004578504-&gt;139851004579792</title>\n",
       "<path d=\"M386,-748.5C364.1483,-682.9994 373.3003,-600.2176 380.4644,-557.6377\" fill=\"none\" stroke=\"#000000\"/>\n",
       "<polygon fill=\"#000000\" points=\"383.9244,-558.1707 382.2229,-547.7134 377.0318,-556.9494 383.9244,-558.1707\" stroke=\"#000000\"/>\n",
       "</g>\n",
       "<!-- 139851004578112 -->\n",
       "<g class=\"node\" id=\"node5\">\n",
       "<title>139851004578112</title>\n",
       "<polygon fill=\"none\" points=\"196,-876.5 196,-912.5 344,-912.5 344,-876.5 196,-876.5\" stroke=\"#000000\"/>\n",
       "<text fill=\"#000000\" font-family=\"Times,serif\" font-size=\"14.00\" text-anchor=\"middle\" x=\"270\" y=\"-890.8\">convolution_1: Conv1D</text>\n",
       "</g>\n",
       "<!-- 139851004578728&#45;&gt;139851004578112 -->\n",
       "<g class=\"edge\" id=\"edge5\">\n",
       "<title>139851004578728-&gt;139851004578112</title>\n",
       "<path d=\"M270,-949.4551C270,-941.3828 270,-931.6764 270,-922.6817\" fill=\"none\" stroke=\"#000000\"/>\n",
       "<polygon fill=\"#000000\" points=\"273.5001,-922.5903 270,-912.5904 266.5001,-922.5904 273.5001,-922.5903\" stroke=\"#000000\"/>\n",
       "</g>\n",
       "<!-- 139851004578112&#45;&gt;139851004579288 -->\n",
       "<g class=\"edge\" id=\"edge6\">\n",
       "<title>139851004578112-&gt;139851004579288</title>\n",
       "<path d=\"M270,-876.4551C270,-868.3828 270,-858.6764 270,-849.6817\" fill=\"none\" stroke=\"#000000\"/>\n",
       "<polygon fill=\"#000000\" points=\"273.5001,-849.5903 270,-839.5904 266.5001,-849.5904 273.5001,-849.5903\" stroke=\"#000000\"/>\n",
       "</g>\n",
       "<!-- 139851004578672 -->\n",
       "<g class=\"node\" id=\"node7\">\n",
       "<title>139851004578672</title>\n",
       "<polygon fill=\"none\" points=\"196,-730.5 196,-766.5 344,-766.5 344,-730.5 196,-730.5\" stroke=\"#000000\"/>\n",
       "<text fill=\"#000000\" font-family=\"Times,serif\" font-size=\"14.00\" text-anchor=\"middle\" x=\"270\" y=\"-744.8\">convolution_2: Conv1D</text>\n",
       "</g>\n",
       "<!-- 139851004579288&#45;&gt;139851004578672 -->\n",
       "<g class=\"edge\" id=\"edge8\">\n",
       "<title>139851004579288-&gt;139851004578672</title>\n",
       "<path d=\"M270,-803.4551C270,-795.3828 270,-785.6764 270,-776.6817\" fill=\"none\" stroke=\"#000000\"/>\n",
       "<polygon fill=\"#000000\" points=\"273.5001,-776.5903 270,-766.5904 266.5001,-776.5904 273.5001,-776.5903\" stroke=\"#000000\"/>\n",
       "</g>\n",
       "<!-- 139851004578672&#45;&gt;139851004579736 -->\n",
       "<g class=\"edge\" id=\"edge9\">\n",
       "<title>139851004578672-&gt;139851004579736</title>\n",
       "<path d=\"M270,-730.4551C270,-722.3828 270,-712.6764 270,-703.6817\" fill=\"none\" stroke=\"#000000\"/>\n",
       "<polygon fill=\"#000000\" points=\"273.5001,-703.5903 270,-693.5904 266.5001,-703.5904 273.5001,-703.5903\" stroke=\"#000000\"/>\n",
       "</g>\n",
       "<!-- 139851004579344 -->\n",
       "<g class=\"node\" id=\"node9\">\n",
       "<title>139851004579344</title>\n",
       "<polygon fill=\"none\" points=\"154.5,-584.5 154.5,-620.5 357.5,-620.5 357.5,-584.5 154.5,-584.5\" stroke=\"#000000\"/>\n",
       "<text fill=\"#000000\" font-family=\"Times,serif\" font-size=\"14.00\" text-anchor=\"middle\" x=\"256\" y=\"-598.8\">frame_masking: FrameSliceLayer</text>\n",
       "</g>\n",
       "<!-- 139851004579736&#45;&gt;139851004579344 -->\n",
       "<g class=\"edge\" id=\"edge11\">\n",
       "<title>139851004579736-&gt;139851004579344</title>\n",
       "<path d=\"M266.5393,-657.4551C264.9912,-649.3828 263.1297,-639.6764 261.4047,-630.6817\" fill=\"none\" stroke=\"#000000\"/>\n",
       "<polygon fill=\"#000000\" points=\"264.7903,-629.7521 259.4694,-620.5904 257.9156,-631.0706 264.7903,-629.7521\" stroke=\"#000000\"/>\n",
       "</g>\n",
       "<!-- 139851002716232 -->\n",
       "<g class=\"node\" id=\"node10\">\n",
       "<title>139851002716232</title>\n",
       "<polygon fill=\"none\" points=\"0,-511.5 0,-547.5 272,-547.5 272,-511.5 0,-511.5\" stroke=\"#000000\"/>\n",
       "<text fill=\"#000000\" font-family=\"Times,serif\" font-size=\"14.00\" text-anchor=\"middle\" x=\"136\" y=\"-525.8\">pool_max_frame_conv: GlobalMaxPooling1D</text>\n",
       "</g>\n",
       "<!-- 139851004579344&#45;&gt;139851002716232 -->\n",
       "<g class=\"edge\" id=\"edge12\">\n",
       "<title>139851004579344-&gt;139851002716232</title>\n",
       "<path d=\"M226.3371,-584.4551C210.76,-574.979 191.4807,-563.2508 174.7383,-553.0658\" fill=\"none\" stroke=\"#000000\"/>\n",
       "<polygon fill=\"#000000\" points=\"176.1,-549.7974 165.7376,-547.5904 172.4619,-555.7778 176.1,-549.7974\" stroke=\"#000000\"/>\n",
       "</g>\n",
       "<!-- 139851004579344&#45;&gt;139851004579792 -->\n",
       "<g class=\"edge\" id=\"edge15\">\n",
       "<title>139851004579344-&gt;139851004579792</title>\n",
       "<path d=\"M288.1348,-584.4551C305.3226,-574.8035 326.6708,-562.8156 345.0383,-552.5016\" fill=\"none\" stroke=\"#000000\"/>\n",
       "<polygon fill=\"#000000\" points=\"346.7786,-555.5384 353.7843,-547.5904 343.3512,-549.4349 346.7786,-555.5384\" stroke=\"#000000\"/>\n",
       "</g>\n",
       "<!-- 139851002716344 -->\n",
       "<g class=\"node\" id=\"node12\">\n",
       "<title>139851002716344</title>\n",
       "<polygon fill=\"none\" points=\"162,-438.5 162,-474.5 360,-474.5 360,-438.5 162,-438.5\" stroke=\"#000000\"/>\n",
       "<text fill=\"#000000\" font-family=\"Times,serif\" font-size=\"14.00\" text-anchor=\"middle\" x=\"261\" y=\"-452.8\">concatenate_pooled: Concatenate</text>\n",
       "</g>\n",
       "<!-- 139851002716232&#45;&gt;139851002716344 -->\n",
       "<g class=\"edge\" id=\"edge21\">\n",
       "<title>139851002716232-&gt;139851002716344</title>\n",
       "<path d=\"M166.8989,-511.4551C183.2753,-501.8912 203.5798,-490.0334 221.1313,-479.7833\" fill=\"none\" stroke=\"#000000\"/>\n",
       "<polygon fill=\"#000000\" points=\"223.1531,-482.6558 230.0234,-474.5904 219.623,-476.6111 223.1531,-482.6558\" stroke=\"#000000\"/>\n",
       "</g>\n",
       "<!-- 139851004579792&#45;&gt;139851002716344 -->\n",
       "<g class=\"edge\" id=\"edge24\">\n",
       "<title>139851004579792-&gt;139851002716344</title>\n",
       "<path d=\"M355.1011,-511.4551C338.7247,-501.8912 318.4202,-490.0334 300.8687,-479.7833\" fill=\"none\" stroke=\"#000000\"/>\n",
       "<polygon fill=\"#000000\" points=\"302.377,-476.6111 291.9766,-474.5904 298.8469,-482.6558 302.377,-476.6111\" stroke=\"#000000\"/>\n",
       "</g>\n",
       "<!-- 139851002716400 -->\n",
       "<g class=\"node\" id=\"node13\">\n",
       "<title>139851002716400</title>\n",
       "<polygon fill=\"none\" points=\"188.5,-365.5 188.5,-401.5 333.5,-401.5 333.5,-365.5 188.5,-365.5\" stroke=\"#000000\"/>\n",
       "<text fill=\"#000000\" font-family=\"Times,serif\" font-size=\"14.00\" text-anchor=\"middle\" x=\"261\" y=\"-379.8\">fully_connected: Dense</text>\n",
       "</g>\n",
       "<!-- 139851002716344&#45;&gt;139851002716400 -->\n",
       "<g class=\"edge\" id=\"edge27\">\n",
       "<title>139851002716344-&gt;139851002716400</title>\n",
       "<path d=\"M261,-438.4551C261,-430.3828 261,-420.6764 261,-411.6817\" fill=\"none\" stroke=\"#000000\"/>\n",
       "<polygon fill=\"#000000\" points=\"264.5001,-411.5903 261,-401.5904 257.5001,-411.5904 264.5001,-411.5903\" stroke=\"#000000\"/>\n",
       "</g>\n",
       "<!-- 139851002716456 -->\n",
       "<g class=\"node\" id=\"node14\">\n",
       "<title>139851002716456</title>\n",
       "<polygon fill=\"none\" points=\"197,-292.5 197,-328.5 325,-328.5 325,-292.5 197,-292.5\" stroke=\"#000000\"/>\n",
       "<text fill=\"#000000\" font-family=\"Times,serif\" font-size=\"14.00\" text-anchor=\"middle\" x=\"261\" y=\"-306.8\">fc_dropout: Dropout</text>\n",
       "</g>\n",
       "<!-- 139851002716400&#45;&gt;139851002716456 -->\n",
       "<g class=\"edge\" id=\"edge28\">\n",
       "<title>139851002716400-&gt;139851002716456</title>\n",
       "<path d=\"M261,-365.4551C261,-357.3828 261,-347.6764 261,-338.6817\" fill=\"none\" stroke=\"#000000\"/>\n",
       "<polygon fill=\"#000000\" points=\"264.5001,-338.5903 261,-328.5904 257.5001,-338.5904 264.5001,-338.5903\" stroke=\"#000000\"/>\n",
       "</g>\n",
       "<!-- 139851002716792 -->\n",
       "<g class=\"node\" id=\"node15\">\n",
       "<title>139851002716792</title>\n",
       "<polygon fill=\"none\" points=\"174.5,-219.5 174.5,-255.5 347.5,-255.5 347.5,-219.5 174.5,-219.5\" stroke=\"#000000\"/>\n",
       "<text fill=\"#000000\" font-family=\"Times,serif\" font-size=\"14.00\" text-anchor=\"middle\" x=\"261\" y=\"-233.8\">mrl_output_unscaled: Dense</text>\n",
       "</g>\n",
       "<!-- 139851002716456&#45;&gt;139851002716792 -->\n",
       "<g class=\"edge\" id=\"edge29\">\n",
       "<title>139851002716456-&gt;139851002716792</title>\n",
       "<path d=\"M261,-292.4551C261,-284.3828 261,-274.6764 261,-265.6817\" fill=\"none\" stroke=\"#000000\"/>\n",
       "<polygon fill=\"#000000\" points=\"264.5001,-265.5903 261,-255.5904 257.5001,-265.5904 264.5001,-265.5903\" stroke=\"#000000\"/>\n",
       "</g>\n",
       "<!-- 139851002717352 -->\n",
       "<g class=\"node\" id=\"node17\">\n",
       "<title>139851002717352</title>\n",
       "<polygon fill=\"none\" points=\"269.5,-146.5 269.5,-182.5 428.5,-182.5 428.5,-146.5 269.5,-146.5\" stroke=\"#000000\"/>\n",
       "<text fill=\"#000000\" font-family=\"Times,serif\" font-size=\"14.00\" text-anchor=\"middle\" x=\"349\" y=\"-160.8\">interaction_term: Lambda</text>\n",
       "</g>\n",
       "<!-- 139851002716792&#45;&gt;139851002717352 -->\n",
       "<g class=\"edge\" id=\"edge30\">\n",
       "<title>139851002716792-&gt;139851002717352</title>\n",
       "<path d=\"M282.7528,-219.4551C293.753,-210.3299 307.2706,-199.1165 319.2203,-189.2036\" fill=\"none\" stroke=\"#000000\"/>\n",
       "<polygon fill=\"#000000\" points=\"321.7305,-191.6688 327.1924,-182.5904 317.2613,-186.2812 321.7305,-191.6688\" stroke=\"#000000\"/>\n",
       "</g>\n",
       "<!-- 139851002716848 -->\n",
       "<g class=\"node\" id=\"node16\">\n",
       "<title>139851002716848</title>\n",
       "<polygon fill=\"none\" points=\"366,-219.5 366,-255.5 546,-255.5 546,-219.5 366,-219.5\" stroke=\"#000000\"/>\n",
       "<text fill=\"#000000\" font-family=\"Times,serif\" font-size=\"14.00\" text-anchor=\"middle\" x=\"456\" y=\"-233.8\">input_experiment: InputLayer</text>\n",
       "</g>\n",
       "<!-- 139851002716848&#45;&gt;139851002717352 -->\n",
       "<g class=\"edge\" id=\"edge31\">\n",
       "<title>139851002716848-&gt;139851002717352</title>\n",
       "<path d=\"M429.5506,-219.4551C415.7896,-210.0667 398.7884,-198.4678 383.9569,-188.3491\" fill=\"none\" stroke=\"#000000\"/>\n",
       "<polygon fill=\"#000000\" points=\"385.7492,-185.3349 375.516,-182.5904 381.8041,-191.1174 385.7492,-185.3349\" stroke=\"#000000\"/>\n",
       "</g>\n",
       "<!-- 139851002717184 -->\n",
       "<g class=\"node\" id=\"node18\">\n",
       "<title>139851002717184</title>\n",
       "<polygon fill=\"none\" points=\"305,-73.5 305,-109.5 499,-109.5 499,-73.5 305,-73.5\" stroke=\"#000000\"/>\n",
       "<text fill=\"#000000\" font-family=\"Times,serif\" font-size=\"14.00\" text-anchor=\"middle\" x=\"402\" y=\"-87.8\">prepare_regression: Concatenate</text>\n",
       "</g>\n",
       "<!-- 139851002716848&#45;&gt;139851002717184 -->\n",
       "<g class=\"edge\" id=\"edge33\">\n",
       "<title>139851002716848-&gt;139851002717184</title>\n",
       "<path d=\"M454.525,-219.3658C452.5131,-200.4632 447.9471,-170.2681 438,-146 434.042,-136.3436 428.2772,-126.5867 422.5162,-118.0494\" fill=\"none\" stroke=\"#000000\"/>\n",
       "<polygon fill=\"#000000\" points=\"425.2147,-115.8029 416.5899,-109.6495 419.495,-119.8383 425.2147,-115.8029\" stroke=\"#000000\"/>\n",
       "</g>\n",
       "<!-- 139851002717352&#45;&gt;139851002717184 -->\n",
       "<g class=\"edge\" id=\"edge32\">\n",
       "<title>139851002717352-&gt;139851002717184</title>\n",
       "<path d=\"M362.1011,-146.4551C368.344,-137.8564 375.9332,-127.4034 382.8099,-117.9316\" fill=\"none\" stroke=\"#000000\"/>\n",
       "<polygon fill=\"#000000\" points=\"385.823,-119.7388 388.8659,-109.5904 380.1585,-115.6262 385.823,-119.7388\" stroke=\"#000000\"/>\n",
       "</g>\n",
       "<!-- 139851002717240 -->\n",
       "<g class=\"node\" id=\"node19\">\n",
       "<title>139851002717240</title>\n",
       "<polygon fill=\"none\" points=\"323,-.5 323,-36.5 481,-36.5 481,-.5 323,-.5\" stroke=\"#000000\"/>\n",
       "<text fill=\"#000000\" font-family=\"Times,serif\" font-size=\"14.00\" text-anchor=\"middle\" x=\"402\" y=\"-14.8\">scaling_regression: Dense</text>\n",
       "</g>\n",
       "<!-- 139851002717184&#45;&gt;139851002717240 -->\n",
       "<g class=\"edge\" id=\"edge34\">\n",
       "<title>139851002717184-&gt;139851002717240</title>\n",
       "<path d=\"M402,-73.4551C402,-65.3828 402,-55.6764 402,-46.6817\" fill=\"none\" stroke=\"#000000\"/>\n",
       "<polygon fill=\"#000000\" points=\"405.5001,-46.5903 402,-36.5904 398.5001,-46.5904 405.5001,-46.5903\" stroke=\"#000000\"/>\n",
       "</g>\n",
       "</g>\n",
       "</svg>"
      ],
      "text/plain": [
       "<IPython.core.display.SVG object>"
      ]
     },
     "execution_count": 73,
     "metadata": {},
     "output_type": "execute_result"
    }
   ],
   "source": [
    "SVG(model_to_dot(utr_model).create(prog='dot', format='svg'))"
   ]
  },
  {
   "cell_type": "markdown",
   "metadata": {},
   "source": [
    "The architecture is overall very similar to the model in the paper: we first stack three convolutional layers to detect motifs. However, instead of following this by a dense layer directly (which forces the csize to be fixed) we instead use global max and average pooling operations on the convolutional to record which motifs were detected. In order to differentiate in which frame a motif is found, we perform ther pooling operations on each frame seperately. The pooled motif data is then fed into a dense layer. Lastly, we train a scaling regression (which consists simply of estimating interaction terms between the \"unscaled mrl\" (output of the dense layer) and the library indicator) to avoid having to prenormalize the output data. We can then freeze all layers except this final scaling regression and retrain the regression to adapt the model to the (linear) bias of other libraries."
   ]
  },
  {
   "cell_type": "code",
   "execution_count": 5,
   "metadata": {},
   "outputs": [
    {
     "name": "stdout",
     "output_type": "stream",
     "text": [
      "WARNING:tensorflow:From /data/ouga04b/ag_gagneur/home/karollus/.conda/envs/karollus-env/lib/python3.6/site-packages/tensorflow/python/ops/math_ops.py:3066: to_int32 (from tensorflow.python.ops.math_ops) is deprecated and will be removed in a future version.\n",
      "Instructions for updating:\n",
      "Use tf.cast instead.\n",
      "WARNING:tensorflow:From /data/ouga04b/ag_gagneur/home/karollus/.conda/envs/karollus-env/lib/python3.6/site-packages/tensorflow/python/ops/math_grad.py:102: div (from tensorflow.python.ops.math_ops) is deprecated and will be removed in a future version.\n",
      "Instructions for updating:\n",
      "Deprecated in favor of operator or tf.math.divide.\n",
      "Train on 240000 samples, validate on 20000 samples\n",
      "Epoch 1/10\n",
      "240000/240000 [==============================] - 46s 190us/step - loss: 2.1368 - val_loss: 0.7529\n",
      "\n",
      "Epoch 00001: val_loss improved from inf to 0.75293, saving model to basic_model.h5\n",
      "Epoch 2/10\n",
      "240000/240000 [==============================] - 27s 112us/step - loss: 1.1072 - val_loss: 0.5164\n",
      "\n",
      "Epoch 00002: val_loss improved from 0.75293 to 0.51640, saving model to basic_model.h5\n",
      "Epoch 3/10\n",
      "240000/240000 [==============================] - 26s 109us/step - loss: 0.8062 - val_loss: 0.3507\n",
      "\n",
      "Epoch 00003: val_loss improved from 0.51640 to 0.35067, saving model to basic_model.h5\n",
      "Epoch 4/10\n",
      "240000/240000 [==============================] - 26s 109us/step - loss: 0.6032 - val_loss: 0.3034\n",
      "\n",
      "Epoch 00004: val_loss improved from 0.35067 to 0.30342, saving model to basic_model.h5\n",
      "Epoch 5/10\n",
      "240000/240000 [==============================] - 26s 110us/step - loss: 0.4813 - val_loss: 0.2714\n",
      "\n",
      "Epoch 00005: val_loss improved from 0.30342 to 0.27136, saving model to basic_model.h5\n",
      "Epoch 6/10\n",
      "240000/240000 [==============================] - 26s 109us/step - loss: 0.4258 - val_loss: 0.2614\n",
      "\n",
      "Epoch 00006: val_loss improved from 0.27136 to 0.26138, saving model to basic_model.h5\n",
      "Epoch 7/10\n",
      "240000/240000 [==============================] - 26s 108us/step - loss: 0.3992 - val_loss: 0.2841\n",
      "\n",
      "Epoch 00007: val_loss did not improve from 0.26138\n",
      "Epoch 8/10\n",
      "240000/240000 [==============================] - 26s 107us/step - loss: 0.3769 - val_loss: 0.2642\n",
      "\n",
      "Epoch 00008: val_loss did not improve from 0.26138\n",
      "Epoch 9/10\n",
      "240000/240000 [==============================] - 26s 107us/step - loss: 0.3623 - val_loss: 0.2594\n",
      "\n",
      "Epoch 00009: val_loss improved from 0.26138 to 0.25938, saving model to basic_model.h5\n",
      "Epoch 10/10\n",
      "240000/240000 [==============================] - 26s 108us/step - loss: 0.3469 - val_loss: 0.2443\n",
      "\n",
      "Epoch 00010: val_loss improved from 0.25938 to 0.24431, saving model to basic_model.h5\n"
     ]
    }
   ],
   "source": [
    "utils.train(utr_model, encoded_data, libraries=[\"egfp_unmod_1\"], epochs=10, file=\"basic_model.h5\")\n",
    "utr_model = load_model(\"basic_model.h5\", custom_objects={'FrameSliceLayer': model.FrameSliceLayer})"
   ]
  },
  {
   "cell_type": "code",
   "execution_count": 19,
   "metadata": {},
   "outputs": [
    {
     "name": "stdout",
     "output_type": "stream",
     "text": [
      "Rsquared on set egfp_unmod_1 : 0.9163455006408178, Pearson: 0.9183208437544119\n"
     ]
    }
   ],
   "source": [
    "pred = utils.evaluate(utr_model, encoded_data, libraries=[\"egfp_unmod_1\"])"
   ]
  },
  {
   "cell_type": "markdown",
   "metadata": {},
   "source": [
    "We retrain the scaling regression to the different libraries to account for (linear) library bias"
   ]
  },
  {
   "cell_type": "code",
   "execution_count": 8,
   "metadata": {},
   "outputs": [
    {
     "name": "stdout",
     "output_type": "stream",
     "text": [
      "Epoch 1/2\n",
      "580244/580244 [==============================] - 29s 50us/step - loss: 4.4942\n",
      "Epoch 2/2\n",
      "580244/580244 [==============================] - 28s 49us/step - loss: 0.3789\n"
     ]
    }
   ],
   "source": [
    "utr_model = utils.retrain_only_scaling(utr_model, encoded_data, libraries=['mcherry_1', 'mcherry_2', 'egfp_unmod_2', 'ga'], batch_size=128, epochs=2)"
   ]
  },
  {
   "cell_type": "markdown",
   "metadata": {},
   "source": [
    "### Evaluate the model on the validation and test sets"
   ]
  },
  {
   "cell_type": "code",
   "execution_count": 20,
   "metadata": {},
   "outputs": [
    {
     "name": "stdout",
     "output_type": "stream",
     "text": [
      "Rsquared on set egfp_unmod_1 : 0.9163455006408178, Pearson: 0.9183208437544119\n",
      "Rsquared on set mcherry_1 : 0.7298644197431161, Pearson: 0.7378083956616457\n",
      "Rsquared on set mcherry_2 : 0.757556190335418, Pearson: 0.7743853773884886\n",
      "Rsquared on set egfp_unmod_2 : 0.8548567809349185, Pearson: 0.8566229008427332\n",
      "Rsquared on set human : 0.7737906060428292, Pearson: 0.7740032482707502\n"
     ]
    }
   ],
   "source": [
    "## Validation set performance\n",
    "utils.evaluate(utr_model, encoded_data, libraries=['egfp_unmod_1', 'mcherry_1', 'mcherry_2', 'egfp_unmod_2', 'human'])"
   ]
  },
  {
   "cell_type": "code",
   "execution_count": 21,
   "metadata": {},
   "outputs": [
    {
     "name": "stdout",
     "output_type": "stream",
     "text": [
      "Rsquared on set egfp_unmod_1 : 0.9209296221409426, Pearson: 0.9264497251348448\n",
      "Rsquared on set mcherry_1 : 0.6955460997531262, Pearson: 0.7089517007671915\n",
      "Rsquared on set mcherry_2 : 0.758614236721261, Pearson: 0.7735984417063653\n",
      "Rsquared on set egfp_unmod_2 : 0.8524645464901243, Pearson: 0.8529734815686074\n"
     ]
    }
   ],
   "source": [
    "## Test set performance\n",
    "utils.evaluate(utr_model, encoded_data, libraries=['egfp_unmod_1', 'mcherry_1', 'mcherry_2', 'egfp_unmod_2'], do_test=True)"
   ]
  },
  {
   "cell_type": "markdown",
   "metadata": {},
   "source": [
    "The performance is slightly worse but overall similar to the model limited to 50bp presented in the paper. Given that this model has a tighter bottleneck (its dense layer only knows which motives are present, but has no direct information as to their location) in order to tackle a more comprehensive task, this is not too bad. Also, while the 70% for mcherry_1 seems a lot worse than the paper, this may be down to some weird inconsistency between how the mcherry_1 test sets were defined. Because using the model on github, I cannot replicate the 77% claimed in the biorxiv paper either:"
   ]
  },
  {
   "cell_type": "code",
   "execution_count": 188,
   "metadata": {},
   "outputs": [
    {
     "data": {
      "text/plain": [
       "0.6890449813218754"
      ]
     },
     "execution_count": 188,
     "metadata": {},
     "output_type": "execute_result"
    }
   ],
   "source": [
    "paper_model = load_model(\"../Models/retrained_main_MRL_model.hdf5\")\n",
    "inputs = encoded_data[\"test\"][\"mcherry_1\"][\"seq\"]\n",
    "predictions = paper_model.predict(inputs)\n",
    "stats.pearsonr(predictions.reshape(-1), encoded_data[\"test\"][\"mcherry_1\"][\"rl\"])[0] ** 2"
   ]
  },
  {
   "cell_type": "markdown",
   "metadata": {},
   "source": [
    "### Additional validation on snv data and in-vivo ptr (protein to mrna ratio) data"
   ]
  },
  {
   "cell_type": "code",
   "execution_count": 49,
   "metadata": {},
   "outputs": [
    {
     "name": "stdout",
     "output_type": "stream",
     "text": [
      "Pearson snv : 0.7006297466531879\n",
      "Pearson wt : 0.5572757134289003\n",
      "Rsquared fold-change: 0.5296161521706992\n"
     ]
    }
   ],
   "source": [
    "utils.eval_snv(utr_model, snv_encoded, snv_df)"
   ]
  },
  {
   "cell_type": "code",
   "execution_count": 50,
   "metadata": {},
   "outputs": [
    {
     "data": {
      "image/png": "[encoded data removed]",
      "text/plain": [
       "<Figure size 720x720 with 1 Axes>"
      ]
     },
     "metadata": {
      "needs_background": "light"
     },
     "output_type": "display_data"
    }
   ],
   "source": [
    "utils.plot_snv(snv_df)"
   ]
  },
  {
   "cell_type": "markdown",
   "metadata": {},
   "source": [
    "While the r-squared is slightly worse, the plot looks very similar to the one in the paper"
   ]
  },
  {
   "cell_type": "code",
   "execution_count": 74,
   "metadata": {},
   "outputs": [
    {
     "name": "stdout",
     "output_type": "stream",
     "text": [
      "PTR Pearson: 0.020850759712858418 p-val: 5.701797237182115e-55\n"
     ]
    },
    {
     "data": {
      "image/png": "[encoded data removed]",
      "text/plain": [
       "<Figure size 432x288 with 1 Axes>"
      ]
     },
     "metadata": {
      "needs_background": "light"
     },
     "output_type": "display_data"
    }
   ],
   "source": [
    "reload(utils)\n",
    "utils.eval_ptr(utr_model, ptr_encoded, ptr_df)\n",
    "\n",
    "x = sns.regplot(x='MRL', y=\"PTR\", data=ptr_df, line_kws={\"color\":\"b\"}).get_figure()"
   ]
  },
  {
   "cell_type": "markdown",
   "metadata": {},
   "source": [
    "The PTR (protein to mRNA ratio) data comes from the paper \"Quantification and discovery of sequence determinants of protein-per-mRNA amount in 29 human tissues\" (Eraslan et al.)\n",
    "\n",
    "This rsquared of 2% seems quite unimpressive, but, to be fair, the ptr data is (a) very noisy (lots of missing values, averaged over quite different tissues), (b) measures quite a different outcome (as ptr depends not just on ribosome load but also on mrna stability, and thus it is concievable that a lot of the error comes from (i) non-5-utr features or (ii) stability effects counteracting ribosome loading effects (e.g. in frame uAUG impacting stability but not mlr)) and (c) comes from a different cell context than what the model was trained on (so different RBP/trans-acting factors are present in different concentrations etc than what the model expects)\n",
    "What it does show however, is that the models predictions positively correlate with other measures of translational efficiency. In the notebook \"Ribo\" I have performed a similar analysis for ribosome profiling data. Again the correlations are limited but positive."
   ]
  },
  {
   "cell_type": "code",
   "execution_count": 66,
   "metadata": {},
   "outputs": [],
   "source": [
    "## As comparison, we instead load the model limited to 50bp and check its perfromance on ptr data\n",
    "paper_model = load_model(\"../Models/retrained_main_MRL_model.hdf5\")\n",
    "\n",
    "ptr_df_50 = ptr_df.copy()\n",
    "ptr_df_50[\"utr\"] = ptr_df[\"utr\"].str[-50:]\n",
    "ptr_encoded_50 = utils.encode_df(ptr_df_50, col=\"utr\", output_col=None, variable_len=True)"
   ]
  },
  {
   "cell_type": "code",
   "execution_count": 69,
   "metadata": {},
   "outputs": [
    {
     "name": "stdout",
     "output_type": "stream",
     "text": [
      "PTR Pearson: 0.010355612940373288 p-val: 5.003781844894933e-28\n"
     ]
    }
   ],
   "source": [
    "inputs = ptr_encoded_50[\"seq\"]\n",
    "predictions = paper_model.predict(inputs)\n",
    "ptr_df_50[\"MRL\"] = predictions.reshape(-1)\n",
    "pearson = utils.pearson_r(ptr_df_50[\"MRL\"],ptr_df_50[\"PTR\"])\n",
    "print(\"PTR Pearson: \" + str(pearson[0]) + \" p-val: \" + str(pearson[1]))"
   ]
  },
  {
   "cell_type": "markdown",
   "metadata": {},
   "source": [
    "Somewhat unsurprisingly, looking at the whole 5-utr sequence does improve results"
   ]
  },
  {
   "cell_type": "code",
   "execution_count": 75,
   "metadata": {},
   "outputs": [],
   "source": [
    "utr_model.save(\"../Models/basic_model_scaled.h5\")"
   ]
  },
  {
   "cell_type": "markdown",
   "metadata": {},
   "source": [
    "### Try fancy architectures"
   ]
  },
  {
   "cell_type": "markdown",
   "metadata": {},
   "source": [
    "One can attempt to imporve upon the architecture in a variety of ways. However, in general it seems that this does not achieve much, since more complicated architectures tend to also have more ability to adapt to the fixed-size training data (e.g. through larger receptive fields eventually seeing almost the entire input) and as a result generalize less well to variable-sized contexts. Possibly, more constraints could be introduced in order to allow complex architectures to nevertheless generalize"
   ]
  },
  {
   "cell_type": "code",
   "execution_count": 207,
   "metadata": {},
   "outputs": [],
   "source": [
    "reload(model)\n",
    "new_model = model.create_model_masked_bordered(n_conv_layers=7, kernel_size=[8,8,3,3,3,3,3,3,3,3], dilations=[1,1,2,4,6,8,16], \n",
    "                                               n_filters=32, skip_connections=\"dense\")"
   ]
  },
  {
   "cell_type": "code",
   "execution_count": 208,
   "metadata": {},
   "outputs": [
    {
     "name": "stdout",
     "output_type": "stream",
     "text": [
      "Train on 265244 samples, validate on 20000 samples\n",
      "Epoch 1/20\n",
      " - 74s - loss: 1.5955 - val_loss: 0.5859\n",
      "\n",
      "Epoch 00001: val_loss improved from inf to 0.58594, saving model to basic_model.h5\n",
      "Epoch 2/20\n",
      " - 50s - loss: 0.8545 - val_loss: 0.3595\n",
      "\n",
      "Epoch 00002: val_loss improved from 0.58594 to 0.35954, saving model to basic_model.h5\n",
      "Epoch 3/20\n",
      " - 50s - loss: 0.5844 - val_loss: 0.2711\n",
      "\n",
      "Epoch 00003: val_loss improved from 0.35954 to 0.27108, saving model to basic_model.h5\n",
      "Epoch 4/20\n",
      " - 50s - loss: 0.4583 - val_loss: 0.2530\n",
      "\n",
      "Epoch 00004: val_loss improved from 0.27108 to 0.25298, saving model to basic_model.h5\n",
      "Epoch 5/20\n",
      " - 49s - loss: 0.4248 - val_loss: 0.2427\n",
      "\n",
      "Epoch 00005: val_loss improved from 0.25298 to 0.24272, saving model to basic_model.h5\n",
      "Epoch 6/20\n",
      " - 50s - loss: 0.4113 - val_loss: 0.2380\n",
      "\n",
      "Epoch 00006: val_loss improved from 0.24272 to 0.23804, saving model to basic_model.h5\n",
      "Epoch 7/20\n",
      " - 51s - loss: 0.3845 - val_loss: 0.2154\n",
      "\n",
      "Epoch 00007: val_loss improved from 0.23804 to 0.21539, saving model to basic_model.h5\n",
      "Epoch 8/20\n",
      " - 51s - loss: 0.3616 - val_loss: 0.2190\n",
      "\n",
      "Epoch 00008: val_loss did not improve from 0.21539\n",
      "Epoch 9/20\n",
      " - 51s - loss: 0.3522 - val_loss: 0.2377\n",
      "\n",
      "Epoch 00009: val_loss did not improve from 0.21539\n",
      "Epoch 10/20\n",
      " - 51s - loss: 0.3462 - val_loss: 0.2152\n",
      "\n",
      "Epoch 00010: val_loss improved from 0.21539 to 0.21523, saving model to basic_model.h5\n",
      "Epoch 11/20\n",
      " - 51s - loss: 0.3413 - val_loss: 0.2308\n",
      "\n",
      "Epoch 00011: val_loss did not improve from 0.21523\n",
      "Epoch 12/20\n",
      " - 51s - loss: 0.3374 - val_loss: 0.2044\n",
      "\n",
      "Epoch 00012: val_loss improved from 0.21523 to 0.20437, saving model to basic_model.h5\n",
      "Epoch 13/20\n",
      " - 51s - loss: 0.3317 - val_loss: 0.2028\n",
      "\n",
      "Epoch 00013: val_loss improved from 0.20437 to 0.20280, saving model to basic_model.h5\n",
      "Epoch 14/20\n",
      " - 51s - loss: 0.3258 - val_loss: 0.1974\n",
      "\n",
      "Epoch 00014: val_loss improved from 0.20280 to 0.19743, saving model to basic_model.h5\n",
      "Epoch 15/20\n",
      " - 50s - loss: 0.3239 - val_loss: 0.2178\n",
      "\n",
      "Epoch 00015: val_loss did not improve from 0.19743\n",
      "Epoch 16/20\n",
      " - 51s - loss: 0.3197 - val_loss: 0.2204\n",
      "\n",
      "Epoch 00016: val_loss did not improve from 0.19743\n",
      "Epoch 17/20\n",
      " - 51s - loss: 0.3166 - val_loss: 0.2060\n",
      "\n",
      "Epoch 00017: val_loss did not improve from 0.19743\n",
      "Epoch 00017: early stopping\n",
      "Epoch 1/3\n",
      " - 79s - loss: 3.8552\n",
      "Epoch 2/3\n",
      " - 53s - loss: 0.3220\n",
      "Epoch 3/3\n",
      " - 53s - loss: 0.2886\n",
      "Rsquared on set egfp_unmod_1 : 0.9323998303313983, Pearson: 0.9331056299518526\n",
      "Rsquared on set mcherry_1 : 0.7406344692683138, Pearson: 0.7408090764453531\n",
      "Rsquared on set mcherry_2 : 0.7772345066916362, Pearson: 0.7777451221130622\n",
      "Rsquared on set egfp_unmod_2 : 0.8701109382652126, Pearson: 0.8727181670956092\n",
      "Rsquared on set human : 0.812568797371044, Pearson: 0.8143664928268836\n",
      "Rsquared on set egfp_unmod_1 : 0.9375450706310577, Pearson: 0.9403069383512025\n",
      "Rsquared on set mcherry_1 : 0.7140511418467645, Pearson: 0.7144062492812995\n",
      "Rsquared on set mcherry_2 : 0.7798441419999085, Pearson: 0.7811881689346447\n",
      "Rsquared on set egfp_unmod_2 : 0.8652792409222658, Pearson: 0.8691678445366761\n",
      "Pearson snv : 0.7478427737025334\n",
      "Pearson wt : 0.6069435607178554\n",
      "Rsquared fold-change: 0.5512221048110613\n",
      "PTR Pearson: 0.018506999329822728 p-val: 6.164454527984111e-49\n"
     ]
    }
   ],
   "source": [
    "utils.train(new_model, encoded_data, libraries=[\"egfp_unmod_1\", \"ga\"], epochs=20, file=\"basic_model.h5\")\n",
    "\n",
    "new_model = load_model(\"basic_model.h5\", custom_objects={'FrameSliceLayer': model.FrameSliceLayer})\n",
    "\n",
    "new_model = utils.retrain_only_scaling(new_model, encoded_data, libraries=[\"mcherry_1\", 'mcherry_2', 'egfp_unmod_2', 'ga'], batch_size=128, epochs=3)\n",
    "\n",
    "## Validation set performance\n",
    "utils.evaluate(new_model, encoded_data, libraries=['egfp_unmod_1', 'mcherry_1', 'mcherry_2', 'egfp_unmod_2', 'human'])\n",
    "## Test set performance\n",
    "utils.evaluate(new_model, encoded_data, libraries=['egfp_unmod_1', 'mcherry_1', 'mcherry_2', 'egfp_unmod_2'], do_test=True)\n",
    "## snv performance\n",
    "utils.eval_snv(new_model, snv_encoded, snv_df)\n",
    "## ptr performance\n",
    "utils.eval_ptr(new_model, ptr_encoded, ptr_df)"
   ]
  },
  {
   "cell_type": "code",
   "execution_count": 217,
   "metadata": {},
   "outputs": [],
   "source": [
    "new_model.save(\"../Models/dense7_dilated_scaled.h5\")"
   ]
  },
  {
   "cell_type": "code",
   "execution_count": 218,
   "metadata": {},
   "outputs": [],
   "source": [
    "new_model = load_model(\"../Models/dense7_dilated_scaled.h5\", custom_objects={'FrameSliceLayer': model.FrameSliceLayer})"
   ]
  },
  {
   "cell_type": "markdown",
   "metadata": {},
   "source": [
    "### FrameShift validation\n",
    "To ensure that the frameshift works correctly and allows the model to distinguish between in-frame and out-of-frame motives, we slide a Kozak motif (GCCACCATG) through a random sequence and check the predictions."
   ]
  },
  {
   "cell_type": "code",
   "execution_count": 3,
   "metadata": {},
   "outputs": [
    {
     "name": "stdout",
     "output_type": "stream",
     "text": [
      "WARNING:tensorflow:From /data/ouga04b/ag_gagneur/home/karollus/.conda/envs/karollus-env/lib/python3.6/site-packages/tensorflow/python/framework/op_def_library.py:263: colocate_with (from tensorflow.python.framework.ops) is deprecated and will be removed in a future version.\n",
      "Instructions for updating:\n",
      "Colocations handled automatically by placer.\n",
      "WARNING:tensorflow:From /data/ouga04b/ag_gagneur/home/karollus/.conda/envs/karollus-env/lib/python3.6/site-packages/keras/backend/tensorflow_backend.py:3445: calling dropout (from tensorflow.python.ops.nn_ops) with keep_prob is deprecated and will be removed in a future version.\n",
      "Instructions for updating:\n",
      "Please use `rate` instead of `keep_prob`. Rate should be set to `rate = 1 - keep_prob`.\n",
      "WARNING:tensorflow:From /data/ouga04b/ag_gagneur/home/karollus/.conda/envs/karollus-env/lib/python3.6/site-packages/tensorflow/python/ops/math_ops.py:3066: to_int32 (from tensorflow.python.ops.math_ops) is deprecated and will be removed in a future version.\n",
      "Instructions for updating:\n",
      "Use tf.cast instead.\n"
     ]
    }
   ],
   "source": [
    "base_model = load_model(\"../Models/basic_model_scaled.h5\", custom_objects={'FrameSliceLayer': model.FrameSliceLayer})"
   ]
  },
  {
   "cell_type": "code",
   "execution_count": 5,
   "metadata": {},
   "outputs": [
    {
     "data": {
      "image/png": "[encoded data removed]",
      "text/plain": [
       "<Figure size 432x288 with 1 Axes>"
      ]
     },
     "metadata": {
      "needs_background": "light"
     },
     "output_type": "display_data"
    }
   ],
   "source": [
    "uAUG_pred = utils.check_uAUG_detection(base_model, seq_length=501, samples=100, kozak=True)\n",
    "utils.uAUG_plot(uAUG_pred)"
   ]
  },
  {
   "cell_type": "markdown",
   "metadata": {},
   "source": [
    "The blue line, representing in-frame kozak motifs, shows a consistently higher mrl, as we would expect. At the borders, we have somewhat different behaviour. It is not entirely clear if this behaviour is learned or the result of the convolutional filters not being able to detect the motif properly at the border."
   ]
  },
  {
   "cell_type": "markdown",
   "metadata": {},
   "source": [
    "### Changed padding to same"
   ]
  },
  {
   "cell_type": "code",
   "execution_count": 34,
   "metadata": {},
   "outputs": [],
   "source": [
    "reload(model)\n",
    "new_model = model.create_model_masked_bordered(n_conv_layers=3, \n",
    "                        kernel_size=[8,8,8], n_filters=128,\n",
    "                        padding=\"same\", use_batchnorm=False,\n",
    "                        skip_connections=\"\")"
   ]
  },
  {
   "cell_type": "code",
   "execution_count": null,
   "metadata": {},
   "outputs": [],
   "source": [
    "utils.train(new_model, encoded_data, libraries=[\"egfp_unmod_1\", \"ga\"], epochs=20, file=\"basic_model.h5\")"
   ]
  },
  {
   "cell_type": "code",
   "execution_count": 39,
   "metadata": {},
   "outputs": [
    {
     "name": "stdout",
     "output_type": "stream",
     "text": [
      "Epoch 1/3\n",
      " - 34s - loss: 3.6798\n",
      "Epoch 2/3\n",
      " - 32s - loss: 0.3573\n",
      "Epoch 3/3\n",
      " - 31s - loss: 0.2826\n",
      "Rsquared on set egfp_unmod_1 : 0.9196439205744261, Pearson: 0.9198482902035143\n",
      "Rsquared on set mcherry_1 : 0.7251934929157047, Pearson: 0.7252096157459952\n",
      "Rsquared on set mcherry_2 : 0.7646669380516886, Pearson: 0.7684385030345778\n",
      "Rsquared on set egfp_unmod_2 : 0.8662873817941781, Pearson: 0.8687104474215319\n",
      "Rsquared on set human : 0.8008152024330787, Pearson: 0.8010502743109039\n",
      "Rsquared on set egfp_unmod_1 : 0.925637602490822, Pearson: 0.9273304322250697\n",
      "Rsquared on set mcherry_1 : 0.6959505856243182, Pearson: 0.6969570792360299\n",
      "Rsquared on set mcherry_2 : 0.7627652474664502, Pearson: 0.7684063930675804\n",
      "Rsquared on set egfp_unmod_2 : 0.8587693309556981, Pearson: 0.8621750129982805\n",
      "Pearson snv : 0.7525152476375786\n",
      "Pearson wt : 0.6100476998671412\n",
      "Rsquared fold-change: 0.5283301745978579\n",
      "PTR Pearson: 0.02055019595532489 p-val: 3.391840300501331e-54\n"
     ]
    }
   ],
   "source": [
    "new_model = load_model(\"basic_model.h5\", custom_objects={'FrameSliceLayer': model.FrameSliceLayer})\n",
    "\n",
    "new_model = utils.retrain_only_scaling(new_model, encoded_data, libraries=[\"mcherry_1\", 'mcherry_2', 'egfp_unmod_2', 'ga'], batch_size=128, epochs=3)\n",
    "\n",
    "## Validation set performance\n",
    "utils.evaluate(new_model, encoded_data, libraries=['egfp_unmod_1', 'mcherry_1', 'mcherry_2', 'egfp_unmod_2', 'human'])\n",
    "## Test set performance\n",
    "utils.evaluate(new_model, encoded_data, libraries=['egfp_unmod_1', 'mcherry_1', 'mcherry_2', 'egfp_unmod_2'], do_test=True)\n",
    "## snv performance\n",
    "utils.eval_snv(new_model, snv_encoded, snv_df)\n",
    "## ptr performance\n",
    "utils.eval_ptr(new_model, ptr_encoded, ptr_df)"
   ]
  },
  {
   "cell_type": "code",
   "execution_count": 38,
   "metadata": {},
   "outputs": [
    {
     "data": {
      "image/png": "[encoded data removed]",
      "text/plain": [
       "<Figure size 432x288 with 1 Axes>"
      ]
     },
     "metadata": {
      "needs_background": "light"
     },
     "output_type": "display_data"
    }
   ],
   "source": [
    "uAUG_pred = utils.check_uAUG_detection(new_model, seq_length=501, samples=100, kozak=True)\n",
    "utils.uAUG_plot(uAUG_pred)"
   ]
  },
  {
   "cell_type": "code",
   "execution_count": 42,
   "metadata": {},
   "outputs": [
    {
     "data": {
      "image/png": "[encoded data removed]",
      "text/plain": [
       "<Figure size 432x288 with 1 Axes>"
      ]
     },
     "metadata": {
      "needs_background": "light"
     },
     "output_type": "display_data"
    }
   ],
   "source": [
    "uAUG_pred = utils.check_uAUG_detection(new_model, seq_length=201, samples=100, kozak=True)\n",
    "utils.uAUG_plot(uAUG_pred)"
   ]
  },
  {
   "cell_type": "markdown",
   "metadata": {},
   "source": [
    "### With tis"
   ]
  },
  {
   "cell_type": "code",
   "execution_count": null,
   "metadata": {},
   "outputs": [],
   "source": [
    "# explicitly include tis"
   ]
  },
  {
   "cell_type": "code",
   "execution_count": null,
   "metadata": {},
   "outputs": [],
   "source": [
    "utils.train(tis_model, encoded_data, libraries=[\"egfp_unmod_1\", \"ga\"], epochs=20, file=\"tis_model.h5\", extra_keys=[\"tis\"])"
   ]
  },
  {
   "cell_type": "code",
   "execution_count": 33,
   "metadata": {},
   "outputs": [
    {
     "name": "stdout",
     "output_type": "stream",
     "text": [
      "Epoch 1/3\n",
      " - 34s - loss: 3.8617\n",
      "Epoch 2/3\n",
      " - 32s - loss: 0.3466\n",
      "Epoch 3/3\n",
      " - 32s - loss: 0.2922\n",
      "Rsquared on set egfp_unmod_1 : 0.9161539270074304, Pearson: 0.9178569999601706\n",
      "Rsquared on set mcherry_1 : 0.6732133810751066, Pearson: 0.7213839359273263\n",
      "Rsquared on set mcherry_2 : 0.7116808935238735, Pearson: 0.7578803201283314\n",
      "Rsquared on set egfp_unmod_2 : 0.8274167987814964, Pearson: 0.8276791027800402\n",
      "Rsquared on set human : 0.757251751569419, Pearson: 0.7589782639135434\n",
      "Rsquared on set egfp_unmod_1 : 0.9198682765431039, Pearson: 0.9237245795878509\n",
      "Rsquared on set mcherry_1 : 0.6303042830711996, Pearson: 0.6936464552890712\n",
      "Rsquared on set mcherry_2 : 0.6961807061118966, Pearson: 0.7537067822001695\n",
      "Rsquared on set egfp_unmod_2 : 0.822495726261941, Pearson: 0.8235892147185514\n",
      "Pearson snv : 0.7330856833158456\n",
      "Pearson wt : 0.5922534346587215\n",
      "Rsquared fold-change: 0.5390008910427765\n",
      "PTR Pearson: 0.02344511592613961 p-val: 1.157003922944088e-61\n"
     ]
    }
   ],
   "source": [
    "reload(utils)\n",
    "new_model = load_model(\"tis_model.h5\", custom_objects={'FrameSliceLayer': model.FrameSliceLayer})\n",
    "\n",
    "new_model = utils.retrain_only_scaling(new_model, encoded_data, libraries=[\"mcherry_1\", 'mcherry_2', 'egfp_unmod_2', 'ga'], \n",
    "                                       batch_size=128, epochs=3,extra_keys=[\"tis\"])\n",
    "\n",
    "## Validation set performance\n",
    "utils.evaluate(new_model, encoded_data, libraries=['egfp_unmod_1', 'mcherry_1', 'mcherry_2', 'egfp_unmod_2', 'human'],\n",
    "              extra_keys=[\"tis\"])\n",
    "## Test set performance\n",
    "utils.evaluate(new_model, encoded_data, libraries=['egfp_unmod_1', 'mcherry_1', 'mcherry_2', 'egfp_unmod_2'], do_test=True,\n",
    "              extra_keys=[\"tis\"])\n",
    "## snv performance\n",
    "utils.eval_snv(new_model, snv_encoded, snv_df, extra_keys=[\"tis\"])\n",
    "## ptr performance\n",
    "utils.eval_ptr(new_model, ptr_encoded, ptr_df, extra_keys=[\"tis\"])"
   ]
  },
  {
   "cell_type": "code",
   "execution_count": null,
   "metadata": {},
   "outputs": [],
   "source": [
    "uAUG_pred = utils.check_uAUG_detection(base_model, seq_length=501, samples=100, kozak=True)\n",
    "utils.uAUG_plot(uAUG_pred)"
   ]
  }
 ],
 "metadata": {
  "kernelspec": {
   "display_name": "Python 3",
   "language": "python",
   "name": "python3"
  },
  "language_info": {
   "codemirror_mode": {
    "name": "ipython",
    "version": 3
   },
   "file_extension": ".py",
   "mimetype": "text/x-python",
   "name": "python",
   "nbconvert_exporter": "python",
   "pygments_lexer": "ipython3",
   "version": "3.6.7"
  }
 },
 "nbformat": 4,
 "nbformat_minor": 2
}
