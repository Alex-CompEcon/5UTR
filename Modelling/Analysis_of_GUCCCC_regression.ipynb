{
 "cells": [
  {
   "cell_type": "markdown",
   "id": "tender-houston",
   "metadata": {},
   "source": [
    "# Regression Analysis of GUCCCC candidate motif\n",
    "\n",
    "Modisco flagged GUCCCC as a possible motif. We use linear regression to control for the possibility that GUCCCC is simply a proxy for GC content or utr energy"
   ]
  },
  {
   "cell_type": "code",
   "execution_count": 1,
   "id": "attractive-consumer",
   "metadata": {},
   "outputs": [],
   "source": [
    "from pathlib import Path\n",
    "import pickle\n",
    "import numpy as np\n",
    "import pandas as pd\n",
    "import statsmodels.formula.api as smf\n",
    "import plotnine"
   ]
  },
  {
   "cell_type": "code",
   "execution_count": 2,
   "id": "speaking-internet",
   "metadata": {},
   "outputs": [
    {
     "name": "stdout",
     "output_type": "stream",
     "text": [
      "mpra\n",
      "980244\n",
      "snv\n",
      "1584\n",
      "ptr\n",
      "11575\n",
      "wilhelm\n",
      "5293\n",
      "andreev\n",
      "8003\n",
      "pcr3\n",
      "7672\n",
      "eichhorn\n",
      "8956\n",
      "doudna\n",
      "25831\n",
      "varlen_mpra\n",
      "102214\n"
     ]
    }
   ],
   "source": [
    "with open(Path(\"../Data/data_dict.pkl\"), 'rb') as handle:\n",
    "    data_dict = pickle.load(handle)\n",
    "for key in data_dict:\n",
    "    print(key)\n",
    "    print(len(data_dict[key]))"
   ]
  },
  {
   "cell_type": "code",
   "execution_count": 10,
   "id": "touched-simple",
   "metadata": {},
   "outputs": [
    {
     "name": "stderr",
     "output_type": "stream",
     "text": [
      "<ipython-input-10-cbef68060faf>:3: SettingWithCopyWarning: \n",
      "A value is trying to be set on a copy of a slice from a DataFrame.\n",
      "Try using .loc[row_indexer,col_indexer] = value instead\n",
      "\n",
      "See the caveats in the documentation: https://pandas.pydata.org/pandas-docs/stable/user_guide/indexing.html#returning-a-view-versus-a-copy\n",
      "<ipython-input-10-cbef68060faf>:4: SettingWithCopyWarning: \n",
      "A value is trying to be set on a copy of a slice from a DataFrame.\n",
      "Try using .loc[row_indexer,col_indexer] = value instead\n",
      "\n",
      "See the caveats in the documentation: https://pandas.pydata.org/pandas-docs/stable/user_guide/indexing.html#returning-a-view-versus-a-copy\n",
      "<ipython-input-10-cbef68060faf>:5: SettingWithCopyWarning: \n",
      "A value is trying to be set on a copy of a slice from a DataFrame.\n",
      "Try using .loc[row_indexer,col_indexer] = value instead\n",
      "\n",
      "See the caveats in the documentation: https://pandas.pydata.org/pandas-docs/stable/user_guide/indexing.html#returning-a-view-versus-a-copy\n"
     ]
    },
    {
     "name": "stdout",
     "output_type": "stream",
     "text": [
      "                            OLS Regression Results                            \n",
      "==============================================================================\n",
      "Dep. Variable:                     rl   R-squared:                       0.448\n",
      "Model:                            OLS   Adj. R-squared:                  0.448\n",
      "Method:                 Least Squares   F-statistic:                 5.686e+04\n",
      "Date:                Thu, 18 Feb 2021   Prob (F-statistic):               0.00\n",
      "Time:                        14:31:13   Log-Likelihood:            -4.4771e+05\n",
      "No. Observations:              280000   AIC:                         8.954e+05\n",
      "Df Residuals:                  279995   BIC:                         8.955e+05\n",
      "Df Model:                           4                                         \n",
      "Covariance Type:            nonrobust                                         \n",
      "================================================================================\n",
      "                   coef    std err          t      P>|t|      [0.025      0.975]\n",
      "--------------------------------------------------------------------------------\n",
      "Intercept        9.0471      0.017    519.680      0.000       9.013       9.081\n",
      "uAUG[T.True]    -2.1571      0.005   -472.110      0.000      -2.166      -2.148\n",
      "GUCCCC_count    -0.4530      0.030    -14.903      0.000      -0.513      -0.393\n",
      "GC              -2.4733      0.040    -61.576      0.000      -2.552      -2.395\n",
      "utr_energy       0.0191      0.001     24.704      0.000       0.018       0.021\n",
      "==============================================================================\n",
      "Omnibus:                     2459.212   Durbin-Watson:                   1.970\n",
      "Prob(Omnibus):                  0.000   Jarque-Bera (JB):             3576.921\n",
      "Skew:                           0.100   Prob(JB):                         0.00\n",
      "Kurtosis:                       3.516   Cond. No.                         184.\n",
      "==============================================================================\n",
      "\n",
      "Notes:\n",
      "[1] Standard Errors assume that the covariance matrix of the errors is correctly specified.\n"
     ]
    },
    {
     "name": "stderr",
     "output_type": "stream",
     "text": [
      "<ipython-input-10-cbef68060faf>:6: SettingWithCopyWarning: \n",
      "A value is trying to be set on a copy of a slice from a DataFrame.\n",
      "Try using .loc[row_indexer,col_indexer] = value instead\n",
      "\n",
      "See the caveats in the documentation: https://pandas.pydata.org/pandas-docs/stable/user_guide/indexing.html#returning-a-view-versus-a-copy\n"
     ]
    }
   ],
   "source": [
    "mpra_df = data_dict[\"mpra\"]\n",
    "random_df = mpra_df.query('library == \"egfp_unmod_1\"')\n",
    "random_df[\"GUCCCC_count\"] = random_df[\"utr\"].str.count(\"GTCCCC\")\n",
    "random_df[\"GUCCCC_count_cat\"] = pd.Categorical(random_df[\"GUCCCC_count\"])\n",
    "random_df[\"uAUG\"] = random_df[\"utr\"].str.contains(\"ATG\")\n",
    "random_df[\"GC\"] = (random_df[\"utr\"].str.count(\"G\") + random_df[\"utr\"].str.count(\"C\"))/50\n",
    "mod = smf.ols(formula='rl ~ GUCCCC_count + GC + utr_energy + uAUG', data=random_df)\n",
    "res = mod.fit()\n",
    "print(res.summary())"
   ]
  },
  {
   "cell_type": "code",
   "execution_count": 11,
   "id": "patent-jacksonville",
   "metadata": {},
   "outputs": [
    {
     "name": "stdout",
     "output_type": "stream",
     "text": [
      "                            OLS Regression Results                            \n",
      "==============================================================================\n",
      "Dep. Variable:                     rl   R-squared:                       0.448\n",
      "Model:                            OLS   Adj. R-squared:                  0.448\n",
      "Method:                 Least Squares   F-statistic:                 6.404e+04\n",
      "Date:                Thu, 18 Feb 2021   Prob (F-statistic):               0.00\n",
      "Time:                        14:31:17   Log-Likelihood:            -4.4771e+05\n",
      "No. Observations:              280000   AIC:                         8.954e+05\n",
      "Df Residuals:                  279995   BIC:                         8.955e+05\n",
      "Df Model:                           4                                         \n",
      "Covariance Type:                  HC1                                         \n",
      "================================================================================\n",
      "                   coef    std err          t      P>|t|      [0.025      0.975]\n",
      "--------------------------------------------------------------------------------\n",
      "Intercept        9.0471      0.017    535.293      0.000       9.014       9.080\n",
      "uAUG[T.True]    -2.1571      0.004   -499.420      0.000      -2.166      -2.149\n",
      "GUCCCC_count    -0.4530      0.027    -16.932      0.000      -0.505      -0.401\n",
      "GC              -2.4733      0.040    -62.085      0.000      -2.551      -2.395\n",
      "utr_energy       0.0191      0.001     25.055      0.000       0.018       0.021\n",
      "==============================================================================\n",
      "Omnibus:                     2459.212   Durbin-Watson:                   1.970\n",
      "Prob(Omnibus):                  0.000   Jarque-Bera (JB):             3576.921\n",
      "Skew:                           0.100   Prob(JB):                         0.00\n",
      "Kurtosis:                       3.516   Cond. No.                         184.\n",
      "==============================================================================\n",
      "\n",
      "Notes:\n",
      "[1] Standard Errors are heteroscedasticity robust (HC1)\n"
     ]
    }
   ],
   "source": [
    "print(res.get_robustcov_results(cov_type='HC1', use_t=None).summary())"
   ]
  },
  {
   "cell_type": "code",
   "execution_count": 5,
   "id": "broke-change",
   "metadata": {},
   "outputs": [
    {
     "name": "stdout",
     "output_type": "stream",
     "text": [
      "                            OLS Regression Results                            \n",
      "==============================================================================\n",
      "Dep. Variable:                     rl   R-squared:                       0.448\n",
      "Model:                            OLS   Adj. R-squared:                  0.448\n",
      "Method:                 Least Squares   F-statistic:                 4.549e+04\n",
      "Date:                Thu, 18 Feb 2021   Prob (F-statistic):               0.00\n",
      "Time:                        14:28:34   Log-Likelihood:            -4.4771e+05\n",
      "No. Observations:              280000   AIC:                         8.954e+05\n",
      "Df Residuals:                  279994   BIC:                         8.955e+05\n",
      "Df Model:                           5                                         \n",
      "Covariance Type:            nonrobust                                         \n",
      "========================================================================================\n",
      "                           coef    std err          t      P>|t|      [0.025      0.975]\n",
      "----------------------------------------------------------------------------------------\n",
      "Intercept                9.0471      0.017    519.678      0.000       9.013       9.081\n",
      "C(GUCCCC_count)[T.1]    -0.4492      0.030    -14.740      0.000      -0.509      -0.389\n",
      "C(GUCCCC_count)[T.2]    -2.3752      0.847     -2.806      0.005      -4.035      -0.716\n",
      "uAUG[T.True]            -2.1570      0.005   -472.104      0.000      -2.166      -2.148\n",
      "GC                      -2.4731      0.040    -61.572      0.000      -2.552      -2.394\n",
      "utr_energy               0.0191      0.001     24.712      0.000       0.018       0.021\n",
      "==============================================================================\n",
      "Omnibus:                     2459.248   Durbin-Watson:                   1.970\n",
      "Prob(Omnibus):                  0.000   Jarque-Bera (JB):             3577.159\n",
      "Skew:                           0.100   Prob(JB):                         0.00\n",
      "Kurtosis:                       3.516   Cond. No.                     3.59e+03\n",
      "==============================================================================\n",
      "\n",
      "Notes:\n",
      "[1] Standard Errors assume that the covariance matrix of the errors is correctly specified.\n",
      "[2] The condition number is large, 3.59e+03. This might indicate that there are\n",
      "strong multicollinearity or other numerical problems.\n"
     ]
    }
   ],
   "source": [
    "mod = smf.ols(formula='rl ~ C(GUCCCC_count) + GC + utr_energy + uAUG', data=random_df)\n",
    "res = mod.fit()\n",
    "print(res.summary())"
   ]
  },
  {
   "cell_type": "code",
   "execution_count": 6,
   "id": "careful-testimony",
   "metadata": {},
   "outputs": [
    {
     "name": "stdout",
     "output_type": "stream",
     "text": [
      "                            OLS Regression Results                            \n",
      "==============================================================================\n",
      "Dep. Variable:                     rl   R-squared:                       0.191\n",
      "Model:                            OLS   Adj. R-squared:                  0.191\n",
      "Method:                 Least Squares   F-statistic:                 1.014e+04\n",
      "Date:                Thu, 18 Feb 2021   Prob (F-statistic):               0.00\n",
      "Time:                        14:28:39   Log-Likelihood:            -1.0910e+05\n",
      "No. Observations:              128941   AIC:                         2.182e+05\n",
      "Df Residuals:                  128937   BIC:                         2.183e+05\n",
      "Df Model:                           3                                         \n",
      "Covariance Type:            nonrobust                                         \n",
      "================================================================================\n",
      "                   coef    std err          t      P>|t|      [0.025      0.975]\n",
      "--------------------------------------------------------------------------------\n",
      "Intercept        9.1127      0.012    770.411      0.000       9.090       9.136\n",
      "GUCCCC_count    -0.5771      0.021    -28.124      0.000      -0.617      -0.537\n",
      "GC              -2.3630      0.028    -85.421      0.000      -2.417      -2.309\n",
      "utr_energy       0.0327      0.001     62.039      0.000       0.032       0.034\n",
      "==============================================================================\n",
      "Omnibus:                    82120.050   Durbin-Watson:                   1.998\n",
      "Prob(Omnibus):                  0.000   Jarque-Bera (JB):          1595942.587\n",
      "Skew:                          -2.757   Prob(JB):                         0.00\n",
      "Kurtosis:                      19.329   Cond. No.                         186.\n",
      "==============================================================================\n",
      "\n",
      "Notes:\n",
      "[1] Standard Errors assume that the covariance matrix of the errors is correctly specified.\n"
     ]
    }
   ],
   "source": [
    "mod = smf.ols(formula='rl ~ GUCCCC_count + GC + utr_energy', data=random_df.query('uAUG == False'))\n",
    "res = mod.fit()\n",
    "print(res.summary())"
   ]
  },
  {
   "cell_type": "code",
   "execution_count": 7,
   "id": "affiliated-bibliography",
   "metadata": {},
   "outputs": [
    {
     "name": "stdout",
     "output_type": "stream",
     "text": [
      "                            OLS Regression Results                            \n",
      "==============================================================================\n",
      "Dep. Variable:                     rl   R-squared:                       0.191\n",
      "Model:                            OLS   Adj. R-squared:                  0.191\n",
      "Method:                 Least Squares   F-statistic:                     9379.\n",
      "Date:                Thu, 18 Feb 2021   Prob (F-statistic):               0.00\n",
      "Time:                        14:28:53   Log-Likelihood:            -1.0910e+05\n",
      "No. Observations:              128941   AIC:                         2.182e+05\n",
      "Df Residuals:                  128937   BIC:                         2.183e+05\n",
      "Df Model:                           3                                         \n",
      "Covariance Type:                  HC1                                         \n",
      "================================================================================\n",
      "                   coef    std err          t      P>|t|      [0.025      0.975]\n",
      "--------------------------------------------------------------------------------\n",
      "Intercept        9.1127      0.012    761.977      0.000       9.089       9.136\n",
      "GUCCCC_count    -0.5771      0.021    -27.358      0.000      -0.618      -0.536\n",
      "GC              -2.3630      0.028    -84.262      0.000      -2.418      -2.308\n",
      "utr_energy       0.0327      0.001     60.108      0.000       0.032       0.034\n",
      "==============================================================================\n",
      "Omnibus:                    82120.050   Durbin-Watson:                   1.998\n",
      "Prob(Omnibus):                  0.000   Jarque-Bera (JB):          1595942.587\n",
      "Skew:                          -2.757   Prob(JB):                         0.00\n",
      "Kurtosis:                      19.329   Cond. No.                         186.\n",
      "==============================================================================\n",
      "\n",
      "Notes:\n",
      "[1] Standard Errors are heteroscedasticity robust (HC1)\n"
     ]
    }
   ],
   "source": [
    "print(res.get_robustcov_results(cov_type='HC1', use_t=None).summary())"
   ]
  },
  {
   "cell_type": "code",
   "execution_count": 8,
   "id": "extraordinary-oakland",
   "metadata": {},
   "outputs": [
    {
     "name": "stdout",
     "output_type": "stream",
     "text": [
      "                            OLS Regression Results                            \n",
      "==============================================================================\n",
      "Dep. Variable:                     rl   R-squared:                       0.191\n",
      "Model:                            OLS   Adj. R-squared:                  0.191\n",
      "Method:                 Least Squares   F-statistic:                 1.014e+04\n",
      "Date:                Thu, 18 Feb 2021   Prob (F-statistic):               0.00\n",
      "Time:                        14:29:24   Log-Likelihood:            -1.0910e+05\n",
      "No. Observations:              128941   AIC:                         2.182e+05\n",
      "Df Residuals:                  128937   BIC:                         2.183e+05\n",
      "Df Model:                           3                                         \n",
      "Covariance Type:            nonrobust                                         \n",
      "========================================================================================\n",
      "                           coef    std err          t      P>|t|      [0.025      0.975]\n",
      "----------------------------------------------------------------------------------------\n",
      "Intercept                9.1127      0.012    770.411      0.000       9.090       9.136\n",
      "C(GUCCCC_count)[T.1]    -0.5771      0.021    -28.124      0.000      -0.617      -0.537\n",
      "GC                      -2.3630      0.028    -85.421      0.000      -2.417      -2.309\n",
      "utr_energy               0.0327      0.001     62.039      0.000       0.032       0.034\n",
      "==============================================================================\n",
      "Omnibus:                    82120.050   Durbin-Watson:                   1.998\n",
      "Prob(Omnibus):                  0.000   Jarque-Bera (JB):          1595942.587\n",
      "Skew:                          -2.757   Prob(JB):                         0.00\n",
      "Kurtosis:                      19.329   Cond. No.                         186.\n",
      "==============================================================================\n",
      "\n",
      "Notes:\n",
      "[1] Standard Errors assume that the covariance matrix of the errors is correctly specified.\n"
     ]
    }
   ],
   "source": [
    "mod = smf.ols(formula='rl ~ C(GUCCCC_count) + GC + utr_energy', data=random_df.query('uAUG == False'))\n",
    "res = mod.fit()\n",
    "print(res.summary())"
   ]
  },
  {
   "cell_type": "code",
   "execution_count": null,
   "id": "hydraulic-dominant",
   "metadata": {},
   "outputs": [],
   "source": []
  },
  {
   "cell_type": "code",
   "execution_count": null,
   "id": "electrical-vacuum",
   "metadata": {},
   "outputs": [],
   "source": []
  },
  {
   "cell_type": "code",
   "execution_count": null,
   "id": "welcome-cyprus",
   "metadata": {},
   "outputs": [],
   "source": []
  },
  {
   "cell_type": "code",
   "execution_count": null,
   "id": "continuing-prize",
   "metadata": {},
   "outputs": [],
   "source": []
  },
  {
   "cell_type": "code",
   "execution_count": null,
   "id": "introductory-means",
   "metadata": {},
   "outputs": [],
   "source": []
  },
  {
   "cell_type": "code",
   "execution_count": null,
   "id": "three-investigator",
   "metadata": {},
   "outputs": [],
   "source": []
  },
  {
   "cell_type": "code",
   "execution_count": null,
   "id": "subject-burst",
   "metadata": {},
   "outputs": [],
   "source": []
  },
  {
   "cell_type": "code",
   "execution_count": null,
   "id": "neither-atlas",
   "metadata": {},
   "outputs": [],
   "source": []
  },
  {
   "cell_type": "code",
   "execution_count": null,
   "id": "rising-philip",
   "metadata": {},
   "outputs": [],
   "source": []
  },
  {
   "cell_type": "code",
   "execution_count": null,
   "id": "olive-pitch",
   "metadata": {},
   "outputs": [],
   "source": []
  },
  {
   "cell_type": "code",
   "execution_count": null,
   "id": "equal-findings",
   "metadata": {},
   "outputs": [],
   "source": []
  },
  {
   "cell_type": "code",
   "execution_count": null,
   "id": "soviet-float",
   "metadata": {},
   "outputs": [],
   "source": []
  },
  {
   "cell_type": "code",
   "execution_count": null,
   "id": "fewer-ferry",
   "metadata": {},
   "outputs": [],
   "source": []
  },
  {
   "cell_type": "code",
   "execution_count": null,
   "id": "third-patrol",
   "metadata": {},
   "outputs": [],
   "source": []
  },
  {
   "cell_type": "code",
   "execution_count": null,
   "id": "corrected-wisconsin",
   "metadata": {},
   "outputs": [],
   "source": []
  },
  {
   "cell_type": "code",
   "execution_count": null,
   "id": "recognized-queens",
   "metadata": {},
   "outputs": [],
   "source": []
  },
  {
   "cell_type": "code",
   "execution_count": null,
   "id": "secret-perry",
   "metadata": {},
   "outputs": [],
   "source": []
  },
  {
   "cell_type": "code",
   "execution_count": null,
   "id": "together-pavilion",
   "metadata": {},
   "outputs": [],
   "source": []
  },
  {
   "cell_type": "code",
   "execution_count": null,
   "id": "environmental-adrian",
   "metadata": {},
   "outputs": [],
   "source": []
  },
  {
   "cell_type": "code",
   "execution_count": null,
   "id": "fossil-reform",
   "metadata": {},
   "outputs": [],
   "source": []
  },
  {
   "cell_type": "code",
   "execution_count": null,
   "id": "minute-clock",
   "metadata": {},
   "outputs": [],
   "source": []
  },
  {
   "cell_type": "code",
   "execution_count": null,
   "id": "soviet-consortium",
   "metadata": {},
   "outputs": [],
   "source": []
  },
  {
   "cell_type": "code",
   "execution_count": null,
   "id": "orange-russia",
   "metadata": {},
   "outputs": [],
   "source": []
  },
  {
   "cell_type": "code",
   "execution_count": null,
   "id": "retained-accreditation",
   "metadata": {},
   "outputs": [],
   "source": []
  },
  {
   "cell_type": "code",
   "execution_count": null,
   "id": "residential-shelter",
   "metadata": {},
   "outputs": [],
   "source": []
  },
  {
   "cell_type": "code",
   "execution_count": null,
   "id": "driven-statement",
   "metadata": {},
   "outputs": [],
   "source": []
  },
  {
   "cell_type": "code",
   "execution_count": null,
   "id": "vocational-facing",
   "metadata": {},
   "outputs": [],
   "source": []
  },
  {
   "cell_type": "code",
   "execution_count": null,
   "id": "pleasant-clock",
   "metadata": {},
   "outputs": [],
   "source": []
  },
  {
   "cell_type": "code",
   "execution_count": 12,
   "id": "inside-waterproof",
   "metadata": {},
   "outputs": [],
   "source": [
    "doudna_df = data_dict[\"doudna\"]\n",
    "doudna_df[\"motif\"] = doudna_df[\"utr\"].str.contains(\"GTCCCC\")\n",
    "doudna_df[\"utr_length\"] = doudna_df[\"utr\"].str.len()\n",
    "doudna_df[\"GC\"] = (doudna_df[\"utr\"].str.count(\"G\") + doudna_df[\"utr\"].str.count(\"C\"))/doudna_df[\"utr_length\"]"
   ]
  },
  {
   "cell_type": "code",
   "execution_count": 18,
   "id": "charitable-dressing",
   "metadata": {},
   "outputs": [
    {
     "name": "stdout",
     "output_type": "stream",
     "text": [
      "                            OLS Regression Results                            \n",
      "==============================================================================\n",
      "Dep. Variable:                rl_mean   R-squared:                       0.000\n",
      "Model:                            OLS   Adj. R-squared:                  0.000\n",
      "Method:                 Least Squares   F-statistic:                     7.743\n",
      "Date:                Tue, 09 Feb 2021   Prob (F-statistic):            0.00540\n",
      "Time:                        19:47:19   Log-Likelihood:                -42450.\n",
      "No. Observations:               25831   AIC:                         8.490e+04\n",
      "Df Residuals:                   25829   BIC:                         8.492e+04\n",
      "Df Model:                           1                                         \n",
      "Covariance Type:            nonrobust                                         \n",
      "=================================================================================\n",
      "                    coef    std err          t      P>|t|      [0.025      0.975]\n",
      "---------------------------------------------------------------------------------\n",
      "Intercept         3.9462      0.008    476.868      0.000       3.930       3.962\n",
      "motif[T.True]    -0.0681      0.024     -2.783      0.005      -0.116      -0.020\n",
      "==============================================================================\n",
      "Omnibus:                      444.684   Durbin-Watson:                   1.993\n",
      "Prob(Omnibus):                  0.000   Jarque-Bera (JB):              467.630\n",
      "Skew:                          -0.329   Prob(JB):                    2.85e-102\n",
      "Kurtosis:                       3.043   Cond. No.                         3.19\n",
      "==============================================================================\n",
      "\n",
      "Notes:\n",
      "[1] Standard Errors assume that the covariance matrix of the errors is correctly specified.\n"
     ]
    }
   ],
   "source": [
    "mod = smf.ols(formula='rl_mean ~ motif', data=doudna_df)\n",
    "res = mod.fit()\n",
    "print(res.summary())"
   ]
  },
  {
   "cell_type": "code",
   "execution_count": 17,
   "id": "painful-reservoir",
   "metadata": {},
   "outputs": [
    {
     "name": "stdout",
     "output_type": "stream",
     "text": [
      "                            OLS Regression Results                            \n",
      "==============================================================================\n",
      "Dep. Variable:                rl_mean   R-squared:                       0.004\n",
      "Model:                            OLS   Adj. R-squared:                  0.004\n",
      "Method:                 Least Squares   F-statistic:                     31.69\n",
      "Date:                Tue, 09 Feb 2021   Prob (F-statistic):           1.95e-20\n",
      "Time:                        19:46:29   Log-Likelihood:                -42407.\n",
      "No. Observations:               25831   AIC:                         8.482e+04\n",
      "Df Residuals:                   25827   BIC:                         8.485e+04\n",
      "Df Model:                           3                                         \n",
      "Covariance Type:            nonrobust                                         \n",
      "======================================================================================\n",
      "                         coef    std err          t      P>|t|      [0.025      0.975]\n",
      "--------------------------------------------------------------------------------------\n",
      "Intercept              4.0225      0.063     63.514      0.000       3.898       4.147\n",
      "motif[T.True]         -0.0322      0.025     -1.265      0.206      -0.082       0.018\n",
      "GC                     0.3125      0.066      4.706      0.000       0.182       0.443\n",
      "np.log(utr_length)    -0.0552      0.008     -7.011      0.000      -0.071      -0.040\n",
      "==============================================================================\n",
      "Omnibus:                      448.718   Durbin-Watson:                   1.997\n",
      "Prob(Omnibus):                  0.000   Jarque-Bera (JB):              472.091\n",
      "Skew:                          -0.330   Prob(JB):                    3.07e-103\n",
      "Kurtosis:                       3.043   Cond. No.                         59.3\n",
      "==============================================================================\n",
      "\n",
      "Notes:\n",
      "[1] Standard Errors assume that the covariance matrix of the errors is correctly specified.\n"
     ]
    }
   ],
   "source": [
    "mod = smf.ols(formula='rl_mean ~ motif + GC + np.log(utr_length)', data=doudna_df)\n",
    "res = mod.fit()\n",
    "print(res.summary())"
   ]
  },
  {
   "cell_type": "code",
   "execution_count": 22,
   "id": "fabulous-fashion",
   "metadata": {},
   "outputs": [
    {
     "name": "stdout",
     "output_type": "stream",
     "text": [
      "                            OLS Regression Results                            \n",
      "==============================================================================\n",
      "Dep. Variable:                rl_mean   R-squared:                       0.011\n",
      "Model:                            OLS   Adj. R-squared:                  0.011\n",
      "Method:                 Least Squares   F-statistic:                     71.61\n",
      "Date:                Tue, 09 Feb 2021   Prob (F-statistic):           1.98e-60\n",
      "Time:                        20:00:51   Log-Likelihood:                -42312.\n",
      "No. Observations:               25831   AIC:                         8.463e+04\n",
      "Df Residuals:                   25826   BIC:                         8.467e+04\n",
      "Df Model:                           4                                         \n",
      "Covariance Type:            nonrobust                                         \n",
      "======================================================================================\n",
      "                         coef    std err          t      P>|t|      [0.025      0.975]\n",
      "--------------------------------------------------------------------------------------\n",
      "Intercept              3.9994      0.063     63.359      0.000       3.876       4.123\n",
      "motif[T.True]         -0.0358      0.025     -1.410      0.158      -0.086       0.014\n",
      "uAUG[T.True]          -0.2683      0.019    -13.809      0.000      -0.306      -0.230\n",
      "GC                     0.0507      0.069      0.737      0.461      -0.084       0.186\n",
      "np.log(utr_length)     0.0111      0.009      1.210      0.226      -0.007       0.029\n",
      "==============================================================================\n",
      "Omnibus:                      453.394   Durbin-Watson:                   1.996\n",
      "Prob(Omnibus):                  0.000   Jarque-Bera (JB):              477.179\n",
      "Skew:                          -0.331   Prob(JB):                    2.41e-104\n",
      "Kurtosis:                       3.064   Cond. No.                         60.3\n",
      "==============================================================================\n",
      "\n",
      "Notes:\n",
      "[1] Standard Errors assume that the covariance matrix of the errors is correctly specified.\n"
     ]
    }
   ],
   "source": [
    "doudna_df[\"uAUG\"] = doudna_df[\"utr\"].str.contains(\"ATG\")\n",
    "mod = smf.ols(formula='rl_mean ~ motif + GC + uAUG + np.log(utr_length)', data=doudna_df)\n",
    "res = mod.fit()\n",
    "print(res.summary())"
   ]
  },
  {
   "cell_type": "code",
   "execution_count": 23,
   "id": "dedicated-absorption",
   "metadata": {},
   "outputs": [
    {
     "name": "stdout",
     "output_type": "stream",
     "text": [
      "                            OLS Regression Results                            \n",
      "==============================================================================\n",
      "Dep. Variable:                rl_mean   R-squared:                       0.011\n",
      "Model:                            OLS   Adj. R-squared:                  0.011\n",
      "Method:                 Least Squares   F-statistic:                     74.52\n",
      "Date:                Tue, 09 Feb 2021   Prob (F-statistic):           6.52e-63\n",
      "Time:                        20:06:28   Log-Likelihood:                -42306.\n",
      "No. Observations:               25831   AIC:                         8.462e+04\n",
      "Df Residuals:                   25826   BIC:                         8.466e+04\n",
      "Df Model:                           4                                         \n",
      "Covariance Type:            nonrobust                                         \n",
      "======================================================================================\n",
      "                         coef    std err          t      P>|t|      [0.025      0.975]\n",
      "--------------------------------------------------------------------------------------\n",
      "Intercept              4.0040      0.062     64.787      0.000       3.883       4.125\n",
      "motif_3[T.True]       -0.5492      0.149     -3.674      0.000      -0.842      -0.256\n",
      "uAUG[T.True]          -0.2693      0.019    -13.858      0.000      -0.307      -0.231\n",
      "GC                     0.0451      0.068      0.660      0.509      -0.089       0.179\n",
      "np.log(utr_length)     0.0105      0.009      1.172      0.241      -0.007       0.028\n",
      "==============================================================================\n",
      "Omnibus:                      452.914   Durbin-Watson:                   1.996\n",
      "Prob(Omnibus):                  0.000   Jarque-Bera (JB):              476.645\n",
      "Skew:                          -0.331   Prob(JB):                    3.15e-104\n",
      "Kurtosis:                       3.065   Cond. No.                         103.\n",
      "==============================================================================\n",
      "\n",
      "Notes:\n",
      "[1] Standard Errors assume that the covariance matrix of the errors is correctly specified.\n"
     ]
    }
   ],
   "source": [
    "doudna_df[\"motif_3\"] = doudna_df[\"utr\"].str.count(\"GTCCCC\") > 2\n",
    "mod = smf.ols(formula='rl_mean ~ motif_3 + GC + uAUG + np.log(utr_length)', data=doudna_df)\n",
    "res = mod.fit()\n",
    "print(res.summary())"
   ]
  },
  {
   "cell_type": "code",
   "execution_count": null,
   "id": "cloudy-grove",
   "metadata": {},
   "outputs": [],
   "source": []
  }
 ],
 "metadata": {
  "kernelspec": {
   "display_name": "Python [conda env:anaconda-karollus-statsmodels]",
   "language": "python",
   "name": "conda-env-anaconda-karollus-statsmodels-py"
  },
  "language_info": {
   "codemirror_mode": {
    "name": "ipython",
    "version": 3
   },
   "file_extension": ".py",
   "mimetype": "text/x-python",
   "name": "python",
   "nbconvert_exporter": "python",
   "pygments_lexer": "ipython3",
   "version": "3.8.5"
  }
 },
 "nbformat": 4,
 "nbformat_minor": 5
}
