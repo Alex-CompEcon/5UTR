{
 "cells": [
  {
   "cell_type": "markdown",
   "metadata": {},
   "source": [
    "### PTR motifs\n",
    "Eraslan et al find some additional PTR motifs. Do they add explanatory power?"
   ]
  },
  {
   "cell_type": "code",
   "execution_count": 3,
   "metadata": {},
   "outputs": [
    {
     "name": "stderr",
     "output_type": "stream",
     "text": [
      "Using TensorFlow backend.\n"
     ]
    }
   ],
   "source": [
    "from importlib import reload\n",
    "import re\n",
    "import random\n",
    "from pathlib import Path\n",
    "random.seed(1337)\n",
    "import os\n",
    "import pickle\n",
    "from decimal import Decimal\n",
    "import collections\n",
    "\n",
    "import numpy as np\n",
    "np.random.seed(1337)\n",
    "import pandas as pd\n",
    "pd.options.mode.chained_assignment = None \n",
    "import scipy.stats as stats\n",
    "\n",
    "from sklearn.linear_model import LinearRegression\n",
    "\n",
    "import matplotlib.pyplot as plt\n",
    "from matplotlib.lines import Line2D\n",
    "import seaborn as sns\n",
    "\n",
    "# Dont use GPU\n",
    "os.environ['CUDA_VISIBLE_DEVICES'] = '-1'\n",
    "\n",
    "import tensorflow as tf\n",
    "import keras\n",
    "from keras import backend as K\n",
    "from keras.models import load_model\n",
    "from keras.callbacks import ModelCheckpoint, EarlyStopping\n",
    "\n",
    "from IPython.display import SVG\n",
    "from keras.utils.vis_utils import model_to_dot\n",
    "\n",
    "import model\n",
    "import utils\n",
    "import utils_data"
   ]
  },
  {
   "cell_type": "code",
   "execution_count": 2,
   "metadata": {},
   "outputs": [],
   "source": [
    "with open(Path(\"../Data/data_dict.pkl\"), 'rb') as handle:\n",
    "    data_dict = pickle.load(handle)"
   ]
  },
  {
   "cell_type": "code",
   "execution_count": 3,
   "metadata": {},
   "outputs": [
    {
     "name": "stdout",
     "output_type": "stream",
     "text": [
      "WARNING:tensorflow:From /data/ouga04b/ag_gagneur/home/karollus/.conda/envs/karollus-env/lib/python3.6/site-packages/tensorflow/python/framework/op_def_library.py:263: colocate_with (from tensorflow.python.framework.ops) is deprecated and will be removed in a future version.\n",
      "Instructions for updating:\n",
      "Colocations handled automatically by placer.\n",
      "WARNING:tensorflow:From /data/ouga04b/ag_gagneur/home/karollus/.conda/envs/karollus-env/lib/python3.6/site-packages/keras/backend/tensorflow_backend.py:3445: calling dropout (from tensorflow.python.ops.nn_ops) with keep_prob is deprecated and will be removed in a future version.\n",
      "Instructions for updating:\n",
      "Please use `rate` instead of `keep_prob`. Rate should be set to `rate = 1 - keep_prob`.\n",
      "WARNING:tensorflow:From /data/ouga04b/ag_gagneur/home/karollus/.conda/envs/karollus-env/lib/python3.6/site-packages/tensorflow/python/ops/math_ops.py:3066: to_int32 (from tensorflow.python.ops.math_ops) is deprecated and will be removed in a future version.\n",
      "Instructions for updating:\n",
      "Use tf.cast instead.\n",
      "WARNING:tensorflow:From /data/ouga04b/ag_gagneur/home/karollus/.conda/envs/karollus-env/lib/python3.6/site-packages/tensorflow/python/ops/math_grad.py:102: div (from tensorflow.python.ops.math_ops) is deprecated and will be removed in a future version.\n",
      "Instructions for updating:\n",
      "Deprecated in favor of operator or tf.math.divide.\n"
     ]
    }
   ],
   "source": [
    "library_fn = utils_data.LibraryEncoder(\"library\", {\"egfp_unmod_1\":0, \"random\":1})\n",
    "utr_model_combined = load_model(Path(\"../Models/utr_model_combined_residual.h5\"), custom_objects={'FrameSliceLayer': model.FrameSliceLayer})"
   ]
  },
  {
   "cell_type": "code",
   "execution_count": 7,
   "metadata": {},
   "outputs": [],
   "source": [
    "# compute predictions\n",
    "df = data_dict[\"ptr\"]\n",
    "one_hot_fn = utils_data.OneHotEncoder(\"utr\")\n",
    "generator = utils_data.DataSequence(df, encoding_functions=[one_hot_fn, library_fn], \n",
    "                                                shuffle=False)\n",
    "pred = utr_model_combined.predict_generator(generator, verbose=0)"
   ]
  },
  {
   "cell_type": "code",
   "execution_count": 44,
   "metadata": {},
   "outputs": [
    {
     "name": "stdout",
     "output_type": "stream",
     "text": [
      "0.029128003158193194\n",
      "0.17066928006584312\n"
     ]
    }
   ],
   "source": [
    "X_without = pred\n",
    "y = np.array(df[\"ptr\"])[:,np.newaxis]\n",
    "reg_without = LinearRegression().fit(X_without, y)\n",
    "r2_without = reg_without.score(X_without, y)\n",
    "print(r2_without)\n",
    "print(np.sqrt(r2_without))"
   ]
  },
  {
   "cell_type": "code",
   "execution_count": 27,
   "metadata": {},
   "outputs": [],
   "source": [
    "eraslan_5utr_motifs = [\"AACUU\", \"ACCUGC\", \"AGCAAC\", \"AGCCCCC\", \"AGCGGAA\", \"CACGU\", \"CAGAC\", \"CCCACCC\",\n",
    "                      \"CCGUGGG\", \"CCUUGGA\", \"CGGAAG\", \"CUCUGAG\", \"CUCUUUC\", \"CUGGGAGC\", \"CUGUCCU\",\n",
    "                      \"GAUAC\", \"GCCGCC\", \"GGCGCCCG\", \"GUGGGAA\", \"UACAGG\", \"UCGAC\", \"UCUGGGA\", \"UGACCU\",\n",
    "                      \"UUCCG\"]\n",
    "motif_counter = utils_data.MotifExtractor(\"utr\", \"\", eraslan_5utr_motifs)\n",
    "motif_counts = motif_counter.__call__(df)\n",
    "motif_counts = np.transpose(np.concatenate([x[:,np.newaxis] for x in motif_counts], axis=1))"
   ]
  },
  {
   "cell_type": "code",
   "execution_count": 31,
   "metadata": {},
   "outputs": [],
   "source": [
    "X = np.concatenate([pred, motif_counts], axis=1)"
   ]
  },
  {
   "cell_type": "code",
   "execution_count": 46,
   "metadata": {},
   "outputs": [
    {
     "name": "stdout",
     "output_type": "stream",
     "text": [
      "0.03963109636097517\n",
      "0.19907560463546298\n",
      "0.037552195798937316\n",
      "0.19378388942050193\n"
     ]
    }
   ],
   "source": [
    "X = np.concatenate([pred, motif_counts], axis=1)\n",
    "r2 = reg.score(X, y)\n",
    "r2_adjusted = utils.adjust_r2(r2, X.shape[0], X.shape[1])\n",
    "print(r2)\n",
    "print(np.sqrt(r2))\n",
    "print(r2_adjusted)\n",
    "print(np.sqrt(r2_adjusted))"
   ]
  }
 ],
 "metadata": {
  "kernelspec": {
   "display_name": "Python 3",
   "language": "python",
   "name": "python3"
  },
  "language_info": {
   "codemirror_mode": {
    "name": "ipython",
    "version": 3
   },
   "file_extension": ".py",
   "mimetype": "text/x-python",
   "name": "python",
   "nbconvert_exporter": "python",
   "pygments_lexer": "ipython3",
   "version": "3.7.9"
  }
 },
 "nbformat": 4,
 "nbformat_minor": 4
}
