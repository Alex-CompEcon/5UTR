{
 "cells": [
  {
   "cell_type": "markdown",
   "metadata": {},
   "source": [
    "# **Modelling Training Replication code**\n",
    "This notebook provides code to train a Framepooling model."
   ]
  },
  {
   "cell_type": "code",
   "execution_count": 1,
   "metadata": {},
   "outputs": [
    {
     "name": "stderr",
     "output_type": "stream",
     "text": [
      "Using TensorFlow backend.\n"
     ]
    }
   ],
   "source": [
    "## Imports\n",
    "# base python\n",
    "from importlib import reload\n",
    "import re\n",
    "import itertools\n",
    "from pathlib import Path\n",
    "import random\n",
    "random.seed(1337)\n",
    "import os\n",
    "import pickle\n",
    "from decimal import Decimal\n",
    "import collections\n",
    "\n",
    "# numpy and similar\n",
    "import numpy as np\n",
    "np.random.seed(1337)\n",
    "import pandas as pd\n",
    "pd.options.mode.chained_assignment = None \n",
    "import scipy.stats as stats\n",
    "\n",
    "# Dont use GPU\n",
    "os.environ['CUDA_VISIBLE_DEVICES'] = '-1'\n",
    "\n",
    "# Deep Learning packages\n",
    "import tensorflow as tf\n",
    "import keras\n",
    "from keras import backend as K\n",
    "from keras.models import load_model\n",
    "from keras.callbacks import ModelCheckpoint, EarlyStopping\n",
    "\n",
    "# code scripts\n",
    "import model\n",
    "import utils\n",
    "import utils_data"
   ]
  },
  {
   "cell_type": "code",
   "execution_count": 2,
   "metadata": {},
   "outputs": [],
   "source": [
    "#os.environ[\"HDF5_USE_FILE_LOCKING\"] = \"FALSE\""
   ]
  },
  {
   "cell_type": "markdown",
   "metadata": {},
   "source": [
    "#### Make utility directories"
   ]
  },
  {
   "cell_type": "code",
   "execution_count": null,
   "metadata": {},
   "outputs": [],
   "source": [
    "if not os.path.exists(Path(\"../Data/Metrics\")):\n",
    "    os.makedirs(Path(\"../Data/Metrics\"))"
   ]
  },
  {
   "cell_type": "markdown",
   "metadata": {},
   "source": [
    "# **Reading in the data**\n",
    "Reading in the data pickle to run model training"
   ]
  },
  {
   "cell_type": "code",
   "execution_count": 6,
   "metadata": {},
   "outputs": [],
   "source": [
    "with open(Path(\"../Data/data_dict.pkl\"), 'rb') as handle:\n",
    "    data_dict = pickle.load(handle)"
   ]
  },
  {
   "cell_type": "code",
   "execution_count": 7,
   "metadata": {},
   "outputs": [
    {
     "name": "stdout",
     "output_type": "stream",
     "text": [
      "mpra\n",
      "980244\n",
      "snv\n",
      "1584\n",
      "ptr\n",
      "11575\n",
      "wilhelm\n",
      "5293\n",
      "andreev\n",
      "8003\n",
      "pcr3\n",
      "7672\n",
      "eichhorn\n",
      "8956\n",
      "doudna\n",
      "25831\n",
      "varlen_mpra\n",
      "102214\n"
     ]
    }
   ],
   "source": [
    "for key in data_dict:\n",
    "    print(key)\n",
    "    print(len(data_dict[key]))"
   ]
  },
  {
   "cell_type": "markdown",
   "metadata": {},
   "source": [
    "# **Training**\n",
    "This code shows how to train a framepool model from scratch"
   ]
  },
  {
   "cell_type": "markdown",
   "metadata": {},
   "source": [
    "### Prepare training data"
   ]
  },
  {
   "cell_type": "code",
   "execution_count": null,
   "metadata": {},
   "outputs": [],
   "source": [
    "# Encoding functions\n",
    "one_hot_fn = utils_data.OneHotEncoder(\"utr\")\n",
    "out_encoding_fn = utils_data.DataFrameExtractor(\"rl\", method=\"direct\")\n",
    "library_fn = utils_data.LibraryEncoder(\"library\", {\"egfp_unmod_1\":0, \"random\":1})"
   ]
  },
  {
   "cell_type": "code",
   "execution_count": 8,
   "metadata": {},
   "outputs": [],
   "source": [
    "# length 50 mpra data\n",
    "mpra_data = data_dict[\"mpra\"]\n",
    "train_data_50 = mpra_data[(mpra_data.set == \"train\") & (mpra_data.library == \"egfp_unmod_1\")]\n",
    "generator_50 = utils_data.DataSequence(train_data_50, encoding_functions=[one_hot_fn], \n",
    "                                    output_encoding_fn=out_encoding_fn, shuffle=True)"
   ]
  },
  {
   "cell_type": "code",
   "execution_count": null,
   "metadata": {},
   "outputs": [],
   "source": [
    "# variable length (up to 100) mpra data\n",
    "mpra_data_varlen = data_dict[\"varlen_mpra\"]\n",
    "train_data_100 = mpra_data_varlen[(mpra_data_varlen.set == \"train\") & (mpra_data_varlen.library == \"random\")]\n",
    "generator_100 = utils_data.DataSequence(train_data_100, encoding_functions=[one_hot_fn], \n",
    "                                    output_encoding_fn=out_encoding_fn, shuffle=True)"
   ]
  },
  {
   "cell_type": "code",
   "execution_count": 11,
   "metadata": {},
   "outputs": [],
   "source": [
    "# combined length 50 and variable length mpra data\n",
    "train_data_combined = pd.concat([train_data_100[[\"utr\", \"rl\", \"library\"]], train_data_50[[\"utr\", \"rl\", \"library\"]]])\n",
    "generator_combined = utils_data.DataSequence(train_data_combined, encoding_functions=[one_hot_fn, library_fn], \n",
    "                                    output_encoding_fn=out_encoding_fn, shuffle=True)"
   ]
  },
  {
   "cell_type": "markdown",
   "metadata": {},
   "source": [
    "### Train a Model"
   ]
  },
  {
   "cell_type": "code",
   "execution_count": null,
   "metadata": {},
   "outputs": [],
   "source": [
    "utr_model_combined = model.create_frame_slice_model(kernel_size=[7,7,7],\n",
    "                        only_max_pool=False,\n",
    "                        padding=\"same\",\n",
    "                        skip_connections=\"residual\",\n",
    "                        use_scaling_regression=True, library_size=2)"
   ]
  },
  {
   "cell_type": "code",
   "execution_count": null,
   "metadata": {},
   "outputs": [],
   "source": [
    "utr_model.fit_generator(generator_combined, epochs=6, verbose=2)"
   ]
  },
  {
   "cell_type": "code",
   "execution_count": null,
   "metadata": {},
   "outputs": [],
   "source": [
    "utr_model.save(\"../Models/utr_model_combined_residual.h5\")"
   ]
  },
  {
   "cell_type": "markdown",
   "metadata": {},
   "source": [
    "### Evaluate it"
   ]
  },
  {
   "cell_type": "code",
   "execution_count": null,
   "metadata": {},
   "outputs": [],
   "source": [
    "utr_model_combined = load_model(\"..Models/Framepool_combined_residual.h5\", custom_objects={'FrameSliceLayer': model.FrameSliceLayer})"
   ]
  },
  {
   "cell_type": "code",
   "execution_count": null,
   "metadata": {},
   "outputs": [],
   "source": [
    "metrics = utils.compute_all_test_metrics(data_dict, utr_model, extra_encoding_fn=[library_fn], noTG = True)"
   ]
  },
  {
   "cell_type": "code",
   "execution_count": null,
   "metadata": {},
   "outputs": [],
   "source": [
    "# pickle and save\n",
    "with open(Path(\"../Data/Metrics/metrics_frameslice_combined_dict.pkl\"), 'wb') as handle:\n",
    "    pickle.dump(metrics, handle, protocol=pickle.HIGHEST_PROTOCOL)"
   ]
  }
 ],
 "metadata": {
  "kernelspec": {
   "display_name": "Python 3",
   "language": "python",
   "name": "python3"
  },
  "language_info": {
   "codemirror_mode": {
    "name": "ipython",
    "version": 3
   },
   "file_extension": ".py",
   "mimetype": "text/x-python",
   "name": "python",
   "nbconvert_exporter": "python",
   "pygments_lexer": "ipython3",
   "version": "3.7.9"
  }
 },
 "nbformat": 4,
 "nbformat_minor": 4
}
