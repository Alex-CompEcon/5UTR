{
 "cells": [
  {
   "cell_type": "markdown",
   "id": "durable-looking",
   "metadata": {},
   "source": [
    "# Shift example\n",
    "\n",
    "A visualization to explain the mechanic of shifting for in-frame uAUG, to detect lengthenings of the canonical protein"
   ]
  },
  {
   "cell_type": "code",
   "execution_count": 1,
   "id": "comprehensive-waterproof",
   "metadata": {},
   "outputs": [
    {
     "name": "stderr",
     "output_type": "stream",
     "text": [
      "Using TensorFlow backend.\n"
     ]
    }
   ],
   "source": [
    "# Must restart the kernel for this\n",
    "from deepexplain.tensorflow import DeepExplain\n",
    "#from deeplift.dinuc_shuffle import dinuc_shuffle, traverse_edges, shuffle_edges, prepare_edges\n",
    "from collections import Counter\n",
    "\n",
    "from importlib import reload\n",
    "import re\n",
    "import random\n",
    "from pathlib import Path\n",
    "random.seed(1337)\n",
    "import os\n",
    "import pickle\n",
    "from decimal import Decimal\n",
    "\n",
    "import numpy as np\n",
    "np.random.seed(1337)\n",
    "import pandas as pd\n",
    "pd.options.mode.chained_assignment = None \n",
    "import scipy.stats as stats\n",
    "\n",
    "import matplotlib.pyplot as plt\n",
    "import matplotlib_config\n",
    "import seaborn as sns\n",
    "\n",
    "import tensorflow as tf\n",
    "import keras\n",
    "from keras import backend as K\n",
    "from keras.models import load_model\n",
    "from keras.callbacks import ModelCheckpoint, EarlyStopping\n",
    "\n",
    "import utils_data\n",
    "import model"
   ]
  },
  {
   "cell_type": "code",
   "execution_count": 2,
   "id": "incorrect-symposium",
   "metadata": {},
   "outputs": [
    {
     "name": "stdout",
     "output_type": "stream",
     "text": [
      "WARNING:tensorflow:From /opt/modules/i12g/anaconda/3-2018.12/envs/5utrclone/lib/python3.6/site-packages/tensorflow/python/framework/op_def_library.py:263: colocate_with (from tensorflow.python.framework.ops) is deprecated and will be removed in a future version.\n",
      "Instructions for updating:\n",
      "Colocations handled automatically by placer.\n"
     ]
    },
    {
     "name": "stderr",
     "output_type": "stream",
     "text": [
      "2021-02-18 11:47:26,423 [WARNING] From /opt/modules/i12g/anaconda/3-2018.12/envs/5utrclone/lib/python3.6/site-packages/tensorflow/python/framework/op_def_library.py:263: colocate_with (from tensorflow.python.framework.ops) is deprecated and will be removed in a future version.\n",
      "Instructions for updating:\n",
      "Colocations handled automatically by placer.\n"
     ]
    }
   ],
   "source": [
    "from bpnet.cli.contrib import ContribFile\n",
    "from bpnet.plot.tracks import plot_tracks, to_neg\n",
    "from concise.utils.plot import seqlogo"
   ]
  },
  {
   "cell_type": "markdown",
   "id": "earned-composer",
   "metadata": {},
   "source": [
    "# Shift Example"
   ]
  },
  {
   "cell_type": "markdown",
   "id": "improving-undergraduate",
   "metadata": {},
   "source": [
    "build dataframe"
   ]
  },
  {
   "cell_type": "code",
   "execution_count": 3,
   "id": "provincial-journal",
   "metadata": {},
   "outputs": [],
   "source": [
    "utr = \"GTCACCTGGAAGGCCGGGAGCCCCTGCTCATCGCGATCCTCTCCTTGTAC\"\n",
    "utr_snv = \"GTCACCTGGAAGGCCGGGAGCCCCTGCTCATCGCGATGCTCTCCTTGTAC\"\n",
    "utr_shift = \"GTCACCTGGAAGGCCGGGAGCCCCTGCTCATCGCGATCCTCTCCTTGTACN\"\n",
    "utr_snv_shift = \"GTCACCTGGAAGGCCGGGAGCCCCTGCTCATCGCGATGCTCTCCTTGTACN\""
   ]
  },
  {
   "cell_type": "code",
   "execution_count": 4,
   "id": "intermediate-poker",
   "metadata": {},
   "outputs": [],
   "source": [
    "df = pd.DataFrame({\"utr\": [utr, utr_snv, utr_shift, utr_snv_shift]})"
   ]
  },
  {
   "cell_type": "code",
   "execution_count": 5,
   "id": "bizarre-dutch",
   "metadata": {},
   "outputs": [],
   "source": [
    "# Encoding functions\n",
    "one_hot_fn = utils_data.OneHotEncoder(\"utr\")\n",
    "library_fn = utils_data.LibraryEncoder(\"library\", {\"egfp_unmod_1\":0, \"random\":1})\n",
    "\n",
    "generator = utils_data.DataSequence(df, encoding_functions=[one_hot_fn], \n",
    "                                    output_encoding_fn=None, shuffle=True)"
   ]
  },
  {
   "cell_type": "code",
   "execution_count": 6,
   "id": "romance-franklin",
   "metadata": {},
   "outputs": [
    {
     "name": "stdout",
     "output_type": "stream",
     "text": [
      "WARNING:tensorflow:From /opt/modules/i12g/anaconda/3-2018.12/envs/5utrclone/lib/python3.6/site-packages/keras/backend/tensorflow_backend.py:3445: calling dropout (from tensorflow.python.ops.nn_ops) with keep_prob is deprecated and will be removed in a future version.\n",
      "Instructions for updating:\n",
      "Please use `rate` instead of `keep_prob`. Rate should be set to `rate = 1 - keep_prob`.\n"
     ]
    },
    {
     "name": "stderr",
     "output_type": "stream",
     "text": [
      "2021-02-18 11:47:39,160 [WARNING] From /opt/modules/i12g/anaconda/3-2018.12/envs/5utrclone/lib/python3.6/site-packages/keras/backend/tensorflow_backend.py:3445: calling dropout (from tensorflow.python.ops.nn_ops) with keep_prob is deprecated and will be removed in a future version.\n",
      "Instructions for updating:\n",
      "Please use `rate` instead of `keep_prob`. Rate should be set to `rate = 1 - keep_prob`.\n"
     ]
    },
    {
     "name": "stdout",
     "output_type": "stream",
     "text": [
      "WARNING:tensorflow:From /opt/modules/i12g/anaconda/3-2018.12/envs/5utrclone/lib/python3.6/site-packages/tensorflow/python/ops/math_ops.py:3066: to_int32 (from tensorflow.python.ops.math_ops) is deprecated and will be removed in a future version.\n",
      "Instructions for updating:\n",
      "Use tf.cast instead.\n"
     ]
    },
    {
     "name": "stderr",
     "output_type": "stream",
     "text": [
      "2021-02-18 11:48:00,094 [WARNING] From /opt/modules/i12g/anaconda/3-2018.12/envs/5utrclone/lib/python3.6/site-packages/tensorflow/python/ops/math_ops.py:3066: to_int32 (from tensorflow.python.ops.math_ops) is deprecated and will be removed in a future version.\n",
      "Instructions for updating:\n",
      "Use tf.cast instead.\n"
     ]
    },
    {
     "name": "stdout",
     "output_type": "stream",
     "text": [
      "WARNING:tensorflow:From /opt/modules/i12g/anaconda/3-2018.12/envs/5utrclone/lib/python3.6/site-packages/tensorflow/python/ops/math_grad.py:102: div (from tensorflow.python.ops.math_ops) is deprecated and will be removed in a future version.\n",
      "Instructions for updating:\n",
      "Deprecated in favor of operator or tf.math.divide.\n"
     ]
    },
    {
     "name": "stderr",
     "output_type": "stream",
     "text": [
      "2021-02-18 11:48:00,239 [WARNING] From /opt/modules/i12g/anaconda/3-2018.12/envs/5utrclone/lib/python3.6/site-packages/tensorflow/python/ops/math_grad.py:102: div (from tensorflow.python.ops.math_ops) is deprecated and will be removed in a future version.\n",
      "Instructions for updating:\n",
      "Deprecated in favor of operator or tf.math.divide.\n"
     ]
    }
   ],
   "source": [
    "utr_model = load_model(\"../Models/utr_model_50.h5\", custom_objects={'FrameSliceLayer': model.FrameSliceLayer})"
   ]
  },
  {
   "cell_type": "code",
   "execution_count": 7,
   "id": "instructional-track",
   "metadata": {},
   "outputs": [],
   "source": [
    "pred = utr_model.predict_generator(generator)"
   ]
  },
  {
   "cell_type": "code",
   "execution_count": 8,
   "id": "fancy-birth",
   "metadata": {},
   "outputs": [
    {
     "data": {
      "text/plain": [
       "array([[7.189123 ],\n",
       "       [7.453937 ],\n",
       "       [6.1232915],\n",
       "       [3.888638 ]], dtype=float32)"
      ]
     },
     "execution_count": 8,
     "metadata": {},
     "output_type": "execute_result"
    }
   ],
   "source": [
    "pred"
   ]
  },
  {
   "cell_type": "code",
   "execution_count": 9,
   "id": "cleared-document",
   "metadata": {},
   "outputs": [],
   "source": [
    "effect_1 = np.log2(pred[1]/pred[0])\n",
    "effect_2 = np.log2(pred[3]/pred[2])"
   ]
  },
  {
   "cell_type": "code",
   "execution_count": 10,
   "id": "automated-hammer",
   "metadata": {},
   "outputs": [
    {
     "data": {
      "text/plain": [
       "array([0.05218676], dtype=float32)"
      ]
     },
     "execution_count": 10,
     "metadata": {},
     "output_type": "execute_result"
    }
   ],
   "source": [
    "effect_1"
   ]
  },
  {
   "cell_type": "code",
   "execution_count": 11,
   "id": "august-burns",
   "metadata": {},
   "outputs": [
    {
     "data": {
      "text/plain": [
       "array([-0.6550425], dtype=float32)"
      ]
     },
     "execution_count": 11,
     "metadata": {},
     "output_type": "execute_result"
    }
   ],
   "source": [
    "effect_2"
   ]
  },
  {
   "cell_type": "markdown",
   "id": "functional-egypt",
   "metadata": {},
   "source": [
    "Visualization"
   ]
  },
  {
   "cell_type": "code",
   "execution_count": 12,
   "id": "choice-disability",
   "metadata": {},
   "outputs": [],
   "source": [
    "encoded_df = one_hot_fn(df)"
   ]
  },
  {
   "cell_type": "code",
   "execution_count": 13,
   "id": "meaningful-fairy",
   "metadata": {},
   "outputs": [],
   "source": [
    "def explain_deeply(encoded_df, batchsize=64):\n",
    "    K.clear_session()\n",
    "    sess = K.get_session()\n",
    "    with DeepExplain(session=sess) as de:\n",
    "        utr_model = load_model(\"../Models/utr_model_50.h5\", \n",
    "                   custom_objects={'FrameSliceLayer': model.FrameSliceLayer})\n",
    "        input_tensor = utr_model.layers[0].input\n",
    "        target_tensor = utr_model(input_tensor)\n",
    "        return de.explain('occlusion', target_tensor, input_tensor, encoded_df, batch_size=batchsize)"
   ]
  },
  {
   "cell_type": "code",
   "execution_count": 14,
   "id": "direct-luxembourg",
   "metadata": {},
   "outputs": [],
   "source": [
    "def plot_logo(arr, name=\"\", fig_dims = (6.0, 1.5)):\n",
    "    fig,ax = plt.subplots()\n",
    "    seqlogo(arr, vocab=\"RNA\", ax=ax)\n",
    "    ax.get_xaxis().set_visible(False)\n",
    "    ax.get_yaxis().set_visible(False)\n",
    "    ax.set_ylim(-1.75, 1.75)\n",
    "    #ax.set_ylabel(\"\")\n",
    "    #ax.tick_params(axis='both', which='major', labelsize=10)\n",
    "\n",
    "    sns.despine(fig, bottom=True, left=True)\n",
    "    fig.set_size_inches(fig_dims)\n",
    "    fig.savefig(Path(\"../Graphics/Shift/\" + name +\".svg\"))"
   ]
  },
  {
   "cell_type": "code",
   "execution_count": 15,
   "id": "union-millennium",
   "metadata": {},
   "outputs": [
    {
     "name": "stderr",
     "output_type": "stream",
     "text": [
      "2021-02-18 11:48:59,499 [INFO] DeepExplain: running \"occlusion\" explanation method (6)\n",
      "2021-02-18 11:48:59,508 [INFO] Model with multiple inputs: False\n",
      "2021-02-18 11:48:59,513 [INFO] Input shape: [None, 4]; window_shape (1, 1); step 1\n"
     ]
    }
   ],
   "source": [
    "attrib = explain_deeply(encoded_df)"
   ]
  },
  {
   "cell_type": "code",
   "execution_count": 16,
   "id": "august-subject",
   "metadata": {},
   "outputs": [
    {
     "data": {
      "image/png": "[encoded data removed]",
      "text/plain": [
       "<Figure size 432x108 with 1 Axes>"
      ]
     },
     "metadata": {
      "needs_background": "light"
     },
     "output_type": "display_data"
    },
    {
     "data": {
      "image/png": "[encoded data removed]",
      "text/plain": [
       "<Figure size 432x108 with 1 Axes>"
      ]
     },
     "metadata": {
      "needs_background": "light"
     },
     "output_type": "display_data"
    },
    {
     "data": {
      "image/png": "[encoded data removed]",
      "text/plain": [
       "<Figure size 432x108 with 1 Axes>"
      ]
     },
     "metadata": {
      "needs_background": "light"
     },
     "output_type": "display_data"
    },
    {
     "data": {
      "image/png": "[encoded data removed]",
      "text/plain": [
       "<Figure size 432x108 with 1 Axes>"
      ]
     },
     "metadata": {
      "needs_background": "light"
     },
     "output_type": "display_data"
    }
   ],
   "source": [
    "for i in range(4):\n",
    "    plot_logo(attrib[i], name=\"contrib_shift_0\" + str(i))"
   ]
  },
  {
   "cell_type": "markdown",
   "id": "voluntary-lotus",
   "metadata": {},
   "source": [
    "# Indel Example"
   ]
  },
  {
   "cell_type": "code",
   "execution_count": 18,
   "id": "extra-leave",
   "metadata": {},
   "outputs": [
    {
     "name": "stdout",
     "output_type": "stream",
     "text": [
      "[-0.682583]\n"
     ]
    }
   ],
   "source": [
    "utr = \"GTCACCTGGAAGGCCGGGAGCCCCTGCTCATCCCGATCCTCTCCTTGTAC\"\n",
    "utr_snv = \"GTCACCTGGAATGGCCGGGAGCCCCTGCTCATCCCGATCCTCTCCTTGTAC\"\n",
    "\n",
    "df = pd.DataFrame({\"utr\": [utr, utr_snv, utr_snv_shift]})\n",
    "\n",
    "# Encoding functions\n",
    "one_hot_fn = utils_data.OneHotEncoder(\"utr\")\n",
    "library_fn = utils_data.LibraryEncoder(\"library\", {\"egfp_unmod_1\":0, \"random\":1})\n",
    "\n",
    "generator = utils_data.DataSequence(df, encoding_functions=[one_hot_fn], \n",
    "                                    output_encoding_fn=None, shuffle=True)\n",
    "\n",
    "utr_model = load_model(\"../Models/utr_model_50.h5\", custom_objects={'FrameSliceLayer': model.FrameSliceLayer})\n",
    "\n",
    "pred = utr_model.predict_generator(generator)\n",
    "\n",
    "effect = np.log2(pred[1]/pred[0])\n",
    "\n",
    "print(effect)"
   ]
  },
  {
   "cell_type": "code",
   "execution_count": 19,
   "id": "reserved-handling",
   "metadata": {},
   "outputs": [
    {
     "name": "stderr",
     "output_type": "stream",
     "text": [
      "2021-02-12 11:08:57,008 [INFO] DeepExplain: running \"occlusion\" explanation method (6)\n",
      "2021-02-12 11:08:57,017 [INFO] Model with multiple inputs: False\n",
      "2021-02-12 11:08:57,021 [INFO] Input shape: [None, 4]; window_shape (1, 1); step 1\n"
     ]
    }
   ],
   "source": [
    "encoded_df = one_hot_fn(df)\n",
    "attrib = explain_deeply(encoded_df)"
   ]
  },
  {
   "cell_type": "code",
   "execution_count": 24,
   "id": "second-system",
   "metadata": {},
   "outputs": [],
   "source": [
    "def plot_logo(arr, name=\"\", fig_dims = (6.0, 1.5)):\n",
    "    fig,ax = plt.subplots()\n",
    "    seqlogo(arr, vocab=\"RNA\", ax=ax)\n",
    "    ax.get_xaxis().set_visible(False)\n",
    "    ax.get_yaxis().set_visible(False)\n",
    "    ax.set_ylim(-2.5, 2.25)\n",
    "    #ax.set_ylabel(\"\")\n",
    "    #ax.tick_params(axis='both', which='major', labelsize=10)\n",
    "\n",
    "    sns.despine(fig, bottom=True, left=True)\n",
    "    fig.set_size_inches(fig_dims)\n",
    "    fig.savefig(Path(\"../Graphics/Shift/\" + name +\".svg\"))"
   ]
  },
  {
   "cell_type": "code",
   "execution_count": 25,
   "id": "alternate-arrangement",
   "metadata": {},
   "outputs": [
    {
     "data": {
      "image/png": "[encoded data removed]",
      "text/plain": [
       "<Figure size 432x108 with 1 Axes>"
      ]
     },
     "metadata": {
      "needs_background": "light"
     },
     "output_type": "display_data"
    },
    {
     "data": {
      "image/png": "[encoded data removed]",
      "text/plain": [
       "<Figure size 432x108 with 1 Axes>"
      ]
     },
     "metadata": {
      "needs_background": "light"
     },
     "output_type": "display_data"
    }
   ],
   "source": [
    "for i in range(2):\n",
    "    plot_logo(attrib[i], name=\"contrib_indel_\" + str(i))"
   ]
  },
  {
   "cell_type": "code",
   "execution_count": 4,
   "id": "brown-covering",
   "metadata": {},
   "outputs": [
    {
     "name": "stdout",
     "output_type": "stream",
     "text": [
      "WARNING:tensorflow:From /opt/modules/i12g/anaconda/3-2018.12/envs/5utrclone/lib/python3.6/site-packages/keras/backend/tensorflow_backend.py:3445: calling dropout (from tensorflow.python.ops.nn_ops) with keep_prob is deprecated and will be removed in a future version.\n",
      "Instructions for updating:\n",
      "Please use `rate` instead of `keep_prob`. Rate should be set to `rate = 1 - keep_prob`.\n"
     ]
    },
    {
     "name": "stderr",
     "output_type": "stream",
     "text": [
      "2021-02-13 16:21:21,639 [WARNING] From /opt/modules/i12g/anaconda/3-2018.12/envs/5utrclone/lib/python3.6/site-packages/keras/backend/tensorflow_backend.py:3445: calling dropout (from tensorflow.python.ops.nn_ops) with keep_prob is deprecated and will be removed in a future version.\n",
      "Instructions for updating:\n",
      "Please use `rate` instead of `keep_prob`. Rate should be set to `rate = 1 - keep_prob`.\n"
     ]
    },
    {
     "name": "stdout",
     "output_type": "stream",
     "text": [
      "WARNING:tensorflow:From /opt/modules/i12g/anaconda/3-2018.12/envs/5utrclone/lib/python3.6/site-packages/tensorflow/python/ops/math_ops.py:3066: to_int32 (from tensorflow.python.ops.math_ops) is deprecated and will be removed in a future version.\n",
      "Instructions for updating:\n",
      "Use tf.cast instead.\n"
     ]
    },
    {
     "name": "stderr",
     "output_type": "stream",
     "text": [
      "2021-02-13 16:21:23,605 [WARNING] From /opt/modules/i12g/anaconda/3-2018.12/envs/5utrclone/lib/python3.6/site-packages/tensorflow/python/ops/math_ops.py:3066: to_int32 (from tensorflow.python.ops.math_ops) is deprecated and will be removed in a future version.\n",
      "Instructions for updating:\n",
      "Use tf.cast instead.\n"
     ]
    },
    {
     "name": "stdout",
     "output_type": "stream",
     "text": [
      "WARNING:tensorflow:From /opt/modules/i12g/anaconda/3-2018.12/envs/5utrclone/lib/python3.6/site-packages/tensorflow/python/ops/math_grad.py:102: div (from tensorflow.python.ops.math_ops) is deprecated and will be removed in a future version.\n",
      "Instructions for updating:\n",
      "Deprecated in favor of operator or tf.math.divide.\n"
     ]
    },
    {
     "name": "stderr",
     "output_type": "stream",
     "text": [
      "2021-02-13 16:21:23,681 [WARNING] From /opt/modules/i12g/anaconda/3-2018.12/envs/5utrclone/lib/python3.6/site-packages/tensorflow/python/ops/math_grad.py:102: div (from tensorflow.python.ops.math_ops) is deprecated and will be removed in a future version.\n",
      "Instructions for updating:\n",
      "Deprecated in favor of operator or tf.math.divide.\n"
     ]
    },
    {
     "name": "stdout",
     "output_type": "stream",
     "text": [
      "[-0.19877319]\n"
     ]
    }
   ],
   "source": [
    "utr = \"GTCACCTGGAAGGCCGGGAGCCCCTGCTCATCCCGATCCTCTCCTTGTAC\"\n",
    "utr_snv = \"GTCACCTGGAAGGCCGGGAGCCCCTGCTCATCCCGATCCTCTGTCCCCCCTTGTAC\"\n",
    "\n",
    "df = pd.DataFrame({\"utr\": [utr, utr_snv]})\n",
    "\n",
    "# Encoding functions\n",
    "one_hot_fn = utils_data.OneHotEncoder(\"utr\")\n",
    "library_fn = utils_data.LibraryEncoder(\"library\", {\"egfp_unmod_1\":0, \"random\":1})\n",
    "\n",
    "generator = utils_data.DataSequence(df, encoding_functions=[one_hot_fn], \n",
    "                                    output_encoding_fn=None, shuffle=True)\n",
    "\n",
    "utr_model = load_model(\"../Models/utr_model_50.h5\", custom_objects={'FrameSliceLayer': model.FrameSliceLayer})\n",
    "\n",
    "pred = utr_model.predict_generator(generator)\n",
    "\n",
    "effect = np.log2(pred[1]/pred[0])\n",
    "\n",
    "print(effect)"
   ]
  },
  {
   "cell_type": "code",
   "execution_count": 5,
   "id": "union-working",
   "metadata": {},
   "outputs": [
    {
     "data": {
      "text/plain": [
       "array([[7.260539 ],\n",
       "       [6.3260436]], dtype=float32)"
      ]
     },
     "execution_count": 5,
     "metadata": {},
     "output_type": "execute_result"
    }
   ],
   "source": [
    "pred"
   ]
  },
  {
   "cell_type": "code",
   "execution_count": 28,
   "id": "figured-fishing",
   "metadata": {},
   "outputs": [
    {
     "name": "stderr",
     "output_type": "stream",
     "text": [
      "2021-02-12 11:24:55,232 [INFO] DeepExplain: running \"occlusion\" explanation method (6)\n",
      "2021-02-12 11:24:55,241 [INFO] Model with multiple inputs: False\n",
      "2021-02-12 11:24:55,245 [INFO] Input shape: [None, 4]; window_shape (1, 1); step 1\n"
     ]
    }
   ],
   "source": [
    "encoded_df = one_hot_fn(df)\n",
    "attrib = explain_deeply(encoded_df)"
   ]
  },
  {
   "cell_type": "code",
   "execution_count": 30,
   "id": "cleared-marking",
   "metadata": {},
   "outputs": [],
   "source": [
    "def plot_logo(arr, name=\"\", fig_dims = (6.0, 1.5)):\n",
    "    fig,ax = plt.subplots()\n",
    "    seqlogo(arr, vocab=\"RNA\", ax=ax)\n",
    "    ax.get_xaxis().set_visible(False)\n",
    "    ax.get_yaxis().set_visible(False)\n",
    "    ax.set_ylim(-1.5, 1.5)\n",
    "    #ax.set_ylabel(\"\")\n",
    "    #ax.tick_params(axis='both', which='major', labelsize=10)\n",
    "\n",
    "    sns.despine(fig, bottom=True, left=True)\n",
    "    fig.set_size_inches(fig_dims)\n",
    "    fig.savefig(Path(\"../Graphics/Shift/\" + name +\".svg\"))"
   ]
  },
  {
   "cell_type": "code",
   "execution_count": 31,
   "id": "ruled-vocabulary",
   "metadata": {},
   "outputs": [
    {
     "data": {
      "image/png": "[encoded data removed]",
      "text/plain": [
       "<Figure size 432x108 with 1 Axes>"
      ]
     },
     "metadata": {
      "needs_background": "light"
     },
     "output_type": "display_data"
    },
    {
     "data": {
      "image/png": "[encoded data removed]",
      "text/plain": [
       "<Figure size 432x108 with 1 Axes>"
      ]
     },
     "metadata": {
      "needs_background": "light"
     },
     "output_type": "display_data"
    }
   ],
   "source": [
    "for i in range(2):\n",
    "    plot_logo(attrib[i], name=\"contrib_indel_gucccc_\" + str(i))"
   ]
  },
  {
   "cell_type": "code",
   "execution_count": null,
   "id": "acceptable-constant",
   "metadata": {},
   "outputs": [],
   "source": []
  }
 ],
 "metadata": {
  "kernelspec": {
   "display_name": "Python [conda env:3-2018.12-5utrclone]",
   "language": "python",
   "name": "conda-env-3-2018.12-5utrclone-py"
  },
  "language_info": {
   "codemirror_mode": {
    "name": "ipython",
    "version": 3
   },
   "file_extension": ".py",
   "mimetype": "text/x-python",
   "name": "python",
   "nbconvert_exporter": "python",
   "pygments_lexer": "ipython3",
   "version": "3.6.7"
  }
 },
 "nbformat": 4,
 "nbformat_minor": 5
}
