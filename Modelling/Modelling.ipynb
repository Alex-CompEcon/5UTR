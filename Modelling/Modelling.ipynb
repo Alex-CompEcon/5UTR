{
 "cells": [
  {
   "cell_type": "markdown",
   "metadata": {},
   "source": [
    "# **Modelling Replication code**\n",
    "This notebook replicates the main results presented in the paper, from training the model to analysing conservation scores."
   ]
  },
  {
   "cell_type": "code",
   "execution_count": 1,
   "metadata": {},
   "outputs": [
    {
     "name": "stderr",
     "output_type": "stream",
     "text": [
      "Using TensorFlow backend.\n"
     ]
    }
   ],
   "source": [
    "from importlib import reload\n",
    "import re\n",
    "import random\n",
    "random.seed(1337)\n",
    "import os\n",
    "import pickle\n",
    "from decimal import Decimal\n",
    "import collections\n",
    "\n",
    "import numpy as np\n",
    "np.random.seed(1337)\n",
    "import pandas as pd\n",
    "pd.options.mode.chained_assignment = None \n",
    "import scipy.stats as stats\n",
    "from sklearn.linear_model import LinearRegression, Ridge\n",
    "\n",
    "import matplotlib.pyplot as plt\n",
    "from matplotlib.lines import Line2D\n",
    "import seaborn as sns\n",
    "from matplotlib import cm\n",
    "from matplotlib.colors import ListedColormap, LinearSegmentedColormap\n",
    "import plotnine\n",
    "import adjustText\n",
    "\n",
    "# Dont use GPU\n",
    "os.environ['CUDA_VISIBLE_DEVICES'] = '-1'\n",
    "\n",
    "import tensorflow as tf\n",
    "import keras\n",
    "from keras import backend as K\n",
    "from keras.models import load_model\n",
    "from keras.callbacks import ModelCheckpoint, EarlyStopping\n",
    "\n",
    "from IPython.display import SVG\n",
    "from keras.utils.vis_utils import model_to_dot\n",
    "\n",
    "import model\n",
    "import utils\n",
    "import utils_data"
   ]
  },
  {
   "cell_type": "code",
   "execution_count": 2,
   "metadata": {},
   "outputs": [],
   "source": [
    "os.environ[\"HDF5_USE_FILE_LOCKING\"] = \"FALSE\""
   ]
  },
  {
   "cell_type": "markdown",
   "metadata": {},
   "source": [
    "#### Matplotlib config"
   ]
  },
  {
   "cell_type": "code",
   "execution_count": 2,
   "metadata": {},
   "outputs": [],
   "source": [
    "import matplotlib_config"
   ]
  },
  {
   "cell_type": "code",
   "execution_count": 3,
   "metadata": {},
   "outputs": [],
   "source": [
    "reload(matplotlib_config)\n",
    "matplotlib_config.paper_config()"
   ]
  },
  {
   "cell_type": "code",
   "execution_count": 4,
   "metadata": {},
   "outputs": [],
   "source": [
    "fig_dims = matplotlib_config.get_figsize(frac=1/3)"
   ]
  },
  {
   "cell_type": "markdown",
   "metadata": {},
   "source": [
    "#### Utility functions"
   ]
  },
  {
   "cell_type": "code",
   "execution_count": 5,
   "metadata": {},
   "outputs": [],
   "source": [
    "outputval_names = {\"doudna\": \"rl_mean\", \"andreev\":\"log_load\", \"pcr3\":\"log_load\", \"eichhorn\":\"log_load\",\n",
    "                  \"ptr\":\"ptr\", \"wilhelm\":\"ptr\"}\n",
    "\n",
    "# Function to compute correlations\n",
    "def compute_corrs(df, model, one_hot_fn, key, extra_encoding_fn=[]):\n",
    "    generator = utils_data.DataSequence(df, encoding_functions=[one_hot_fn] + extra_encoding_fn, \n",
    "                                                shuffle=False)\n",
    "    predict = model.predict_generator(generator, verbose=0)\n",
    "    return {\"corr\":(stats.pearsonr(predict.reshape(-1), df[outputval_names[key]]), \n",
    "                               stats.spearmanr(predict.reshape(-1), df[outputval_names[key]])),\n",
    "            \"pred\":predict}\n",
    "\n",
    "# Function to compute all test metrics\n",
    "def compute_all_test_metrics(data_dict, model, min_len=None, extra_encoding_fn=[],\n",
    "                             noTG = False,\n",
    "                            postproc_mean=5.58621521, postproc_sd=1.34657403):\n",
    "    result_dict = {}\n",
    "    one_hot_fn = utils_data.OneHotEncoder(\"utr\", min_len=min_len)\n",
    "    # Test sets\n",
    "    data_df = data_dict[\"mpra\"]\n",
    "    if noTG:\n",
    "        data_df = data_df[~(data_df.utr.str[0:2] == \"TG\")]\n",
    "    for key in ['egfp_unmod_1', 'mcherry_1', 'mcherry_2', 'egfp_unmod_2', 'human']:\n",
    "        df = data_df[(data_df.library == key) & (data_df.set == \"test\")]\n",
    "        generator = utils_data.DataSequence(df, encoding_functions=[one_hot_fn] + extra_encoding_fn, shuffle=False)\n",
    "        predict = model.predict_generator(generator, verbose=0)\n",
    "        if key == \"egfp_unmod_1\":\n",
    "            result_dict[key] = (utils.rSquared(predict.reshape(-1), df[\"rl\"]), utils.pearson_r(predict.reshape(-1), df[\"rl\"])[0])\n",
    "        else:\n",
    "            result_dict[key] = utils.pearson_r(predict.reshape(-1), df[\"rl\"])[0]\n",
    "    varlen_df = data_dict[\"varlen_mpra\"]\n",
    "    for key in ['random', 'human']:\n",
    "        df = varlen_df[(varlen_df.library == key) & (varlen_df.set == \"test\")]\n",
    "        generator = utils_data.DataSequence(df, encoding_functions=[one_hot_fn] + extra_encoding_fn, shuffle=False)\n",
    "        predict = model.predict_generator(generator, verbose=0)\n",
    "        if key == \"random\":\n",
    "            result_dict[key] = (utils.rSquared(predict.reshape(-1), df[\"rl\"]), utils.pearson_r(predict.reshape(-1), df[\"rl\"])[0])\n",
    "        if key == \"human\":\n",
    "            result_dict[\"human_varlen\"] = utils.pearson_r(predict.reshape(-1), df[\"rl\"])[0]\n",
    "    # SNV\n",
    "    df = data_dict[\"snv\"]\n",
    "    one_hot_fn_mother = utils_data.OneHotEncoder(\"mother\", min_len=min_len)\n",
    "    gen_wt = utils_data.DataSequence(df, encoding_functions=[one_hot_fn_mother] + extra_encoding_fn, shuffle=False)\n",
    "    predict_wt = model.predict_generator(gen_wt, verbose=0)\n",
    "    gen_snv = utils_data.DataSequence(df, encoding_functions=[one_hot_fn] + extra_encoding_fn, shuffle=False)\n",
    "    predict_snv = model.predict_generator(gen_snv, verbose=0)\n",
    "    if min_len is not None:\n",
    "        predict_wt = predict_wt * postproc_sd + postproc_mean\n",
    "        predict_snv = predict_snv * postproc_sd + postproc_mean\n",
    "    log_pred_diff = np.log2(predict_snv/predict_wt)\n",
    "    result_dict[\"snv\"] = utils.pearson_r(log_pred_diff.reshape(-1), df[\"log_obs_diff\"])[0]\n",
    "    # Endogenous data\n",
    "    for key in [\"doudna\", \"andreev\", \"pcr3\", \"eichhorn\", \"ptr\", \"wilhelm\"]:\n",
    "        result_dict[key] = compute_corrs(data_dict[key], model, one_hot_fn, key, extra_encoding_fn=extra_encoding_fn)[\"corr\"]\n",
    "    return result_dict\n",
    "\n",
    "# Function to compute metrics on endogenous data split by sequence length\n",
    "def compute_split_metrics(data_dict, model, min_len=None, splits=[0, 100], extra_encoding_fn=[]):\n",
    "    splits2 = splits[1:] + [1000000]\n",
    "    result_dict = {str(split):{} for split in splits2[:-1]}\n",
    "    result_dict[\"long\"] = {}\n",
    "    one_hot_fn = utils_data.OneHotEncoder(\"utr\", min_len=min_len)\n",
    "    for key in [\"doudna\", \"andreev\", \"pcr3\", \"eichhorn\", \"ptr\", \"wilhelm\"]:\n",
    "        print(\"Analysing set: \" + key)\n",
    "        df = data_dict[key]\n",
    "        for i in range(len(splits)):\n",
    "            print(\"Analysing split from: \" + str(splits[i]) + \" to: \" + str(splits2[i]))\n",
    "            subset = df[(df.utr.str.len() > splits[i]) & (df.utr.str.len() <= splits2[i])]\n",
    "            model_result = compute_corrs(subset, model, one_hot_fn, key, extra_encoding_fn=extra_encoding_fn)\n",
    "            total_corr = model_result[\"corr\"]\n",
    "            pred = model_result[\"pred\"]\n",
    "            if i == len(splits) - 1:\n",
    "                result_key = \"long\"\n",
    "            else:\n",
    "                result_key = str(splits2[i])\n",
    "            result_dict[result_key][key] = {\"corr\":(total_corr[0][0], total_corr[1][0]),\n",
    "                                           \"pred\":pred.reshape(-1),\n",
    "                                           \"obs\":np.array(subset[outputval_names[key]]).reshape(-1)}\n",
    "    return result_dict"
   ]
  },
  {
   "cell_type": "markdown",
   "metadata": {},
   "source": [
    "# **Reading in the data**\n",
    "Reading in the data pickle to run model training and/or evaluations"
   ]
  },
  {
   "cell_type": "code",
   "execution_count": 6,
   "metadata": {},
   "outputs": [],
   "source": [
    "with open(\"../Data/data_dict.pkl\", 'rb') as handle:\n",
    "    data_dict = pickle.load(handle)"
   ]
  },
  {
   "cell_type": "code",
   "execution_count": 7,
   "metadata": {},
   "outputs": [
    {
     "name": "stdout",
     "output_type": "stream",
     "text": [
      "mpra\n",
      "980244\n",
      "snv\n",
      "1584\n",
      "ptr\n",
      "11575\n",
      "wilhelm\n",
      "5293\n",
      "andreev\n",
      "8003\n",
      "pcr3\n",
      "7672\n",
      "eichhorn\n",
      "8956\n",
      "doudna\n",
      "25831\n",
      "varlen_mpra\n",
      "102214\n"
     ]
    }
   ],
   "source": [
    "for key in data_dict:\n",
    "    print(key)\n",
    "    print(len(data_dict[key]))"
   ]
  },
  {
   "cell_type": "markdown",
   "metadata": {},
   "source": [
    "# **Training**\n",
    "#### **(Skip if not making new model)**\n",
    "This code shows how to train a framepool model from scratch"
   ]
  },
  {
   "cell_type": "markdown",
   "metadata": {},
   "source": [
    "### Prepare training data"
   ]
  },
  {
   "cell_type": "code",
   "execution_count": 8,
   "metadata": {},
   "outputs": [],
   "source": [
    "# length 50 mpra data\n",
    "one_hot = utils_data.OneHotEncoder(\"utr\")\n",
    "mpra_data = data_dict[\"mpra\"]\n",
    "train_data_50 = mpra_data[(mpra_data.set == \"train\") & (mpra_data.library == \"egfp_unmod_1\")]\n",
    "val_data = mpra_data[(mpra_data.set == \"val\") & (mpra_data.library == \"egfp_unmod_1\")]\n",
    "encoded_mpra_train_50 = one_hot(train_data_50)\n",
    "encoded_mpra_val = one_hot(val_data)"
   ]
  },
  {
   "cell_type": "code",
   "execution_count": null,
   "metadata": {},
   "outputs": [],
   "source": [
    "# variable length (up to 100) mpra data\n",
    "mpra_data_varlen = data_dict[\"varlen_mpra\"]\n",
    "train_data = mpra_data_varlen[(mpra_data_varlen.set == \"train\") & (mpra_data_varlen.library == \"random\")]\n",
    "encoded_mpra_train = one_hot(train_data)"
   ]
  },
  {
   "cell_type": "code",
   "execution_count": 11,
   "metadata": {},
   "outputs": [],
   "source": [
    "# combined length 50 and variable length mpra data\n",
    "train_data_combined = pd.concat([train_data[[\"utr\", \"rl\", \"library\"]], train_data_50[[\"utr\", \"rl\", \"library\"]]])\n",
    "one_hot_fn = utils_data.OneHotEncoder(\"utr\")\n",
    "library_fn = utils_data.LibraryEncoder(\"library\", {\"egfp_unmod_1\":0, \"random\":1})\n",
    "out_encoding_fn = utils_data.DataFrameExtractor(\"rl\", method=\"direct\")\n",
    "generator_combined = utils_data.DataSequence(train_data_combined, encoding_functions=[one_hot_fn, library_fn], \n",
    "                                    output_encoding_fn=out_encoding_fn, shuffle=True)"
   ]
  },
  {
   "cell_type": "code",
   "execution_count": 613,
   "metadata": {},
   "outputs": [],
   "source": [
    "# without TG start\n",
    "train_data_noTG = train_data_combined[~(train_data_combined.utr.str[0:2] == \"TG\")]\n",
    "generator_noTG = utils_data.DataSequence(train_data_noTG, encoding_functions=[one_hot_fn, library_fn], \n",
    "                                    output_encoding_fn=out_encoding_fn, shuffle=True)"
   ]
  },
  {
   "cell_type": "markdown",
   "metadata": {},
   "source": [
    "### Train a Model"
   ]
  },
  {
   "cell_type": "code",
   "execution_count": 620,
   "metadata": {},
   "outputs": [],
   "source": [
    "reload(model)\n",
    "utr_model = model.create_frame_slice_model(kernel_size=[7,7,7],\n",
    "                        only_max_pool=False,\n",
    "                        padding=\"same\",\n",
    "                        skip_connections=\"residual\",\n",
    "                        use_scaling_regression=True, library_size=2)"
   ]
  },
  {
   "cell_type": "code",
   "execution_count": 621,
   "metadata": {},
   "outputs": [
    {
     "name": "stdout",
     "output_type": "stream",
     "text": [
      "Epoch 1/6\n",
      " - 159s - loss: 1.2391\n",
      "Epoch 2/6\n",
      " - 284s - loss: 0.6966\n",
      "Epoch 3/6\n",
      " - 282s - loss: 0.5559\n",
      "Epoch 4/6\n",
      " - 282s - loss: 0.4806\n",
      "Epoch 5/6\n",
      " - 283s - loss: 0.4513\n",
      "Epoch 6/6\n",
      " - 284s - loss: 0.4200\n"
     ]
    },
    {
     "data": {
      "text/plain": [
       "<keras.callbacks.History at 0x7f5eb42d2b70>"
      ]
     },
     "execution_count": 621,
     "metadata": {},
     "output_type": "execute_result"
    }
   ],
   "source": [
    "utr_model.fit_generator(generator_noTG, epochs=6, verbose=2)"
   ]
  },
  {
   "cell_type": "code",
   "execution_count": 628,
   "metadata": {},
   "outputs": [],
   "source": [
    "utr_model.save(\"../Models/utr_model_combined_residual_noTG.h5\")"
   ]
  },
  {
   "cell_type": "markdown",
   "metadata": {},
   "source": [
    "### Evaluate it"
   ]
  },
  {
   "cell_type": "code",
   "execution_count": 46,
   "metadata": {},
   "outputs": [],
   "source": [
    "utr_model_combined = load_model(\"..Models/Framepool_combined_residual_noTG.h5\", custom_objects={'FrameSliceLayer': model.FrameSliceLayer})"
   ]
  },
  {
   "cell_type": "code",
   "execution_count": 623,
   "metadata": {},
   "outputs": [],
   "source": [
    "metrics = compute_all_test_metrics(data_dict, utr_model, extra_encoding_fn=[library_fn], noTG = True)"
   ]
  },
  {
   "cell_type": "code",
   "execution_count": 625,
   "metadata": {},
   "outputs": [],
   "source": [
    "# pickle and save\n",
    "with open(\"../Data/Metrics/metrics_frameslice_combined_noTG_dict.pkl\", 'wb') as handle:\n",
    "    pickle.dump(metrics, handle, protocol=pickle.HIGHEST_PROTOCOL)"
   ]
  },
  {
   "cell_type": "code",
   "execution_count": 626,
   "metadata": {},
   "outputs": [],
   "source": [
    "with open(\"../Data/Metrics/metrics_frameslice_50_dict.pkl\", 'rb') as handle:\n",
    "    metrics_frameslice_50 = pickle.load(handle)\n",
    "with open(\"../Data/Metrics/metrics_frameslice_100_dict.pkl\", 'rb') as handle:\n",
    "    metrics_frameslice_100 = pickle.load(handle)\n",
    "with open(\"../Data/Metrics/metrics_frameslice_combined_dict.pkl\", 'rb') as handle:\n",
    "    metrics_frameslice_combined = pickle.load(handle)\n",
    "with open(\"../Data/Metrics/metrics_frameslice_combined_noTG_dict.pkl\", 'rb') as handle:\n",
    "    metrics_frameslice_combined_noTG = pickle.load(handle)"
   ]
  },
  {
   "cell_type": "code",
   "execution_count": 627,
   "metadata": {},
   "outputs": [
    {
     "name": "stdout",
     "output_type": "stream",
     "text": [
      "egfp_unmod_1\n",
      "(0.9221064552942099, 0.9286913985005334)\n",
      "(0.6238430947475788, 0.8626600121588603)\n",
      "(0.9021292130831058, 0.9097982804043929)\n",
      "(0.9176483663963254, 0.9234777685505821)\n",
      "mcherry_1\n",
      "0.6937217350567138\n",
      "0.6557430404941327\n",
      "0.6901184146770003\n",
      "0.6983342416428424\n",
      "mcherry_2\n",
      "0.7625899974346826\n",
      "0.7168778661688588\n",
      "0.7495499047058781\n",
      "0.7667770474909021\n",
      "egfp_unmod_2\n",
      "0.8502690102010035\n",
      "0.8066638829680413\n",
      "0.8314158699899794\n",
      "0.8469290748854641\n",
      "human\n",
      "0.7779039427378039\n",
      "0.7043140526130449\n",
      "0.7515240412710117\n",
      "0.7791964628818739\n",
      "random\n",
      "(-0.02819618345471775, 0.8109036397203787)\n",
      "(0.79706930893472, 0.814719212159738)\n",
      "(0.8315714881284952, 0.8348638498491876)\n",
      "(0.7982508671235763, 0.8111453721672645)\n",
      "human_varlen\n",
      "0.7594276408239143\n",
      "0.7807088113039873\n",
      "0.79846334514603\n",
      "0.7606855349993633\n",
      "snv\n",
      "0.5317956093905337\n",
      "0.5247975465973355\n",
      "0.5369803198493659\n",
      "0.5136090571166904\n",
      "doudna\n",
      "((0.12579558122090928, 1.350383713736952e-91), SpearmanrResult(correlation=0.13118200770847457, pvalue=1.65365573710095e-99))\n",
      "((0.15630874920080737, 5.825983570910145e-141), SpearmanrResult(correlation=0.15500563120352004, pvalue=1.2613197345253893e-138))\n",
      "((0.15037564662230432, 1.7119617527074965e-130), SpearmanrResult(correlation=0.15139370805923183, pvalue=2.933111817532756e-132))\n",
      "((0.1568576232042745, 5.964136641591017e-142), SpearmanrResult(correlation=0.1577375368023854, pvalue=1.5175956757658046e-143))\n",
      "andreev\n",
      "((0.22148899407729158, 1.6229052437639095e-89), SpearmanrResult(correlation=0.22278385296500075, pvalue=1.4335832404232784e-90))\n",
      "((0.21940993587266217, 7.732349275333767e-88), SpearmanrResult(correlation=0.22974414423216175, pvalue=2.3738534282130626e-96))\n",
      "((0.22041212946070887, 1.2067112764137528e-88), SpearmanrResult(correlation=0.2273693099510685, pvalue=2.3440393062584742e-94))\n",
      "((0.22735925343450542, 2.3898035169163802e-94), SpearmanrResult(correlation=0.23210865403050518, pvalue=2.3270951049381952e-98))\n",
      "pcr3\n",
      "((0.2540046005656686, 2.9796452629926214e-113), SpearmanrResult(correlation=0.25860435454432995, pvalue=1.8330386535751417e-117))\n",
      "((0.19529520862867977, 7.962373956640878e-67), SpearmanrResult(correlation=0.21661497470840518, pvalue=3.803650816598042e-82))\n",
      "((0.2076206224317757, 1.7916027092125737e-75), SpearmanrResult(correlation=0.2241464674519909, pvalue=5.678964021699567e-88))\n",
      "((0.2200638342901063, 8.698803197462049e-85), SpearmanrResult(correlation=0.23364781155162617, pvalue=1.2334936598890036e-95))\n",
      "eichhorn\n",
      "((0.20594986880536664, 2.1942639688280897e-86), SpearmanrResult(correlation=0.20876076152711726, pvalue=9.269779369851183e-89))\n",
      "((0.24634679846596286, 6.397546258122493e-124), SpearmanrResult(correlation=0.24241430217289267, pvalue=6.130151663719192e-120))\n",
      "((0.24323229309617633, 9.230402139416506e-121), SpearmanrResult(correlation=0.23922680394651036, pvalue=9.161835791759236e-117))\n",
      "((0.24564155750586172, 3.352234703973723e-123), SpearmanrResult(correlation=0.24119068573742522, pvalue=1.0272237559094862e-118))\n",
      "ptr\n",
      "((0.14513992275643312, 1.5934928801990188e-55), SpearmanrResult(correlation=0.15227648118781215, pvalue=5.332786175341192e-61))\n",
      "((0.16718217108037847, 2.5476960344277942e-73), SpearmanrResult(correlation=0.17542887801596682, pvalue=1.1753584018982976e-80))\n",
      "((0.17066926745702618, 2.2366028170241895e-76), SpearmanrResult(correlation=0.17640077646955424, pvalue=1.5171371479133524e-81))\n",
      "((0.16854150930873885, 1.6693228390218056e-74), SpearmanrResult(correlation=0.17483373235644345, pvalue=4.093325675029336e-80))\n",
      "wilhelm\n",
      "((0.11427086857611622, 7.497680393139481e-17), SpearmanrResult(correlation=0.10990945864397565, pvalue=1.0690690123398123e-15))\n",
      "((0.11298068759855727, 1.6633728960145133e-16), SpearmanrResult(correlation=0.12530665598775617, pvalue=5.673966754748017e-20))\n",
      "((0.11743583351805544, 1.0217683299296175e-17), SpearmanrResult(correlation=0.12286107805402838, pvalue=2.9542830548926634e-19))\n",
      "((0.12477898129976966, 8.122741718535544e-20), SpearmanrResult(correlation=0.12810275764290827, pvalue=8.263242130806743e-21))\n"
     ]
    }
   ],
   "source": [
    "for key in metrics_frameslice_100:\n",
    "    print(key)\n",
    "    print(metrics_frameslice_50[key])\n",
    "    print(metrics_frameslice_100[key])\n",
    "    print(metrics_frameslice_combined[key])\n",
    "    print(metrics_frameslice_combined_noTG[key])"
   ]
  },
  {
   "cell_type": "markdown",
   "metadata": {},
   "source": [
    "# **Validations**\n"
   ]
  },
  {
   "cell_type": "markdown",
   "metadata": {},
   "source": [
    "## **Import all models**\n",
    "We import all the models we need to run the validations"
   ]
  },
  {
   "cell_type": "code",
   "execution_count": 9,
   "metadata": {},
   "outputs": [],
   "source": [
    "# Load models\n",
    "utr_model_50 = load_model(\"../Models/utr_model_50.h5\", custom_objects={'FrameSliceLayer': model.FrameSliceLayer}) # Framepool50\n",
    "utr_model = load_model(\"../Models/utr_model_100_residual.h5\", custom_objects={'FrameSliceLayer': model.FrameSliceLayer}) # Framepool100\n",
    "library_fn = utils_data.LibraryEncoder(\"library\", {\"egfp_unmod_1\":0, \"random\":1})\n",
    "utr_model_combined = load_model(\"../Models/utr_model_combined_residual.h5\", custom_objects={'FrameSliceLayer': model.FrameSliceLayer}) # FramepoolCombined\n",
    "utr_model_combined_noTG = load_model(\"../Models/utr_model_combined_residual_noTG.h5\", custom_objects={'FrameSliceLayer': model.FrameSliceLayer})\n",
    "paper_model_orig = load_model(\"../Models/main_MRL_model.hdf5\") # Optimus50\n",
    "paper_model = load_model(\"../Models/retrained_main_MRL_model.hdf5\") \n",
    "paper_model2 = load_model(\"../Models/Varying_length_25to100_model.hdf5\") # Optimus100\n",
    "modelname_dict = {\"Optimus50\": paper_model_orig, \"Framepool50\": utr_model_50,\n",
    "                  \"Optimus100\": paper_model2, \"Framepool100\": utr_model, \"FramepoolCombined\": utr_model_combined}"
   ]
  },
  {
   "cell_type": "markdown",
   "metadata": {},
   "source": [
    "## **Validation on MPRA data**\n",
    "We plot the performance of our models and Optimus models on MPRA data"
   ]
  },
  {
   "cell_type": "code",
   "execution_count": 10,
   "metadata": {},
   "outputs": [],
   "source": [
    "# Code to run a prediction on MPRA data\n",
    "def predict_on_MPRA(model, data_dict, varlen = False, library = \"egfp_unmod_1\", min_len = None,\n",
    "                    extra_encoding_fn=[], postproc_mean=5.58621521, postproc_sd=1.34657403):\n",
    "    one_hot_fn = utils_data.OneHotEncoder(\"utr\", min_len=min_len)\n",
    "    if varlen:\n",
    "        data_df = data_dict[\"varlen_mpra\"].copy()\n",
    "    else:\n",
    "        data_df = data_dict[\"mpra\"].copy()\n",
    "    df = data_df[(data_df.library == library) & (data_df.set == \"test\")]\n",
    "    generator = utils_data.DataSequence(df, encoding_functions=[one_hot_fn] + extra_encoding_fn, shuffle=False)\n",
    "    predict = model.predict_generator(generator, verbose=0)\n",
    "    if min_len is not None:\n",
    "        predict = predict * postproc_sd + postproc_mean\n",
    "    df[\"pred\"] = predict.reshape(-1)\n",
    "    df = df.rename(columns={\"pred\": \"Predicted MRL\", \"rl\": \"Observed MRL\"})\n",
    "    return df"
   ]
  },
  {
   "cell_type": "code",
   "execution_count": 11,
   "metadata": {},
   "outputs": [],
   "source": [
    "# build dataframe\n",
    "def build_mpra_prediction():\n",
    "    concat_df = pd.DataFrame(columns=['Predicted MRL', 'Observed MRL', 'model', 'data', 'R'])\n",
    "    for modelname in [\"Optimus50\", \"Framepool50\", \"Optimus100\", \"Framepool100\", \"FramepoolCombined\"]:\n",
    "        predmodel = modelname_dict[modelname]\n",
    "        min_len = None\n",
    "        if modelname == \"Optimus50\":\n",
    "            min_len = 50\n",
    "        if modelname == \"Optimus100\":\n",
    "            min_len = 100\n",
    "        extra_encoding_function = []\n",
    "        if modelname == \"FramepoolCombined\":\n",
    "            extra_encoding_function = [library_fn] \n",
    "        for data in [(\"Fixed length (50 nt) MPRA\", \"egfp_unmod_1\", False), (\"Variable length (25-100 nt) MPRA\", \"random\", True)]:\n",
    "            varlen = data[2]\n",
    "            dataname = data[0]\n",
    "            library = data[1]\n",
    "            pred_df = predict_on_MPRA(predmodel, data_dict, varlen = varlen, library = library, min_len = min_len,\n",
    "                                     extra_encoding_fn = extra_encoding_function)\n",
    "            pred_df = pred_df[[\"Predicted MRL\", \"Observed MRL\"]]\n",
    "            #print((modelname, dataname))\n",
    "            pred_df[\"model\"] = modelname\n",
    "            pred_df[\"data\"] = dataname\n",
    "            pred_df[\"R\"] = round(stats.pearsonr(pred_df[\"Predicted MRL\"], pred_df[\"Observed MRL\"])[0], 3)\n",
    "            concat_df = pd.concat([concat_df, pred_df])\n",
    "    return concat_df\n",
    "\n",
    "mpra_pred_df = build_mpra_prediction()"
   ]
  },
  {
   "cell_type": "code",
   "execution_count": 12,
   "metadata": {},
   "outputs": [
    {
     "data": {
      "text/html": [
       "<div>\n",
       "<style scoped>\n",
       "    .dataframe tbody tr th:only-of-type {\n",
       "        vertical-align: middle;\n",
       "    }\n",
       "\n",
       "    .dataframe tbody tr th {\n",
       "        vertical-align: top;\n",
       "    }\n",
       "\n",
       "    .dataframe thead th {\n",
       "        text-align: right;\n",
       "    }\n",
       "</style>\n",
       "<table border=\"1\" class=\"dataframe\">\n",
       "  <thead>\n",
       "    <tr style=\"text-align: right;\">\n",
       "      <th></th>\n",
       "      <th>model</th>\n",
       "      <th>data</th>\n",
       "      <th>R</th>\n",
       "    </tr>\n",
       "  </thead>\n",
       "  <tbody>\n",
       "    <tr>\n",
       "      <th>0</th>\n",
       "      <td>Optimus50</td>\n",
       "      <td>Fixed length (50 nt) MPRA</td>\n",
       "      <td>0.966</td>\n",
       "    </tr>\n",
       "    <tr>\n",
       "      <th>1</th>\n",
       "      <td>Optimus50</td>\n",
       "      <td>Variable length (25-100 nt) MPRA</td>\n",
       "      <td>0.743</td>\n",
       "    </tr>\n",
       "    <tr>\n",
       "      <th>0</th>\n",
       "      <td>Framepool50</td>\n",
       "      <td>Fixed length (50 nt) MPRA</td>\n",
       "      <td>0.964</td>\n",
       "    </tr>\n",
       "    <tr>\n",
       "      <th>1</th>\n",
       "      <td>Framepool50</td>\n",
       "      <td>Variable length (25-100 nt) MPRA</td>\n",
       "      <td>0.901</td>\n",
       "    </tr>\n",
       "    <tr>\n",
       "      <th>0</th>\n",
       "      <td>Optimus100</td>\n",
       "      <td>Fixed length (50 nt) MPRA</td>\n",
       "      <td>0.938</td>\n",
       "    </tr>\n",
       "    <tr>\n",
       "      <th>1</th>\n",
       "      <td>Optimus100</td>\n",
       "      <td>Variable length (25-100 nt) MPRA</td>\n",
       "      <td>0.915</td>\n",
       "    </tr>\n",
       "    <tr>\n",
       "      <th>0</th>\n",
       "      <td>Framepool100</td>\n",
       "      <td>Fixed length (50 nt) MPRA</td>\n",
       "      <td>0.929</td>\n",
       "    </tr>\n",
       "    <tr>\n",
       "      <th>1</th>\n",
       "      <td>Framepool100</td>\n",
       "      <td>Variable length (25-100 nt) MPRA</td>\n",
       "      <td>0.903</td>\n",
       "    </tr>\n",
       "    <tr>\n",
       "      <th>0</th>\n",
       "      <td>FramepoolCombined</td>\n",
       "      <td>Fixed length (50 nt) MPRA</td>\n",
       "      <td>0.954</td>\n",
       "    </tr>\n",
       "    <tr>\n",
       "      <th>1</th>\n",
       "      <td>FramepoolCombined</td>\n",
       "      <td>Variable length (25-100 nt) MPRA</td>\n",
       "      <td>0.914</td>\n",
       "    </tr>\n",
       "  </tbody>\n",
       "</table>\n",
       "</div>"
      ],
      "text/plain": [
       "               model                              data      R\n",
       "0          Optimus50         Fixed length (50 nt) MPRA  0.966\n",
       "1          Optimus50  Variable length (25-100 nt) MPRA  0.743\n",
       "0        Framepool50         Fixed length (50 nt) MPRA  0.964\n",
       "1        Framepool50  Variable length (25-100 nt) MPRA  0.901\n",
       "0         Optimus100         Fixed length (50 nt) MPRA  0.938\n",
       "1         Optimus100  Variable length (25-100 nt) MPRA  0.915\n",
       "0       Framepool100         Fixed length (50 nt) MPRA  0.929\n",
       "1       Framepool100  Variable length (25-100 nt) MPRA  0.903\n",
       "0  FramepoolCombined         Fixed length (50 nt) MPRA  0.954\n",
       "1  FramepoolCombined  Variable length (25-100 nt) MPRA  0.914"
      ]
     },
     "execution_count": 12,
     "metadata": {},
     "output_type": "execute_result"
    }
   ],
   "source": [
    "mpra_pred_df[[\"model\", \"data\", \"R\"]].drop_duplicates()"
   ]
  },
  {
   "cell_type": "code",
   "execution_count": 583,
   "metadata": {},
   "outputs": [
    {
     "name": "stderr",
     "output_type": "stream",
     "text": [
      "/data/ouga04b/ag_gagneur/home/karollus/.conda/envs/karollus-env/lib/python3.6/site-packages/matplotlib/__init__.py:855: MatplotlibDeprecationWarning: \n",
      "examples.directory is deprecated; in the future, examples will be found relative to the 'datapath' directory.\n",
      "  \"found relative to the 'datapath' directory.\".format(key))\n",
      "/data/ouga04b/ag_gagneur/home/karollus/.conda/envs/karollus-env/lib/python3.6/site-packages/matplotlib/__init__.py:846: MatplotlibDeprecationWarning: \n",
      "The text.latex.unicode rcparam was deprecated in Matplotlib 2.2 and will be removed in 3.1.\n",
      "  \"2.2\", name=key, obj_type=\"rcparam\", addendum=addendum)\n"
     ]
    },
    {
     "data": {
      "image/png": "[encoded data removed]",
      "text/plain": [
       "<Figure size 640x480 with 4 Axes>"
      ]
     },
     "metadata": {},
     "output_type": "display_data"
    },
    {
     "data": {
      "text/plain": [
       "<ggplot: (-9223363284445303692)>"
      ]
     },
     "execution_count": 583,
     "metadata": {},
     "output_type": "execute_result"
    }
   ],
   "source": [
    "# Build a subset\n",
    "mpra_pred_df_sub = mpra_pred_df[mpra_pred_df.model.isin([\"Optimus50\",\"Framepool50\"])]\n",
    "\n",
    "# Fix labels\n",
    "plotlabel_dict = {\"A\": \"Optimus50\", \"B\": \"Framepool50\", \"C\": \"Fixed length (50 nt) MPRA\", \"D\": \"Variable length (25-100 nt) MPRA\"}\n",
    "inv_plotlabel_dict = {v: k for k, v in plotlabel_dict.items()}\n",
    "mpra_pred_df_sub[\"model_factor\"] = mpra_pred_df_sub[\"model\"].apply(lambda x: inv_plotlabel_dict[x])\n",
    "mpra_pred_df_sub[\"data_factor\"] = mpra_pred_df_sub[\"data\"].apply(lambda x: inv_plotlabel_dict[x])\n",
    "mpra_pred_R_df_sub = mpra_pred_df_sub[[\"model_factor\", \"data_factor\", \"R\"]].drop_duplicates()\n",
    "mpra_pred_R_df_sub[\"R\"] = mpra_pred_R_df_sub[\"R\"].apply(lambda x: \"R = \" + str(x))\n",
    "labeller = plotnine.facets.labelling.as_labeller(plotlabel_dict)\n",
    "\n",
    "# Plot\n",
    "p = (plotnine.ggplot(mpra_pred_df_sub, plotnine.aes('Predicted MRL', 'Observed MRL'))\n",
    " #+ plotnine.geom_point(alpha = 0.05, shape = \".\", color = \"darkblue\")\n",
    " + plotnine.geom_bin2d(binwidth = 0.08)\n",
    " + plotnine.scale_fill_continuous(ListedColormap(cm.get_cmap('Blues', 512)(np.linspace(0.25, 1, 384))), trans=\"log10\")\n",
    " #+ plotnine.labs(fill=\"\")\n",
    " + plotnine.facet_grid('model_factor ~ data_factor', labeller = labeller)\n",
    " + plotnine.geom_text(size = 10, data = mpra_pred_R_df_sub, mapping = plotnine.aes(x = 3, y = 7, label = \"R\"), fontstyle = \"italic\")\n",
    " + plotnine.theme_matplotlib())\n",
    "p"
   ]
  },
  {
   "cell_type": "code",
   "execution_count": 584,
   "metadata": {},
   "outputs": [
    {
     "name": "stderr",
     "output_type": "stream",
     "text": [
      "/data/ouga04b/ag_gagneur/home/karollus/.conda/envs/karollus-env/lib/python3.6/site-packages/plotnine/ggplot.py:729: PlotnineWarning: Saving 7.0 x 4.62 in image.\n",
      "  from_inches(height, units), units), PlotnineWarning)\n",
      "/data/ouga04b/ag_gagneur/home/karollus/.conda/envs/karollus-env/lib/python3.6/site-packages/plotnine/ggplot.py:730: PlotnineWarning: Filename: ../Graphics/Fig2.svg\n",
      "  warn('Filename: {}'.format(filename), PlotnineWarning)\n",
      "/data/ouga04b/ag_gagneur/home/karollus/.conda/envs/karollus-env/lib/python3.6/site-packages/matplotlib/__init__.py:855: MatplotlibDeprecationWarning: \n",
      "examples.directory is deprecated; in the future, examples will be found relative to the 'datapath' directory.\n",
      "  \"found relative to the 'datapath' directory.\".format(key))\n",
      "/data/ouga04b/ag_gagneur/home/karollus/.conda/envs/karollus-env/lib/python3.6/site-packages/matplotlib/__init__.py:846: MatplotlibDeprecationWarning: \n",
      "The text.latex.unicode rcparam was deprecated in Matplotlib 2.2 and will be removed in 3.1.\n",
      "  \"2.2\", name=key, obj_type=\"rcparam\", addendum=addendum)\n"
     ]
    }
   ],
   "source": [
    "p.save(\"../Graphics/\" + \"Fig2\" + \".svg\", width=7.0, height=7.0*0.66)"
   ]
  },
  {
   "cell_type": "markdown",
   "metadata": {},
   "source": [
    "## **Validation on endogenous data**\n",
    "We plot the performance of our models and Optimus models on endogenous data, split by sequence length"
   ]
  },
  {
   "cell_type": "markdown",
   "metadata": {},
   "source": [
    "#### Compute split metrics"
   ]
  },
  {
   "cell_type": "code",
   "execution_count": null,
   "metadata": {},
   "outputs": [],
   "source": [
    "metrics_split_optimus_50 = compute_split_metrics(data_dict, paper_model, min_len=50, splits=[0, 50])\n",
    "metrics_split_frameslice_50 = compute_split_metrics(data_dict, utr_model_50, splits=[0, 50])"
   ]
  },
  {
   "cell_type": "code",
   "execution_count": null,
   "metadata": {},
   "outputs": [],
   "source": [
    "metrics_split_optimus_100 = compute_split_metrics(data_dict, paper_model2, min_len=100)\n",
    "metrics_split_frameslice_100 = compute_split_metrics(data_dict, utr_model)"
   ]
  },
  {
   "cell_type": "code",
   "execution_count": null,
   "metadata": {},
   "outputs": [],
   "source": [
    "metrics_split_frameslice_combined = compute_split_metrics(\n",
    "    data_dict, utr_model_combined, extra_encoding_fn=[library_fn])"
   ]
  },
  {
   "cell_type": "code",
   "execution_count": 60,
   "metadata": {},
   "outputs": [],
   "source": [
    "# Save computed metrics\n",
    "with open(\"../Data/Metrics/metrics_split_optimus_50_dict.pkl\", 'wb') as handle:\n",
    "    pickle.dump(metrics_split_optimus_50, handle, protocol=pickle.HIGHEST_PROTOCOL)\n",
    "with open(\"../Data/Metrics/metrics_split_frameslice_50_dict.pkl\", 'wb') as handle:\n",
    "    pickle.dump(metrics_split_frameslice_50, handle, protocol=pickle.HIGHEST_PROTOCOL)\n",
    "with open(\"../Data/Metrics/metrics_split_optimus_100_dict.pkl\", 'wb') as handle:\n",
    "    pickle.dump(metrics_split_optimus_100, handle, protocol=pickle.HIGHEST_PROTOCOL)\n",
    "with open(\"../Data/Metrics/metrics_split_frameslice_100_dict.pkl\", 'wb') as handle:\n",
    "    pickle.dump(metrics_split_frameslice_100, handle, protocol=pickle.HIGHEST_PROTOCOL)\n",
    "with open(\"../Data/Metrics/metrics_split_frameslice_combined_dict.pkl\", 'wb') as handle:\n",
    "    pickle.dump(metrics_split_frameslice_combined, handle, protocol=pickle.HIGHEST_PROTOCOL)"
   ]
  },
  {
   "cell_type": "markdown",
   "metadata": {},
   "source": [
    "#### Prepare dataframe for plotting"
   ]
  },
  {
   "cell_type": "code",
   "execution_count": 14,
   "metadata": {},
   "outputs": [],
   "source": [
    "# Load metrics\n",
    "with open(\"../Data/Metrics/metrics_split_frameslice_50_dict.pkl\", 'rb') as handle:\n",
    "    metrics_split_frameslice_50 = pickle.load(handle)\n",
    "with open(\"../Data/Metrics/metrics_split_optimus_50_dict.pkl\", 'rb') as handle:\n",
    "    metrics_split_optimus_50 = pickle.load(handle)\n",
    "with open(\"../Data/Metrics/metrics_split_frameslice_100_dict.pkl\", 'rb') as handle:\n",
    "    metrics_split_frameslice_100 = pickle.load(handle)\n",
    "with open(\"../Data/Metrics/metrics_split_optimus_100_dict.pkl\", 'rb') as handle:\n",
    "    metrics_split_optimus_100 = pickle.load(handle)\n",
    "with open(\"../Data/Metrics/metrics_split_frameslice_combined_dict.pkl\", 'rb') as handle:\n",
    "    metrics_split_frameslice_combined = pickle.load(handle)"
   ]
  },
  {
   "cell_type": "code",
   "execution_count": 17,
   "metadata": {},
   "outputs": [],
   "source": [
    "# build dataframe with data types, correlations and bootstrapping significance results\n",
    "# Facet grid categories:\n",
    "splittype_1 = \"Human 5'UTR shorter than longest training sequence\"\n",
    "splittype_2 = \"Human 5'UTR longer than longest training sequence\"\n",
    "traintype_1 = \"Trained on 50 nt MPRA\"\n",
    "traintype_2 = \"Trained on 25-100 nt MPRA\""
   ]
  },
  {
   "cell_type": "code",
   "execution_count": 851,
   "metadata": {},
   "outputs": [],
   "source": [
    "# build dataframe with data types, correlations and bootstrapping significance results\n",
    "metricname_dict = {\"Optimus50\": metrics_split_optimus_50, \"Framepool50\": metrics_split_frameslice_50,\n",
    "                  \"Optimus100\": metrics_split_optimus_100, \"Framepool100\": metrics_split_frameslice_100}\n",
    "\n",
    "def corr_wrapper(pred, obs, corr = \"pearson\"):\n",
    "    if corr == \"pearson\":\n",
    "        return stats.pearsonr(pred, obs)[0]\n",
    "    else:\n",
    "        return stats.spearmanr(pred, obs)[0]\n",
    "\n",
    "# bootstrapping\n",
    "def do_bootstrap(df, n_samples=100, std_factor=stats.norm.ppf(0.9998), corr = \"pearson\"):\n",
    "    our_bootstrap = []\n",
    "    paper_bootstrap = []\n",
    "    for i in range(n_samples):\n",
    "        sub = df.sample(frac=1, replace=True)\n",
    "        our_bootstrap.append(corr_wrapper(sub[\"pred_our\"], sub[\"obs_our\"], corr = corr))\n",
    "        paper_bootstrap.append(corr_wrapper(sub[\"pred_paper\"], sub[\"obs_paper\"], corr = corr))\n",
    "    diff = [x - y for x,y in zip(our_bootstrap, paper_bootstrap)]\n",
    "    mean_diff = np.mean(diff)\n",
    "    error_diff = np.std(diff)*std_factor\n",
    "    sig = \"Significant\"\n",
    "    if mean_diff < 0 and mean_diff + error_diff > 0:\n",
    "        sig = \"Not \" + sig\n",
    "    elif mean_diff > 0 and mean_diff - error_diff < 0:\n",
    "        sig = \"Not \" + sig\n",
    "    return sig\n",
    "\n",
    "def build_mpra_prediction():\n",
    "    datalabels_dict = {\"doudna\":\"Floor\", \"andreev\":\"Andreev\", \"pcr3\":\"Xiao\", \"eichhorn\":\"Eichhorn\", \"ptr\":\"Eraslan\", \"wilhelm\":\"Wilhelm\"}\n",
    "    datatype_dict = {\"doudna\":\"Trip-seq\", \"andreev\":\"Ribo-seq\", \"pcr3\":\"Ribo-seq\", \"eichhorn\":\"Ribo-seq\", \"ptr\":\"PTR\", \"wilhelm\":\"PTR\"}\n",
    "    splittype_dict = {\"50\": splittype1, \n",
    "                      \"100\": splittype1,\n",
    "                     \"long\": splittype2}\n",
    "    traindatatype_dict = {\"50\": traintype_1, \n",
    "                          \"100\": traintype_2}\n",
    "    rows_list = []\n",
    "    for comparison in [(\"Optimus50\", \"Framepool50\", \"50\"), (\"Optimus100\", \"Framepool100\", \"100\")]:\n",
    "        for split in [comparison[2], \"long\"]:\n",
    "            for data in [\"doudna\", \"andreev\", \"pcr3\", \"eichhorn\", \"ptr\", \"wilhelm\"]:\n",
    "                bootstrap_df = pd.DataFrame({\"pred_paper\": metricname_dict[comparison[0]][split][data][\"pred\"],\n",
    "                        \"obs_paper\":metricname_dict[comparison[0]][split][data][\"obs\"],\n",
    "                        \"pred_our\":metricname_dict[comparison[1]][split][data][\"pred\"],\n",
    "                        \"obs_our\":metricname_dict[comparison[1]][split][data][\"obs\"]})\n",
    "                r_optimus = stats.pearsonr(bootstrap_df[\"pred_paper\"], bootstrap_df[\"obs_paper\"])[0]\n",
    "                r_framepool = stats.pearsonr(bootstrap_df[\"pred_our\"], bootstrap_df[\"obs_our\"])[0]\n",
    "                rho_optimus = stats.spearmanr(bootstrap_df[\"pred_paper\"], bootstrap_df[\"obs_paper\"])[0]\n",
    "                rho_framepool = stats.spearmanr(bootstrap_df[\"pred_our\"], bootstrap_df[\"obs_our\"])[0]\n",
    "                sig = do_bootstrap(bootstrap_df, corr = \"pearson\")\n",
    "                sig_rho = do_bootstrap(bootstrap_df, corr = \"spearman\")\n",
    "                row = {\"Pearson's R of Optimus predictions with observed values\": r_optimus,\n",
    "                      \"Pearson's R of Framepool predictions with observed values\": r_framepool,\n",
    "                       \"Spearman's rho of Optimus predictions with observed values\": rho_optimus,\n",
    "                      \"Spearman's rho of Framepool predictions with observed values\": rho_framepool,\n",
    "                       \"significant_diff_Pearson\": sig,\n",
    "                       \"significant_diff_Spearman\": sig_rho,\n",
    "                      \"data\": datalabels_dict[data],\n",
    "                      \"data_type\": datatype_dict[data],\n",
    "                      \"split_type\": splittype_dict[split],\n",
    "                      \"train_data_type\": traindatatype_dict[comparison[2]]}\n",
    "                rows_list.append(row)\n",
    "    return pd.DataFrame(rows_list)\n",
    "\n",
    "split_metric_df = build_mpra_prediction()"
   ]
  },
  {
   "cell_type": "code",
   "execution_count": 867,
   "metadata": {},
   "outputs": [],
   "source": [
    "# save\n",
    "split_metric_df.to_csv(\"../Data/Metrics/split_metric_df.csv\")"
   ]
  },
  {
   "cell_type": "markdown",
   "metadata": {},
   "source": [
    "#### Plot split metrics"
   ]
  },
  {
   "cell_type": "code",
   "execution_count": 15,
   "metadata": {},
   "outputs": [],
   "source": [
    "split_metric_df = pd.read_csv(\"../Data/Metrics/split_metric_df.csv\")"
   ]
  },
  {
   "cell_type": "code",
   "execution_count": 597,
   "metadata": {},
   "outputs": [
    {
     "name": "stderr",
     "output_type": "stream",
     "text": [
      "/data/ouga04b/ag_gagneur/home/karollus/.conda/envs/karollus-env/lib/python3.6/site-packages/plotnine/scales/scale_alpha.py:70: PlotnineWarning: Using alpha for a discrete variable is not advised.\n",
      "  PlotnineWarning\n",
      "/data/ouga04b/ag_gagneur/home/karollus/.conda/envs/karollus-env/lib/python3.6/site-packages/matplotlib/__init__.py:855: MatplotlibDeprecationWarning: \n",
      "examples.directory is deprecated; in the future, examples will be found relative to the 'datapath' directory.\n",
      "  \"found relative to the 'datapath' directory.\".format(key))\n",
      "/data/ouga04b/ag_gagneur/home/karollus/.conda/envs/karollus-env/lib/python3.6/site-packages/matplotlib/__init__.py:846: MatplotlibDeprecationWarning: \n",
      "The text.latex.unicode rcparam was deprecated in Matplotlib 2.2 and will be removed in 3.1.\n",
      "  \"2.2\", name=key, obj_type=\"rcparam\", addendum=addendum)\n",
      "/data/ouga04b/ag_gagneur/home/karollus/.conda/envs/karollus-env/lib/python3.6/site-packages/plotnine/layer.py:452: PlotnineWarning: geom_point : Removed 1 rows containing missing values.\n",
      "  self.data = self.geom.handle_na(self.data)\n",
      "/data/ouga04b/ag_gagneur/home/karollus/.conda/envs/karollus-env/lib/python3.6/site-packages/plotnine/layer.py:452: PlotnineWarning: geom_text : Removed 1 rows containing missing values.\n",
      "  self.data = self.geom.handle_na(self.data)\n",
      "/data/ouga04b/ag_gagneur/home/karollus/.conda/envs/karollus-env/lib/python3.6/site-packages/numpy/core/fromnumeric.py:56: FutureWarning: Series.nonzero() is deprecated and will be removed in a future version.Use Series.to_numpy().nonzero() instead\n",
      "  return getattr(obj, method)(*args, **kwds)\n"
     ]
    },
    {
     "data": {
      "image/png": "[encoded data removed]",
      "text/plain": [
       "<Figure size 640x480 with 4 Axes>"
      ]
     },
     "metadata": {},
     "output_type": "display_data"
    },
    {
     "data": {
      "text/plain": [
       "<ggplot: (8752693881608)>"
      ]
     },
     "execution_count": 597,
     "metadata": {},
     "output_type": "execute_result"
    }
   ],
   "source": [
    "# Make categoricals for values used to order facet grid\n",
    "split_metric_df['split_type_cat'] = pd.Categorical(split_metric_df['split_type'], categories=[splittype_1,splittype_2])\n",
    "split_metric_df['train_type_cat'] = pd.Categorical(split_metric_df['train_data_type'], categories=[traintype_1,traintype_2])\n",
    "\n",
    "# Labels\n",
    "x_lab = \"Pearson's R of Optimus predictions with observed values\"\n",
    "y_lab = \"Pearson's R of Framepool\\npredictions with observed values\"\n",
    "plotlabel_dict = {traintype_1: \"Trained on 50 nt MPRA\", traintype_2: \"Trained on 25-100 nt MPRA\", \n",
    "                  splittype_1: \"Human 5'UTR shorter than\\nlongest training sequence\\n\", \n",
    "                  splittype_2: \"Human 5'UTR longer than\\nlongest training sequence\\n\"}\n",
    "labeller = plotnine.facets.labelling.as_labeller(plotlabel_dict) # facet labeller\n",
    "\n",
    "# Adjust text parameters\n",
    "adjust_text_dict = {\n",
    "    'x': split_metric_df[\"Pearson's R of Optimus predictions with observed values\"],\n",
    "    'y': split_metric_df[\"Pearson's R of Framepool predictions with observed values\"],\n",
    "    \"expand_text\": (2,2),\n",
    "    \"avoid_point\": True,\n",
    "    \"avoid_text\": True,\n",
    "    #'expand_points': (2, 2)\n",
    "    #'arrowprops': {\n",
    "    #    'arrowstyle': '->',\n",
    "    #    'color': 'red'\n",
    "    #}\n",
    "}\n",
    "\n",
    "# Plot\n",
    "p = (plotnine.ggplot(split_metric_df, plotnine.aes(\"Pearson's R of Optimus predictions with observed values\", \n",
    "                                                    \"Pearson's R of Framepool predictions with observed values\"))\n",
    " + plotnine.geom_point(plotnine.aes(alpha=\"significant_diff_Pearson\"))\n",
    " + plotnine.scale_alpha_discrete(range = [0.2, 1.0])\n",
    " + plotnine.scales.scale_shape_manual(values=[\"o\", \"^\", \"v\"])\n",
    " + plotnine.geom_text(plotnine.aes(label=\"data\", color=\"data_type\"), parse=True, size=8, adjust_text=adjust_text_dict)\n",
    " + plotnine.xlab(x_lab)\n",
    " + plotnine.ylab(y_lab) \n",
    " + plotnine.xlim(0, 0.3) \n",
    " + plotnine.ylim(0, 0.3)\n",
    " + plotnine.labs(alpha=\"Significance of\\nPerformance\\ndifference\", shape=\"Data Type\", color=\"Data Type\")\n",
    " + plotnine.facet_grid('train_type_cat ~ split_type_cat', labeller=labeller)\n",
    " + plotnine.geom_abline(color=\"grey\", linetype=\"--\")\n",
    " + plotnine.theme_matplotlib()\n",
    " + plotnine.theme(strip_background=plotnine.element_rect(size=2)))\n",
    "p"
   ]
  },
  {
   "cell_type": "code",
   "execution_count": 599,
   "metadata": {},
   "outputs": [
    {
     "name": "stderr",
     "output_type": "stream",
     "text": [
      "/data/ouga04b/ag_gagneur/home/karollus/.conda/envs/karollus-env/lib/python3.6/site-packages/plotnine/ggplot.py:729: PlotnineWarning: Saving 6.4 x 4.8 in image.\n",
      "  from_inches(height, units), units), PlotnineWarning)\n",
      "/data/ouga04b/ag_gagneur/home/karollus/.conda/envs/karollus-env/lib/python3.6/site-packages/plotnine/ggplot.py:730: PlotnineWarning: Filename: ../Graphics/Fig3.svg\n",
      "  warn('Filename: {}'.format(filename), PlotnineWarning)\n",
      "/data/ouga04b/ag_gagneur/home/karollus/.conda/envs/karollus-env/lib/python3.6/site-packages/matplotlib/__init__.py:855: MatplotlibDeprecationWarning: \n",
      "examples.directory is deprecated; in the future, examples will be found relative to the 'datapath' directory.\n",
      "  \"found relative to the 'datapath' directory.\".format(key))\n",
      "/data/ouga04b/ag_gagneur/home/karollus/.conda/envs/karollus-env/lib/python3.6/site-packages/matplotlib/__init__.py:846: MatplotlibDeprecationWarning: \n",
      "The text.latex.unicode rcparam was deprecated in Matplotlib 2.2 and will be removed in 3.1.\n",
      "  \"2.2\", name=key, obj_type=\"rcparam\", addendum=addendum)\n",
      "/data/ouga04b/ag_gagneur/home/karollus/.conda/envs/karollus-env/lib/python3.6/site-packages/plotnine/layer.py:452: PlotnineWarning: geom_point : Removed 1 rows containing missing values.\n",
      "  self.data = self.geom.handle_na(self.data)\n",
      "/data/ouga04b/ag_gagneur/home/karollus/.conda/envs/karollus-env/lib/python3.6/site-packages/plotnine/layer.py:452: PlotnineWarning: geom_text : Removed 1 rows containing missing values.\n",
      "  self.data = self.geom.handle_na(self.data)\n",
      "/data/ouga04b/ag_gagneur/home/karollus/.conda/envs/karollus-env/lib/python3.6/site-packages/numpy/core/fromnumeric.py:56: FutureWarning: Series.nonzero() is deprecated and will be removed in a future version.Use Series.to_numpy().nonzero() instead\n",
      "  return getattr(obj, method)(*args, **kwds)\n"
     ]
    }
   ],
   "source": [
    "p.save(\"../Graphics/\" + \"Fig3\" + \".svg\")"
   ]
  },
  {
   "cell_type": "markdown",
   "metadata": {},
   "source": [
    "## **TIS Strength validation**\n",
    "We prepare and run our in-silico experiment to evaluate our model's understanding of uTIS motifs"
   ]
  },
  {
   "cell_type": "markdown",
   "metadata": {},
   "source": [
    "#### Load data"
   ]
  },
  {
   "cell_type": "code",
   "execution_count": 43,
   "metadata": {},
   "outputs": [],
   "source": [
    "noderer_df_aug = pd.read_csv(\"../Data/TIS/tis_efficiencies_aug.tsv\", sep='\\t')\n",
    "noderer_df_aug = noderer_df_aug.rename(index=str, columns={\"sequence\":\"TIS_Sequence\", \"efficiency\":\"TIS_Efficiency\"})\n",
    "noderer_df_nonaug = pd.read_csv(\"../Data/TIS/tis_efficiencies_nonaug.tsv\", sep='\\t')\n",
    "\n",
    "# Recode U to T\n",
    "noderer_df_aug[\"TIS_Sequence\"] = noderer_df_aug[\"TIS_Sequence\"].str.replace(\"U\", \"T\")\n",
    "noderer_df_nonaug[\"TIS_Sequence\"] = noderer_df_nonaug[\"TIS_Sequence\"].str.replace(\"U\", \"T\")"
   ]
  },
  {
   "cell_type": "markdown",
   "metadata": {},
   "source": [
    "#### Compute predicted impact of AUG TIS motifs"
   ]
  },
  {
   "cell_type": "code",
   "execution_count": null,
   "metadata": {},
   "outputs": [],
   "source": [
    "# Prepare injection\n",
    "noderer_df_aug[\"TIS_Sequence_AGG\"] = [seq[:7] + \"G\" + seq[8:] for seq in noderer_df_aug[\"TIS_Sequence\"]]\n",
    "bad_end = noderer_df_aug[\"TIS_Sequence\"].str.endswith(\"AT\")\n",
    "double_trouble = noderer_df_aug[\"TIS_Sequence_AGG\"].str.contains(\"ATG\")\n",
    "noderer_df_aug_sub = noderer_df_aug[(~bad_end) & (~double_trouble)]\n",
    "noderer_df_aug = noderer_df_aug_sub"
   ]
  },
  {
   "cell_type": "code",
   "execution_count": 55,
   "metadata": {},
   "outputs": [
    {
     "name": "stdout",
     "output_type": "stream",
     "text": [
      "(-0.7946999837983739, 0.0)\n",
      "SpearmanrResult(correlation=-0.7648457052769003, pvalue=0.0)\n"
     ]
    }
   ],
   "source": [
    "# run prediction\n",
    "extra_encoding_fn = [library_fn]\n",
    "model_to_apply = utr_model_combined\n",
    "\n",
    "one_hot_fn_inactive = utils_data.OneHotEncoder(\"wt\")\n",
    "one_hot_fn_active = utils_data.OneHotEncoder(\"snv\")\n",
    "samples = 100\n",
    "diffs = []\n",
    "for i in range(samples):\n",
    "    prefix = ''.join(random.choices([\"C\",\"T\",\"G\"], k=9)) # fast way to get AUG free seq \n",
    "    suffix = ''.join(random.choices([\"C\",\"T\",\"G\"], k=9)) # fast way to get AUG free seq\n",
    "    noderer_df_aug[\"snv\"] = [prefix + seq + suffix for seq in\n",
    "                                            noderer_df_aug[\"TIS_Sequence\"]]\n",
    "    noderer_df_aug[\"wt\"] = [prefix + seq + suffix for seq in\n",
    "                                        noderer_df_aug[\"TIS_Sequence_AGG\"]]\n",
    "    gen_wt = utils_data.DataSequence(noderer_df_aug, encoding_functions=[one_hot_fn_inactive] + extra_encoding_fn, \n",
    "                                     shuffle=False)\n",
    "    predict_wt_only = model_to_apply.predict_generator(gen_wt, verbose=0)\n",
    "    gen_snv = utils_data.DataSequence(noderer_df_aug, encoding_functions=[one_hot_fn_active] + extra_encoding_fn, \n",
    "                                      shuffle=False)\n",
    "    predict_snv_only = model_to_apply.predict_generator(gen_snv, verbose=0)\n",
    "    log_pred_diff_only = np.log2(predict_snv_only/predict_wt_only)\n",
    "    diffs.append(log_pred_diff_only)\n",
    "diffs = sum(diffs)/len(diffs)\n",
    "noderer_df_aug[\"Predicted log2 Fold Change\"] = diffs.reshape(-1)\n",
    "print(stats.pearsonr(noderer_df_aug[\"TIS_Efficiency\"], diffs.reshape(-1)))\n",
    "print(stats.spearmanr(noderer_df_aug[\"TIS_Efficiency\"], diffs.reshape(-1)))"
   ]
  },
  {
   "cell_type": "code",
   "execution_count": 260,
   "metadata": {},
   "outputs": [],
   "source": [
    "# save results\n",
    "with open(\"../Data/tis_aug_diffs.pkl\", 'wb') as handle:\n",
    "    pickle.dump(diffs, handle, protocol=pickle.HIGHEST_PROTOCOL)"
   ]
  },
  {
   "cell_type": "markdown",
   "metadata": {},
   "source": [
    "#### Compute predicted impact of non-AUG TIS motifs"
   ]
  },
  {
   "cell_type": "code",
   "execution_count": 115,
   "metadata": {},
   "outputs": [],
   "source": [
    "# Remove AUG creating motifs\n",
    "atg_trouble = noderer_df_nonaug[\"TIS_Sequence\"].str.contains(\"ATG\")\n",
    "noderer_df_nonaug = noderer_df_nonaug[~atg_trouble]"
   ]
  },
  {
   "cell_type": "code",
   "execution_count": null,
   "metadata": {},
   "outputs": [],
   "source": [
    "# Prepara dataframe\n",
    "extra_encoding_fn = [library_fn]\n",
    "model_to_apply = utr_model_combined\n",
    "\n",
    "nonaug_dict = {key:noderer_df_nonaug[noderer_df_nonaug[\"TIS_Sequence\"].str[-4:-1] == key] for key in\n",
    "               set(noderer_df_nonaug[\"TIS_Sequence\"].str[-4:-1])}"
   ]
  },
  {
   "cell_type": "code",
   "execution_count": null,
   "metadata": {},
   "outputs": [],
   "source": [
    "# make random seq without AUG\n",
    "def random_seq_noaug(exclude_motifs=[\"CTG\",\"GTG\"]):\n",
    "    seq = ''.join(random.choices([\"A\",\"C\",\"T\",\"G\"], k=9))\n",
    "    # (try to) clean out unwanted motifs that could eat results\n",
    "    for motif in exclude_motifs:\n",
    "        motifs_present = [m.start() for m in re.finditer(motif, seq)]\n",
    "        for idx in motifs_present:\n",
    "            seq = seq[:idx] + ''.join(random.choices([\"A\",\"C\",\"T\",\"G\"], k=2)) + seq[idx+3:]\n",
    "    # (surely) clean out atg, since they dominate everything\n",
    "    atg_present = [m.start() for m in re.finditer('ATG', seq)]\n",
    "    for idx in atg_present:\n",
    "        seq = seq[:idx] + \"C\" + ''.join(random.choices([\"C\",\"T\",\"G\"], k=2)) + seq[idx+3:]\n",
    "    return seq\n",
    "    \n",
    "# Predict\n",
    "key_to_inactive = {'CTG':\"CTT\", 'ACG':\"ACT\", 'AAG':\"AAC\", 'GTG':\"GTT\", \n",
    "                   'ATA':\"ACT\", 'AGG':\"AGT\", 'ATT':\"GTT\", 'ATC':\"GTC\", \n",
    "                   'TTG':\"TTT\"}\n",
    "one_hot_fn_inactive = utils_data.OneHotEncoder(\"wt\")\n",
    "one_hot_fn_active = utils_data.OneHotEncoder(\"snv\")\n",
    "samples = 100\n",
    "for key in nonaug_dict.keys():\n",
    "    nonaug_dict[key][\"TIS_inactive\"] = [seq[:-4] + key_to_inactive[key] + seq[-1] for seq in\n",
    "                                        nonaug_dict[key][\"TIS_Sequence\"]]\n",
    "    diff_list = []\n",
    "    for i in range(samples):\n",
    "        prefix = random_seq_noaug()\n",
    "        suffix = random_seq_noaug()\n",
    "        nonaug_dict[key][\"snv\"] = [prefix + seq + suffix for seq in\n",
    "                                            nonaug_dict[key][\"TIS_Sequence\"]]\n",
    "        nonaug_dict[key][\"wt\"] = [prefix + seq + suffix for seq in\n",
    "                                        nonaug_dict[key][\"TIS_inactive\"]]\n",
    "        gen_wt = utils_data.DataSequence(nonaug_dict[key], encoding_functions=[one_hot_fn_inactive] + extra_encoding_fn, \n",
    "                                         shuffle=False)\n",
    "        predict_wt_nonaug = model_to_apply.predict_generator(gen_wt, verbose=0)\n",
    "        gen_snv = utils_data.DataSequence(nonaug_dict[key], encoding_functions=[one_hot_fn_active] + extra_encoding_fn, \n",
    "                                          shuffle=False)\n",
    "        predict_snv_nonaug = model_to_apply.predict_generator(gen_snv, verbose=0)\n",
    "        log_pred_diff_nonaug = np.log2(predict_snv_nonaug/predict_wt_nonaug)\n",
    "        diff_list.append(log_pred_diff_nonaug)\n",
    "    print(\"iteration done\")\n",
    "    diffs = sum(diff_list)/len(diff_list)    \n",
    "    nonaug_dict[key][\"Predicted log2 Fold Change\"] = diffs"
   ]
  },
  {
   "cell_type": "code",
   "execution_count": 493,
   "metadata": {},
   "outputs": [
    {
     "data": {
      "text/plain": [
       "{'AAG': ((-0.03440265768038109, 0.27902976029671517),\n",
       "  SpearmanrResult(correlation=-0.030494363555976896, pvalue=0.33732523911247003)),\n",
       " 'ATT': ((-0.12590394548409262, 6.999356650786765e-05),\n",
       "  SpearmanrResult(correlation=-0.16920250717035082, pvalue=8.267592782968615e-08)),\n",
       " 'TTG': ((-0.1623542108665238, 2.729712475105104e-07),\n",
       "  SpearmanrResult(correlation=-0.2729657331829091, pvalue=2.0728406009558696e-18)),\n",
       " 'ACG': ((-0.4796661805834739, 3.253064290016916e-58),\n",
       "  SpearmanrResult(correlation=-0.4214353656336449, pvalue=5.512931892074104e-44)),\n",
       " 'ATA': ((0.039739283161079234, 0.21110029674594122),\n",
       "  SpearmanrResult(correlation=-0.009030268918752284, pvalue=0.7763606996471601)),\n",
       " 'ATC': ((-0.04868401162803133, 0.1254413781741276),\n",
       "  SpearmanrResult(correlation=-0.03625437431698441, pvalue=0.25395138271483436)),\n",
       " 'GTG': ((-0.39164618718940497, 2.1941395761878936e-35),\n",
       "  SpearmanrResult(correlation=-0.3095590967285146, pvalue=4.655452853987824e-22)),\n",
       " 'CTG': ((-0.7128739788659265, 9.785202709335626e-155),\n",
       "  SpearmanrResult(correlation=-0.6216689998549284, pvalue=3.869565724328794e-107)),\n",
       " 'AGG': ((-0.11860309378554397, 0.00018108546351790152),\n",
       "  SpearmanrResult(correlation=-0.1467222838397361, pvalue=3.476035123779463e-06))}"
      ]
     },
     "execution_count": 493,
     "metadata": {},
     "output_type": "execute_result"
    }
   ],
   "source": [
    "metrics_nonaug = {}\n",
    "for key in nonaug_dict.keys():\n",
    "    metrics_nonaug[key] = (stats.pearsonr(nonaug_dict[key][\"TIS_Efficiency\"], nonaug_dict[key][\"Predicted log2 Fold Change\"]),\n",
    "                              stats.spearmanr(nonaug_dict[key][\"TIS_Efficiency\"], nonaug_dict[key][\"Predicted log2 Fold Change\"]))\n",
    "metrics_nonaug"
   ]
  },
  {
   "cell_type": "code",
   "execution_count": 494,
   "metadata": {},
   "outputs": [],
   "source": [
    "# Save\n",
    "with open(\"../Data/nonaug_dict.pkl\", 'wb') as handle:\n",
    "    pickle.dump(nonaug_dict, handle, protocol=pickle.HIGHEST_PROTOCOL)"
   ]
  },
  {
   "cell_type": "markdown",
   "metadata": {},
   "source": [
    "#### Load all datasets, combine and plot in combined plot"
   ]
  },
  {
   "cell_type": "code",
   "execution_count": 576,
   "metadata": {},
   "outputs": [],
   "source": [
    "# AUG\n",
    "with open(\"../Data/tis_aug_diffs.pkl\", 'rb') as handle:\n",
    "    diffs = pickle.load(handle)\n",
    "noderer_df_aug[\"Predicted log2 Fold Change\"] = diffs.reshape(-1)\n",
    "noderer_df_aug[\"PredFC\"] = (2 ** noderer_df_aug[\"Predicted log2 Fold Change\"])*100 - 100\n",
    "noderer_df_aug[\"codon\"] = \"AUG\"\n",
    "noderer_df_aug_reduced = noderer_df_aug[['TIS_Sequence', 'TIS_Efficiency', \"PredFC\", \"codon\"]]\n",
    "\n",
    "# Non aug\n",
    "with open(\"../Data/nonaug_dict.pkl\", 'rb') as handle:\n",
    "    nonaug_dict = pickle.load(handle)\n",
    "df_list = []\n",
    "for key in nonaug_dict.keys():\n",
    "    if key not in [\"CTG\", \"GTG\"]:\n",
    "        continue\n",
    "    nonaug_dict[key][\"codon\"] = key.replace(\"T\",\"U\")\n",
    "    nonaug_dict[key][\"PredFC\"] = (2 ** nonaug_dict[key][\"Predicted log2 Fold Change\"])*100 - 100\n",
    "    df_list.append(nonaug_dict[key][['TIS_Sequence', 'TIS_Efficiency', \"PredFC\", \"codon\"]])\n",
    "combined_nonaug = pd.concat(df_list)\n",
    "\n",
    "# combine\n",
    "combined_codon_df = pd.concat([noderer_df_aug_reduced, combined_nonaug])\n",
    "# copy\n",
    "all_df = combined_codon_df.copy()\n",
    "allname = \"Combined\"\n",
    "all_df[\"codon\"] = allname\n",
    "# combine with copy\n",
    "combined_all = pd.concat([all_df, combined_codon_df[combined_codon_df.codon.isin([\"AUG\", \"CUG\", \"GUG\"])]])\n",
    "\n",
    "\n",
    "# compute correlations\n",
    "codon_keys = [allname, \"AUG\", \"CUG\", \"GUG\"]\n",
    "r_list = []\n",
    "for key in codon_keys:\n",
    "    subcodon_df = combined_all[combined_all.codon == key]\n",
    "    r = \"R = \" + str(round(stats.pearsonr(subcodon_df[\"TIS_Efficiency\"], subcodon_df[\"PredFC\"])[0], 3))\n",
    "    r_list.append(r)\n",
    "r_dat = pd.DataFrame({\"codon\":codon_keys,\"r\":r_list})"
   ]
  },
  {
   "cell_type": "code",
   "execution_count": 578,
   "metadata": {},
   "outputs": [
    {
     "data": {
      "text/html": [
       "<div>\n",
       "<style scoped>\n",
       "    .dataframe tbody tr th:only-of-type {\n",
       "        vertical-align: middle;\n",
       "    }\n",
       "\n",
       "    .dataframe tbody tr th {\n",
       "        vertical-align: top;\n",
       "    }\n",
       "\n",
       "    .dataframe thead th {\n",
       "        text-align: right;\n",
       "    }\n",
       "</style>\n",
       "<table border=\"1\" class=\"dataframe\">\n",
       "  <thead>\n",
       "    <tr style=\"text-align: right;\">\n",
       "      <th></th>\n",
       "      <th>codon</th>\n",
       "      <th>r</th>\n",
       "      <th>codon_cat</th>\n",
       "      <th>x_pos</th>\n",
       "      <th>y_pos</th>\n",
       "    </tr>\n",
       "  </thead>\n",
       "  <tbody>\n",
       "    <tr>\n",
       "      <th>0</th>\n",
       "      <td>Combined</td>\n",
       "      <td>R = -0.852</td>\n",
       "      <td>Combined</td>\n",
       "      <td>-10</td>\n",
       "      <td>125</td>\n",
       "    </tr>\n",
       "    <tr>\n",
       "      <th>1</th>\n",
       "      <td>AUG</td>\n",
       "      <td>R = -0.802</td>\n",
       "      <td>AUG</td>\n",
       "      <td>-10</td>\n",
       "      <td>125</td>\n",
       "    </tr>\n",
       "    <tr>\n",
       "      <th>2</th>\n",
       "      <td>CUG</td>\n",
       "      <td>R = -0.712</td>\n",
       "      <td>CUG</td>\n",
       "      <td>-1</td>\n",
       "      <td>40</td>\n",
       "    </tr>\n",
       "    <tr>\n",
       "      <th>3</th>\n",
       "      <td>GUG</td>\n",
       "      <td>R = -0.394</td>\n",
       "      <td>GUG</td>\n",
       "      <td>-1</td>\n",
       "      <td>19</td>\n",
       "    </tr>\n",
       "  </tbody>\n",
       "</table>\n",
       "</div>"
      ],
      "text/plain": [
       "      codon           r codon_cat  x_pos  y_pos\n",
       "0  Combined  R = -0.852  Combined    -10    125\n",
       "1       AUG  R = -0.802       AUG    -10    125\n",
       "2       CUG  R = -0.712       CUG     -1     40\n",
       "3       GUG  R = -0.394       GUG     -1     19"
      ]
     },
     "execution_count": 578,
     "metadata": {},
     "output_type": "execute_result"
    }
   ],
   "source": [
    "r_dat"
   ]
  },
  {
   "cell_type": "code",
   "execution_count": 581,
   "metadata": {},
   "outputs": [
    {
     "name": "stderr",
     "output_type": "stream",
     "text": [
      "/data/ouga04b/ag_gagneur/home/karollus/.conda/envs/karollus-env/lib/python3.6/site-packages/numpy/core/fromnumeric.py:2389: FutureWarning: Method .ptp is deprecated and will be removed in a future version. Use numpy.ptp instead.\n",
      "  return ptp(axis=axis, out=out, **kwargs)\n",
      "/data/ouga04b/ag_gagneur/home/karollus/.conda/envs/karollus-env/lib/python3.6/site-packages/numpy/core/fromnumeric.py:2389: FutureWarning: Method .ptp is deprecated and will be removed in a future version. Use numpy.ptp instead.\n",
      "  return ptp(axis=axis, out=out, **kwargs)\n",
      "/data/ouga04b/ag_gagneur/home/karollus/.conda/envs/karollus-env/lib/python3.6/site-packages/numpy/core/fromnumeric.py:2389: FutureWarning: Method .ptp is deprecated and will be removed in a future version. Use numpy.ptp instead.\n",
      "  return ptp(axis=axis, out=out, **kwargs)\n",
      "/data/ouga04b/ag_gagneur/home/karollus/.conda/envs/karollus-env/lib/python3.6/site-packages/numpy/core/fromnumeric.py:2389: FutureWarning: Method .ptp is deprecated and will be removed in a future version. Use numpy.ptp instead.\n",
      "  return ptp(axis=axis, out=out, **kwargs)\n",
      "/data/ouga04b/ag_gagneur/home/karollus/.conda/envs/karollus-env/lib/python3.6/site-packages/matplotlib/__init__.py:855: MatplotlibDeprecationWarning: \n",
      "examples.directory is deprecated; in the future, examples will be found relative to the 'datapath' directory.\n",
      "  \"found relative to the 'datapath' directory.\".format(key))\n",
      "/data/ouga04b/ag_gagneur/home/karollus/.conda/envs/karollus-env/lib/python3.6/site-packages/matplotlib/__init__.py:846: MatplotlibDeprecationWarning: \n",
      "The text.latex.unicode rcparam was deprecated in Matplotlib 2.2 and will be removed in 3.1.\n",
      "  \"2.2\", name=key, obj_type=\"rcparam\", addendum=addendum)\n",
      "/data/ouga04b/ag_gagneur/home/karollus/.conda/envs/karollus-env/lib/python3.6/site-packages/plotnine/layer.py:452: PlotnineWarning: geom_smooth : Removed 19 rows containing missing values.\n",
      "  self.data = self.geom.handle_na(self.data)\n"
     ]
    },
    {
     "data": {
      "image/png": "[encoded data removed]",
      "text/plain": [
       "<Figure size 640x480 with 4 Axes>"
      ]
     },
     "metadata": {},
     "output_type": "display_data"
    },
    {
     "data": {
      "text/plain": [
       "<ggplot: (8752453244641)>"
      ]
     },
     "execution_count": 581,
     "metadata": {},
     "output_type": "execute_result"
    }
   ],
   "source": [
    "combined_all['codon_cat'] = pd.Categorical(combined_all['codon'], categories=codon_keys)\n",
    "r_dat['codon_cat'] = pd.Categorical(r_dat['codon'], categories=codon_keys)\n",
    "r_dat[\"x_pos\"] = [-10, -10, -1, -1]\n",
    "r_dat[\"y_pos\"] = [125, 125, 40, 19]\n",
    "\n",
    "# Plot\n",
    "p = (plotnine.ggplot(combined_all, plotnine.aes('PredFC', 'TIS_Efficiency'))\n",
    " #+ plotnine.geom_point(alpha = 0.05, shape = \".\", color = \"darkblue\")\n",
    " + plotnine.geom_bin2d(binwidth = [0.25,1])\n",
    " + plotnine.scale_y_continuous(limits = (0, float(\"NaN\")), expand=(0,0))\n",
    " + plotnine.scale_fill_continuous(ListedColormap(cm.get_cmap('Blues', 512)(np.linspace(0.25, 1, 384))), trans=\"log10\")\n",
    " #+ plotnine.labs(fill=\"\")\n",
    " + plotnine.xlab(\"Predicted Fold Change of MRL after codon activation (%)\")\n",
    " + plotnine.ylab(\"TIS Efficiency relative to Kozak (%)\")\n",
    " #+ plotnine.scale_x_continuous(trans='log10')\n",
    " #+ plotnine.annotation_logticks(sides=\"b\")\n",
    " + plotnine.stat_smooth(method='lm', color=\"grey\")\n",
    " + plotnine.facet_wrap(\"codon_cat\", scales=\"free\")\n",
    " + plotnine.geom_text(size = 10, data = r_dat, mapping = plotnine.aes(x = \"x_pos\", y = \"y_pos\", label = \"r\"), fontstyle = \"italic\")\n",
    " + plotnine.theme_matplotlib()\n",
    " + plotnine.theme(subplots_adjust={'wspace':0.15, \"hspace\":0.3}))\n",
    " #+ plotnine.theme(legend_direction=\"horizontal\", legend_position = (0.75, 0.80)))\n",
    "p"
   ]
  },
  {
   "cell_type": "code",
   "execution_count": 579,
   "metadata": {},
   "outputs": [
    {
     "name": "stderr",
     "output_type": "stream",
     "text": [
      "/data/ouga04b/ag_gagneur/home/karollus/.conda/envs/karollus-env/lib/python3.6/site-packages/plotnine/ggplot.py:729: PlotnineWarning: Saving 6.4 x 4.8 in image.\n",
      "  from_inches(height, units), units), PlotnineWarning)\n",
      "/data/ouga04b/ag_gagneur/home/karollus/.conda/envs/karollus-env/lib/python3.6/site-packages/plotnine/ggplot.py:730: PlotnineWarning: Filename: ../Graphics/Fig5_combined.svg\n",
      "  warn('Filename: {}'.format(filename), PlotnineWarning)\n",
      "/data/ouga04b/ag_gagneur/home/karollus/.conda/envs/karollus-env/lib/python3.6/site-packages/numpy/core/fromnumeric.py:2389: FutureWarning: Method .ptp is deprecated and will be removed in a future version. Use numpy.ptp instead.\n",
      "  return ptp(axis=axis, out=out, **kwargs)\n",
      "/data/ouga04b/ag_gagneur/home/karollus/.conda/envs/karollus-env/lib/python3.6/site-packages/numpy/core/fromnumeric.py:2389: FutureWarning: Method .ptp is deprecated and will be removed in a future version. Use numpy.ptp instead.\n",
      "  return ptp(axis=axis, out=out, **kwargs)\n",
      "/data/ouga04b/ag_gagneur/home/karollus/.conda/envs/karollus-env/lib/python3.6/site-packages/numpy/core/fromnumeric.py:2389: FutureWarning: Method .ptp is deprecated and will be removed in a future version. Use numpy.ptp instead.\n",
      "  return ptp(axis=axis, out=out, **kwargs)\n",
      "/data/ouga04b/ag_gagneur/home/karollus/.conda/envs/karollus-env/lib/python3.6/site-packages/numpy/core/fromnumeric.py:2389: FutureWarning: Method .ptp is deprecated and will be removed in a future version. Use numpy.ptp instead.\n",
      "  return ptp(axis=axis, out=out, **kwargs)\n",
      "/data/ouga04b/ag_gagneur/home/karollus/.conda/envs/karollus-env/lib/python3.6/site-packages/matplotlib/__init__.py:855: MatplotlibDeprecationWarning: \n",
      "examples.directory is deprecated; in the future, examples will be found relative to the 'datapath' directory.\n",
      "  \"found relative to the 'datapath' directory.\".format(key))\n",
      "/data/ouga04b/ag_gagneur/home/karollus/.conda/envs/karollus-env/lib/python3.6/site-packages/matplotlib/__init__.py:846: MatplotlibDeprecationWarning: \n",
      "The text.latex.unicode rcparam was deprecated in Matplotlib 2.2 and will be removed in 3.1.\n",
      "  \"2.2\", name=key, obj_type=\"rcparam\", addendum=addendum)\n",
      "/data/ouga04b/ag_gagneur/home/karollus/.conda/envs/karollus-env/lib/python3.6/site-packages/plotnine/layer.py:452: PlotnineWarning: geom_smooth : Removed 19 rows containing missing values.\n",
      "  self.data = self.geom.handle_na(self.data)\n"
     ]
    }
   ],
   "source": [
    "p.save(\"../Graphics/\" + \"Fig5_combined\" + \".svg\")"
   ]
  },
  {
   "cell_type": "markdown",
   "metadata": {},
   "source": [
    "#### Load results for AUG and plot"
   ]
  },
  {
   "cell_type": "code",
   "execution_count": 41,
   "metadata": {},
   "outputs": [],
   "source": [
    "with open(\"../Data/tis_aug_diffs.pkl\", 'rb') as handle:\n",
    "    diffs = pickle.load(handle)\n",
    "    \n",
    "noderer_df_aug[\"Predicted log2 Fold Change\"] = diffs.reshape(-1)"
   ]
  },
  {
   "cell_type": "code",
   "execution_count": 113,
   "metadata": {},
   "outputs": [
    {
     "name": "stderr",
     "output_type": "stream",
     "text": [
      "/data/ouga04b/ag_gagneur/home/karollus/.conda/envs/karollus-env/lib/python3.6/site-packages/numpy/core/fromnumeric.py:2389: FutureWarning: Method .ptp is deprecated and will be removed in a future version. Use numpy.ptp instead.\n",
      "  return ptp(axis=axis, out=out, **kwargs)\n",
      "/data/ouga04b/ag_gagneur/home/karollus/.conda/envs/karollus-env/lib/python3.6/site-packages/matplotlib/__init__.py:855: MatplotlibDeprecationWarning: \n",
      "examples.directory is deprecated; in the future, examples will be found relative to the 'datapath' directory.\n",
      "  \"found relative to the 'datapath' directory.\".format(key))\n",
      "/data/ouga04b/ag_gagneur/home/karollus/.conda/envs/karollus-env/lib/python3.6/site-packages/matplotlib/__init__.py:846: MatplotlibDeprecationWarning: \n",
      "The text.latex.unicode rcparam was deprecated in Matplotlib 2.2 and will be removed in 3.1.\n",
      "  \"2.2\", name=key, obj_type=\"rcparam\", addendum=addendum)\n"
     ]
    },
    {
     "data": {
      "image/png": "[encoded data removed]",
      "text/plain": [
       "<Figure size 640x480 with 1 Axes>"
      ]
     },
     "metadata": {},
     "output_type": "display_data"
    },
    {
     "data": {
      "text/plain": [
       "<ggplot: (8752666629601)>"
      ]
     },
     "execution_count": 113,
     "metadata": {},
     "output_type": "execute_result"
    }
   ],
   "source": [
    "noderer_df_aug[\"PredFC\"] = (2 ** noderer_df_aug[\"Predicted log2 Fold Change\"])*100 - 100\n",
    "\n",
    "r = [\"R = \" + str(round(stats.pearsonr(noderer_df_aug[\"TIS_Efficiency\"], noderer_df_aug[\"PredFC\"])[0], 3))]\n",
    "r_dat = pd.DataFrame({\"r\":r})\n",
    "\n",
    "# Plot\n",
    "p = (plotnine.ggplot(noderer_df_aug, plotnine.aes('PredFC', 'TIS_Efficiency'))\n",
    " #+ plotnine.geom_point(alpha = 0.05, shape = \".\", color = \"darkblue\")\n",
    " + plotnine.geom_bin2d(binwidth = [0.5,1])\n",
    " + plotnine.scale_fill_continuous(ListedColormap(cm.get_cmap('Blues', 512)(np.linspace(0.25, 1, 384))), trans=\"log10\")\n",
    " + plotnine.labs(fill=\"\")\n",
    " + plotnine.xlab(\"Predicted Fold Change of MRL after AUG activation (%)\")\n",
    " + plotnine.ylab(\"TIS Efficiency, relative to Kozak (%)\")\n",
    " #+ plotnine.scale_x_continuous(trans='log10')\n",
    " #+ plotnine.annotation_logticks(sides=\"b\")\n",
    " + plotnine.stat_smooth(method='lm', color=\"grey\")\n",
    " + plotnine.geom_text(size = 10, data = r_dat, x = -10, y = 120, label = r, fontstyle = \"italic\")\n",
    " + plotnine.theme_matplotlib()\n",
    " + plotnine.theme(legend_direction=\"horizontal\", legend_position = (0.75, 0.80)))\n",
    "p"
   ]
  },
  {
   "cell_type": "code",
   "execution_count": 114,
   "metadata": {},
   "outputs": [
    {
     "name": "stderr",
     "output_type": "stream",
     "text": [
      "/data/ouga04b/ag_gagneur/home/karollus/.conda/envs/karollus-env/lib/python3.6/site-packages/plotnine/ggplot.py:729: PlotnineWarning: Saving 4 x 3.0 in image.\n",
      "  from_inches(height, units), units), PlotnineWarning)\n",
      "/data/ouga04b/ag_gagneur/home/karollus/.conda/envs/karollus-env/lib/python3.6/site-packages/plotnine/ggplot.py:730: PlotnineWarning: Filename: ../Graphics/Fig5_AUG.svg\n",
      "  warn('Filename: {}'.format(filename), PlotnineWarning)\n",
      "/data/ouga04b/ag_gagneur/home/karollus/.conda/envs/karollus-env/lib/python3.6/site-packages/numpy/core/fromnumeric.py:2389: FutureWarning: Method .ptp is deprecated and will be removed in a future version. Use numpy.ptp instead.\n",
      "  return ptp(axis=axis, out=out, **kwargs)\n",
      "/data/ouga04b/ag_gagneur/home/karollus/.conda/envs/karollus-env/lib/python3.6/site-packages/matplotlib/__init__.py:855: MatplotlibDeprecationWarning: \n",
      "examples.directory is deprecated; in the future, examples will be found relative to the 'datapath' directory.\n",
      "  \"found relative to the 'datapath' directory.\".format(key))\n",
      "/data/ouga04b/ag_gagneur/home/karollus/.conda/envs/karollus-env/lib/python3.6/site-packages/matplotlib/__init__.py:846: MatplotlibDeprecationWarning: \n",
      "The text.latex.unicode rcparam was deprecated in Matplotlib 2.2 and will be removed in 3.1.\n",
      "  \"2.2\", name=key, obj_type=\"rcparam\", addendum=addendum)\n"
     ]
    }
   ],
   "source": [
    "p.save(\"../Graphics/\" + \"Fig5_AUG\" + \".svg\", width=4, height=3.0)"
   ]
  },
  {
   "cell_type": "markdown",
   "metadata": {},
   "source": [
    "#### Load results for non-AUG and plot"
   ]
  },
  {
   "cell_type": "code",
   "execution_count": 489,
   "metadata": {},
   "outputs": [],
   "source": [
    "with open(\"../Data/nonaug_dict.pkl\", 'rb') as handle:\n",
    "    nonaug_dict = pickle.load(handle)"
   ]
  },
  {
   "cell_type": "code",
   "execution_count": 152,
   "metadata": {},
   "outputs": [],
   "source": [
    "for key in nonaug_dict.keys():\n",
    "    subnonaug_df = nonaug_dict[key]\n",
    "    subnonaug_df[\"PredFC\"] = (2 ** subnonaug_df[\"Predicted log2 Fold Change\"])*100 - 100"
   ]
  },
  {
   "cell_type": "code",
   "execution_count": 168,
   "metadata": {},
   "outputs": [],
   "source": [
    "# merge dataframes for CUG and GUG\n",
    "cug_df = nonaug_dict[\"CTG\"]\n",
    "cug_df[\"codon\"] = \"CUG\"\n",
    "gug_df = nonaug_dict[\"GTG\"]\n",
    "gug_df[\"codon\"] = \"GUG\"\n",
    "nonaugplot_df = pd.concat([cug_df, gug_df])\n",
    "r_cug = \"R = \" + str(round(stats.pearsonr(cug_df[\"TIS_Efficiency\"],cug_df[\"PredFC\"])[0], 3))\n",
    "r_gug = \"R = \" + str(round(stats.pearsonr(gug_df[\"TIS_Efficiency\"],gug_df[\"PredFC\"])[0], 3))\n",
    "r_nonaugdf = pd.DataFrame({\"codon\":[\"CUG\", \"GUG\"],\"r\":[r_cug, r_gug]})"
   ]
  },
  {
   "cell_type": "code",
   "execution_count": 296,
   "metadata": {},
   "outputs": [
    {
     "name": "stderr",
     "output_type": "stream",
     "text": [
      "/data/ouga04b/ag_gagneur/home/karollus/.conda/envs/karollus-env/lib/python3.6/site-packages/numpy/core/fromnumeric.py:2389: FutureWarning: Method .ptp is deprecated and will be removed in a future version. Use numpy.ptp instead.\n",
      "  return ptp(axis=axis, out=out, **kwargs)\n",
      "/data/ouga04b/ag_gagneur/home/karollus/.conda/envs/karollus-env/lib/python3.6/site-packages/matplotlib/__init__.py:855: MatplotlibDeprecationWarning: \n",
      "examples.directory is deprecated; in the future, examples will be found relative to the 'datapath' directory.\n",
      "  \"found relative to the 'datapath' directory.\".format(key))\n",
      "/data/ouga04b/ag_gagneur/home/karollus/.conda/envs/karollus-env/lib/python3.6/site-packages/matplotlib/__init__.py:846: MatplotlibDeprecationWarning: \n",
      "The text.latex.unicode rcparam was deprecated in Matplotlib 2.2 and will be removed in 3.1.\n",
      "  \"2.2\", name=key, obj_type=\"rcparam\", addendum=addendum)\n",
      "/data/ouga04b/ag_gagneur/home/karollus/.conda/envs/karollus-env/lib/python3.6/site-packages/plotnine/layer.py:452: PlotnineWarning: geom_smooth : Removed 13 rows containing missing values.\n",
      "  self.data = self.geom.handle_na(self.data)\n"
     ]
    },
    {
     "data": {
      "image/png": "[encoded data removed]",
      "text/plain": [
       "<Figure size 640x480 with 1 Axes>"
      ]
     },
     "metadata": {},
     "output_type": "display_data"
    },
    {
     "data": {
      "text/plain": [
       "<ggplot: (-9223363284185521194)>"
      ]
     },
     "execution_count": 296,
     "metadata": {},
     "output_type": "execute_result"
    }
   ],
   "source": [
    "# Plot for CUG\n",
    "subnonaug_df = nonaug_dict[\"CTG\"]\n",
    "\n",
    "r = [\"R = \" + str(round(stats.pearsonr(subnonaug_df[\"TIS_Efficiency\"],subnonaug_df[\"PredFC\"])[0], 3))]\n",
    "r_dat = pd.DataFrame({\"r\":r})\n",
    "\n",
    "# Plot\n",
    "p = (plotnine.ggplot(subnonaug_df, plotnine.aes('PredFC', 'TIS_Efficiency'))\n",
    " #+ plotnine.geom_point(alpha = 0.05, shape = \".\", color = \"darkblue\")\n",
    " + plotnine.geom_bin2d(binwidth = [0.1,1])\n",
    " + plotnine.scale_y_continuous(expand = (0,0), limits = (0,55))\n",
    " + plotnine.scale_fill_continuous(ListedColormap(cm.get_cmap('Blues', 512)(np.linspace(0.25, 1, 384))), trans=\"log10\")\n",
    " + plotnine.labs(fill=\"\")\n",
    " + plotnine.xlab(\"Predicted Fold Change of MRL\\nafter CUG activation (%)\")\n",
    " + plotnine.ylab(\"TIS Efficiency\\nrelative to Kozak (%)\")\n",
    " #+ plotnine.scale_x_continuous(trans='log10')\n",
    " #+ plotnine.annotation_logticks(sides=\"b\")\n",
    " + plotnine.stat_smooth(method='lm', color=\"grey\")\n",
    " + plotnine.geom_text(size = 10, data = r_dat, x = -1, y = 40, label = r, fontstyle = \"italic\")\n",
    " + plotnine.theme_matplotlib())\n",
    " #+ plotnine.theme(legend_direction=\"horizontal\", legend_position = (0.75, 0.80)))\n",
    "p"
   ]
  },
  {
   "cell_type": "code",
   "execution_count": 297,
   "metadata": {},
   "outputs": [
    {
     "name": "stderr",
     "output_type": "stream",
     "text": [
      "/data/ouga04b/ag_gagneur/home/karollus/.conda/envs/karollus-env/lib/python3.6/site-packages/plotnine/ggplot.py:729: PlotnineWarning: Saving 2.5 x 2.0 in image.\n",
      "  from_inches(height, units), units), PlotnineWarning)\n",
      "/data/ouga04b/ag_gagneur/home/karollus/.conda/envs/karollus-env/lib/python3.6/site-packages/plotnine/ggplot.py:730: PlotnineWarning: Filename: ../Graphics/Fig5_CUG.svg\n",
      "  warn('Filename: {}'.format(filename), PlotnineWarning)\n",
      "/data/ouga04b/ag_gagneur/home/karollus/.conda/envs/karollus-env/lib/python3.6/site-packages/numpy/core/fromnumeric.py:2389: FutureWarning: Method .ptp is deprecated and will be removed in a future version. Use numpy.ptp instead.\n",
      "  return ptp(axis=axis, out=out, **kwargs)\n",
      "/data/ouga04b/ag_gagneur/home/karollus/.conda/envs/karollus-env/lib/python3.6/site-packages/matplotlib/__init__.py:855: MatplotlibDeprecationWarning: \n",
      "examples.directory is deprecated; in the future, examples will be found relative to the 'datapath' directory.\n",
      "  \"found relative to the 'datapath' directory.\".format(key))\n",
      "/data/ouga04b/ag_gagneur/home/karollus/.conda/envs/karollus-env/lib/python3.6/site-packages/matplotlib/__init__.py:846: MatplotlibDeprecationWarning: \n",
      "The text.latex.unicode rcparam was deprecated in Matplotlib 2.2 and will be removed in 3.1.\n",
      "  \"2.2\", name=key, obj_type=\"rcparam\", addendum=addendum)\n",
      "/data/ouga04b/ag_gagneur/home/karollus/.conda/envs/karollus-env/lib/python3.6/site-packages/plotnine/layer.py:452: PlotnineWarning: geom_smooth : Removed 13 rows containing missing values.\n",
      "  self.data = self.geom.handle_na(self.data)\n"
     ]
    }
   ],
   "source": [
    "p.save(\"../Graphics/\" + \"Fig5_CUG\" + \".svg\", width=2.5, height=2.0)"
   ]
  },
  {
   "cell_type": "code",
   "execution_count": 299,
   "metadata": {},
   "outputs": [
    {
     "name": "stderr",
     "output_type": "stream",
     "text": [
      "/data/ouga04b/ag_gagneur/home/karollus/.conda/envs/karollus-env/lib/python3.6/site-packages/numpy/core/fromnumeric.py:2389: FutureWarning: Method .ptp is deprecated and will be removed in a future version. Use numpy.ptp instead.\n",
      "  return ptp(axis=axis, out=out, **kwargs)\n",
      "/data/ouga04b/ag_gagneur/home/karollus/.conda/envs/karollus-env/lib/python3.6/site-packages/matplotlib/__init__.py:855: MatplotlibDeprecationWarning: \n",
      "examples.directory is deprecated; in the future, examples will be found relative to the 'datapath' directory.\n",
      "  \"found relative to the 'datapath' directory.\".format(key))\n",
      "/data/ouga04b/ag_gagneur/home/karollus/.conda/envs/karollus-env/lib/python3.6/site-packages/matplotlib/__init__.py:846: MatplotlibDeprecationWarning: \n",
      "The text.latex.unicode rcparam was deprecated in Matplotlib 2.2 and will be removed in 3.1.\n",
      "  \"2.2\", name=key, obj_type=\"rcparam\", addendum=addendum)\n",
      "/data/ouga04b/ag_gagneur/home/karollus/.conda/envs/karollus-env/lib/python3.6/site-packages/plotnine/layer.py:452: PlotnineWarning: geom_smooth : Removed 6 rows containing missing values.\n",
      "  self.data = self.geom.handle_na(self.data)\n"
     ]
    },
    {
     "data": {
      "image/png": "[encoded data removed]",
      "text/plain": [
       "<Figure size 640x480 with 1 Axes>"
      ]
     },
     "metadata": {},
     "output_type": "display_data"
    },
    {
     "data": {
      "text/plain": [
       "<ggplot: (-9223363284182047642)>"
      ]
     },
     "execution_count": 299,
     "metadata": {},
     "output_type": "execute_result"
    }
   ],
   "source": [
    "# Plot for GUG\n",
    "subnonaug_df = nonaug_dict[\"GTG\"]\n",
    "\n",
    "r = [\"R = \" + str(round(stats.pearsonr(subnonaug_df[\"TIS_Efficiency\"],subnonaug_df[\"PredFC\"])[0], 3))]\n",
    "r_dat = pd.DataFrame({\"r\":r})\n",
    "\n",
    "# Plot\n",
    "p = (plotnine.ggplot(subnonaug_df, plotnine.aes('PredFC', 'TIS_Efficiency'))\n",
    " #+ plotnine.geom_point(alpha = 0.05, shape = \".\", color = \"darkblue\")\n",
    " + plotnine.geom_bin2d(binwidth = [0.1,0.5])\n",
    " + plotnine.scale_y_continuous(expand = (0,0), limits = (0,24))\n",
    " + plotnine.scale_fill_continuous(ListedColormap(cm.get_cmap('Blues', 512)(np.linspace(0.25, 1, 384))), trans=\"log10\")\n",
    " + plotnine.labs(fill=\"\")\n",
    " + plotnine.xlab(\"Predicted Fold Change of MRL\\nafter GUG activation (%)\")\n",
    " + plotnine.ylab(\"TIS Efficiency\\nrelative to Kozak (%)\")\n",
    " #+ plotnine.scale_x_continuous(trans='log10')\n",
    " #+ plotnine.annotation_logticks(sides=\"b\")\n",
    " + plotnine.stat_smooth(method='lm', color=\"grey\")\n",
    " + plotnine.geom_text(size = 10, data = r_dat, x = -1.3, y = 18, label = r, fontstyle = \"italic\")\n",
    " + plotnine.theme_matplotlib())\n",
    " #+ plotnine.theme(legend_direction=\"horizontal\", legend_position = (0.75, 0.80)))\n",
    "p"
   ]
  },
  {
   "cell_type": "code",
   "execution_count": 300,
   "metadata": {},
   "outputs": [
    {
     "name": "stderr",
     "output_type": "stream",
     "text": [
      "/data/ouga04b/ag_gagneur/home/karollus/.conda/envs/karollus-env/lib/python3.6/site-packages/plotnine/ggplot.py:729: PlotnineWarning: Saving 2.5 x 2.0 in image.\n",
      "  from_inches(height, units), units), PlotnineWarning)\n",
      "/data/ouga04b/ag_gagneur/home/karollus/.conda/envs/karollus-env/lib/python3.6/site-packages/plotnine/ggplot.py:730: PlotnineWarning: Filename: ../Graphics/Fig5_GUG.svg\n",
      "  warn('Filename: {}'.format(filename), PlotnineWarning)\n",
      "/data/ouga04b/ag_gagneur/home/karollus/.conda/envs/karollus-env/lib/python3.6/site-packages/numpy/core/fromnumeric.py:2389: FutureWarning: Method .ptp is deprecated and will be removed in a future version. Use numpy.ptp instead.\n",
      "  return ptp(axis=axis, out=out, **kwargs)\n",
      "/data/ouga04b/ag_gagneur/home/karollus/.conda/envs/karollus-env/lib/python3.6/site-packages/matplotlib/__init__.py:855: MatplotlibDeprecationWarning: \n",
      "examples.directory is deprecated; in the future, examples will be found relative to the 'datapath' directory.\n",
      "  \"found relative to the 'datapath' directory.\".format(key))\n",
      "/data/ouga04b/ag_gagneur/home/karollus/.conda/envs/karollus-env/lib/python3.6/site-packages/matplotlib/__init__.py:846: MatplotlibDeprecationWarning: \n",
      "The text.latex.unicode rcparam was deprecated in Matplotlib 2.2 and will be removed in 3.1.\n",
      "  \"2.2\", name=key, obj_type=\"rcparam\", addendum=addendum)\n",
      "/data/ouga04b/ag_gagneur/home/karollus/.conda/envs/karollus-env/lib/python3.6/site-packages/plotnine/layer.py:452: PlotnineWarning: geom_smooth : Removed 6 rows containing missing values.\n",
      "  self.data = self.geom.handle_na(self.data)\n"
     ]
    }
   ],
   "source": [
    "p.save(\"../Graphics/\" + \"Fig5_GUG\" + \".svg\", width=2.5, height=2.0)"
   ]
  },
  {
   "cell_type": "markdown",
   "metadata": {},
   "source": [
    "## **Nonaug Sequences (Behaviour on 50nt set w/o AUG)**\n",
    "\n",
    "An analysis to check how the model behaves on non-aug sequences"
   ]
  },
  {
   "cell_type": "markdown",
   "metadata": {},
   "source": [
    "#### Structure"
   ]
  },
  {
   "cell_type": "code",
   "execution_count": 595,
   "metadata": {},
   "outputs": [],
   "source": [
    "one_hot_fn = utils_data.OneHotEncoder(\"utr\")\n",
    "library_fn = utils_data.LibraryEncoder(\"library\", {\"egfp_unmod_1\":0, \"random\":1})\n",
    "data_noaug = mpra_data[(mpra_data.library == \"egfp_unmod_1\") & (mpra_data.set != \"test\")\n",
    "                          & (~mpra_data.utr.str.contains(\"ATG\"))]\n",
    "generator_noaug = utils_data.DataSequence(data_noaug, encoding_functions=[one_hot_fn, library_fn], \n",
    "                                    output_encoding_fn=None, shuffle=False)\n",
    "data_noaug[\"pred\"] = utr_model_combined.predict_generator(generator_noaug).reshape(-1)\n",
    "data_noaug_noTG = data_noaug[~(data_noaug[\"utr\"].str[0:2] == \"TG\")]"
   ]
  },
  {
   "cell_type": "code",
   "execution_count": 607,
   "metadata": {},
   "outputs": [
    {
     "name": "stdout",
     "output_type": "stream",
     "text": [
      "(0.6244264796490494, 0.0)\n"
     ]
    }
   ],
   "source": [
    "print(stats.pearsonr(data_noaug[\"pred\"], data_noaug[\"rl\"]))"
   ]
  },
  {
   "cell_type": "code",
   "execution_count": 598,
   "metadata": {},
   "outputs": [
    {
     "name": "stdout",
     "output_type": "stream",
     "text": [
      "(-0.34569959913646864, 0.0)\n",
      "SpearmanrResult(correlation=-0.38942085700797147, pvalue=0.0)\n"
     ]
    }
   ],
   "source": [
    "print(stats.pearsonr(data_noaug[\"pred\"], -data_noaug[\"utr_energy\"]))\n",
    "print(stats.spearmanr(data_noaug[\"pred\"], -data_noaug[\"utr_energy\"]))"
   ]
  },
  {
   "cell_type": "markdown",
   "metadata": {},
   "source": [
    "#### GC Content"
   ]
  },
  {
   "cell_type": "code",
   "execution_count": 599,
   "metadata": {},
   "outputs": [
    {
     "name": "stdout",
     "output_type": "stream",
     "text": [
      "(-0.5236313655690584, 0.0)\n",
      "SpearmanrResult(correlation=-0.6182908032577178, pvalue=0.0)\n"
     ]
    }
   ],
   "source": [
    "print(stats.pearsonr(data_noaug[\"pred\"], (data_noaug[\"utr\"].str.count(\"G\") + data_noaug[\"utr\"].str.count(\"C\"))/50))\n",
    "print(stats.spearmanr(data_noaug[\"pred\"], (data_noaug[\"utr\"].str.count(\"G\") + data_noaug[\"utr\"].str.count(\"C\"))/50))"
   ]
  },
  {
   "cell_type": "markdown",
   "metadata": {},
   "source": [
    "#### Kozak sequence"
   ]
  },
  {
   "cell_type": "code",
   "execution_count": 605,
   "metadata": {},
   "outputs": [
    {
     "name": "stdout",
     "output_type": "stream",
     "text": [
      "LinReg r2 : 0.15968792595404746\n",
      "Ridge r2 : 0.15973801648879915\n"
     ]
    }
   ],
   "source": [
    "data_noaug[\"kozak\"] = data_noaug[\"utr\"].str[-6:]\n",
    "one_hot_kozak = utils_data.OneHotEncoder(\"kozak\")\n",
    "X = one_hot_kozak(data_noaug).reshape((len(data_noaug), 24))\n",
    "y = np.array(data_noaug[\"pred\"])\n",
    "reg = LinearRegression().fit(X, y)\n",
    "r2 = reg.score(X, y)\n",
    "print(\"LinReg r2 : \" + str(reg.score(X, y)))\n",
    "reg = Ridge().fit(X, y)\n",
    "print(\"Ridge r2 : \" + str(reg.score(X, y)))"
   ]
  },
  {
   "cell_type": "code",
   "execution_count": 601,
   "metadata": {},
   "outputs": [
    {
     "name": "stdout",
     "output_type": "stream",
     "text": [
      "0.22862655766465856\n"
     ]
    }
   ],
   "source": [
    "r2_adjusted = utils.adjust_r2(r2, X.shape[0], X.shape[1])\n",
    "print(r2_adjusted)"
   ]
  },
  {
   "cell_type": "code",
   "execution_count": 587,
   "metadata": {},
   "outputs": [
    {
     "name": "stdout",
     "output_type": "stream",
     "text": [
      "Pos: -6\n",
      "A: 0.04121955237332102\n",
      "C: -0.07356027494544327\n",
      "G: 0.007399498568564108\n",
      "T: 0.024941224000093968\n",
      "Pos: -5\n",
      "A: 0.007604155571840407\n",
      "C: -0.03273682637528169\n",
      "G: -0.0394832739687865\n",
      "T: 0.06461594476707097\n",
      "Pos: -4\n",
      "A: 0.05937809131318027\n",
      "C: -0.013196113103436246\n",
      "G: -0.04178055925970393\n",
      "T: -0.004401418942868569\n",
      "Pos: -3\n",
      "A: 0.11810353734944945\n",
      "C: -0.0608052462583951\n",
      "G: 0.09861034609381161\n",
      "T: -0.15590863718131645\n",
      "Pos: -2\n",
      "A: 0.04616225626456959\n",
      "C: 0.009201051385165143\n",
      "G: -0.10685821405827228\n",
      "T: 0.051494906408202784\n",
      "Pos: -1\n",
      "A: 0.05648181806729322\n",
      "C: -0.005107575439702407\n",
      "G: -0.03994896116630581\n",
      "T: -0.011425281447469184\n"
     ]
    }
   ],
   "source": [
    "for idx in range(6):\n",
    "    print(\"Pos: \" + str(idx - 6))\n",
    "    print(\"A: \" + str(reg.coef_[0 + idx*4]))\n",
    "    print(\"C: \" + str(reg.coef_[1 + idx*4]))\n",
    "    print(\"G: \" + str(reg.coef_[2 + idx*4]))\n",
    "    print(\"T: \" + str(reg.coef_[3 + idx*4]))"
   ]
  },
  {
   "cell_type": "code",
   "execution_count": 606,
   "metadata": {},
   "outputs": [
    {
     "name": "stdout",
     "output_type": "stream",
     "text": [
      "7.635938\n",
      "7.4565187\n",
      "7.60665\n",
      "7.36476\n"
     ]
    }
   ],
   "source": [
    "print(data_noaug[data_noaug[\"kozak\"].str[-3] == \"A\"][\"pred\"].mean())\n",
    "print(data_noaug[data_noaug[\"kozak\"].str[-3] == \"C\"][\"pred\"].mean())\n",
    "print(data_noaug[data_noaug[\"kozak\"].str[-3] == \"G\"][\"pred\"].mean())\n",
    "print(data_noaug[data_noaug[\"kozak\"].str[-3] == \"T\"][\"pred\"].mean())"
   ]
  },
  {
   "cell_type": "code",
   "execution_count": 568,
   "metadata": {},
   "outputs": [
    {
     "name": "stdout",
     "output_type": "stream",
     "text": [
      "-1\n",
      "0.012188875804470145\n",
      "-2\n",
      "0.02414924758904602\n",
      "-3\n",
      "0.08449375707108842\n",
      "-4\n",
      "0.016089828631844938\n",
      "-5\n",
      "0.01028407362951278\n",
      "-6\n",
      "0.01299960331535499\n",
      "-7\n",
      "0.0069745245756122065\n",
      "-8\n",
      "0.008652044125863956\n",
      "-9\n",
      "0.006335419061400227\n",
      "-10\n",
      "0.007645239697720352\n",
      "-11\n",
      "0.008511548426793691\n"
     ]
    }
   ],
   "source": [
    "r2_by_pos = []\n",
    "for idx in range(1,12):\n",
    "    print(-idx)\n",
    "    data_noaug[\"kozak_pos\"] = data_noaug[\"utr\"].str[-idx]\n",
    "    one_hot_pos = utils_data.OneHotEncoder(\"kozak_pos\")\n",
    "    X = one_hot_pos(data_noaug).reshape(len(data_noaug), 4)\n",
    "    y = np.array(data_noaug[\"pred\"])\n",
    "    reg = Ridge().fit(X, y)\n",
    "    print(reg.score(X, y))\n",
    "    r2_by_pos.append(reg.score(X, y))"
   ]
  },
  {
   "cell_type": "code",
   "execution_count": 570,
   "metadata": {},
   "outputs": [
    {
     "data": {
      "text/plain": [
       "0.1602053860413173"
      ]
     },
     "execution_count": 570,
     "metadata": {},
     "output_type": "execute_result"
    }
   ],
   "source": [
    "np.sum(r2_by_pos[:6])"
   ]
  },
  {
   "cell_type": "markdown",
   "metadata": {},
   "source": [
    "## **Conservation: PhyloP score validation**\n",
    "We predict the effect of all possible snv in loss of of function genes and compare it to the phyloP conservation scores"
   ]
  },
  {
   "cell_type": "code",
   "execution_count": 183,
   "metadata": {},
   "outputs": [],
   "source": [
    "from kipoiseq.extractors import FastaStringExtractor\n",
    "from kipoiseq.extractors import MultiSampleVCF, VariantSeqExtractor\n",
    "from kipoiseq.dataloaders.sequence import BedDataset\n",
    "from kipoiseq.utils import to_scalar\n",
    "\n",
    "import pybedtools\n",
    "from pybedtools import BedTool, Interval"
   ]
  },
  {
   "cell_type": "markdown",
   "metadata": {},
   "source": [
    "#### Some useful functions"
   ]
  },
  {
   "cell_type": "code",
   "execution_count": 425,
   "metadata": {},
   "outputs": [],
   "source": [
    "# Function to create an in-silico SNP array\n",
    "nuc_dict = {'a':[1.0,0.0,0.0,0.0],'c':[0.0,1.0,0.0,0.0],'g':[0.0,0.0,1.0,0.0], 'u':[0.0,0.0,0.0,1.0], \n",
    "            't':[0.0,0.0,0.0,1.0], 'n':[0.0,0.0,0.0,0.0], 'x':[1/4,1/4,1/4,1/4]}\n",
    "permutation_array = np.array([[1.0,0.0,0.0,0.0], [0.0,1.0,0.0,0.0], [0.0,0.0,1.0,0.0], [0.0,0.0,0.0,1.0]])\n",
    "\n",
    "def create_permutations(seq, min_len=None):\n",
    "    n = len(seq) * 4\n",
    "    seq = seq.lower()\n",
    "    one_hot = np.array([nuc_dict[x] for x in seq])\n",
    "    one_hot_permuted = np.repeat(one_hot[np.newaxis,:,:], n, axis=0)\n",
    "    for i in range(len(seq)):\n",
    "        one_hot_permuted[i*4:(i*4)+4,i] = permutation_array\n",
    "    if min_len is not None:\n",
    "        diff = min_len - len(seq)\n",
    "        if diff > 0:\n",
    "            padding = np.zeros((n+1,diff, 4))\n",
    "            one_hot_permuted = np.concatenate([one_hot[np.newaxis,:,:], one_hot_permuted], axis=0)\n",
    "            one_hot_permuted = np.concatenate([padding, one_hot_permuted], axis=1)\n",
    "        if diff < 0:\n",
    "            one_hot_permuted = one_hot_permuted[np.abs(diff)*4:,np.abs(diff):,:]\n",
    "            one_hot_permuted = np.concatenate([one_hot[np.newaxis,np.abs(diff):,:], one_hot_permuted], axis=0)\n",
    "        if diff == 0:\n",
    "            one_hot_permuted = np.concatenate([one_hot[np.newaxis,:,:], one_hot_permuted], axis=0)\n",
    "    else:\n",
    "        one_hot_permuted = np.concatenate([one_hot[np.newaxis,:,:], one_hot_permuted], axis=0)\n",
    "    return one_hot_permuted\n",
    "\n",
    "def create_snv_array(seq, model, min_len=None,\n",
    "                     postproc_mean=5.269942112451139, postproc_sd=1.3551744190850261,\n",
    "                    add_frame=False, add_library=False, suppress_postproc=False):\n",
    "    if add_frame:\n",
    "        frame = utils.build_frame(len(seq), (len(seq)*4) + 1)\n",
    "        predictions = model.predict([create_permutations(seq, min_len=min_len), frame])\n",
    "    elif add_library:\n",
    "        indicator = np.zeros(((len(seq)*4) + 1,2))\n",
    "        indicator[:,1] = 1\n",
    "        predictions = model.predict([create_permutations(seq, min_len=min_len), indicator])\n",
    "    else:\n",
    "        predictions = model.predict(create_permutations(seq, min_len=min_len))\n",
    "    if min_len is not None and not suppress_postproc:\n",
    "        predictions =  predictions * postproc_sd + postproc_mean\n",
    "    delta = np.log2(predictions[1:]/predictions[0])\n",
    "    if min_len is not None and len(seq) > min_len:\n",
    "        delta = delta.reshape((min_len, 4))\n",
    "        diff = len(seq) - min_len\n",
    "        padding = np.zeros((diff, 4))\n",
    "        delta = np.concatenate([padding, delta], axis=0)\n",
    "    else:\n",
    "        delta = delta.reshape((len(seq), 4))\n",
    "    return delta\n",
    "\n",
    "def write_arrays(df, model, path, min_len=None, add_frame=False, add_library=False,\n",
    "                 suppress_postproc=False,\n",
    "                check_and_skip=False):\n",
    "    for seq_id, seq in zip(df[\"EnsemblTranscriptID\"], df[\"utr\"]):\n",
    "        if len(seq) == 1:\n",
    "            continue\n",
    "        if check_and_skip and os.path.exists(path + \"SNPdelta_\" + seq_id + \".npy\"):\n",
    "            continue\n",
    "        delta = create_snv_array(seq, model, min_len=min_len, add_frame=add_frame, add_library=add_library,\n",
    "                                suppress_postproc=suppress_postproc)\n",
    "        np.save(path + \"SNPdelta_\" + seq_id + \".npy\", np.transpose(delta))\n",
    "\n",
    "def read_array(pos_df, transcript_id, base_path = \"../Data/All_Variants/\",\n",
    "              snv_path=\"Genecode_v19_new/\", cons_path=\"phylop/\"):\n",
    "    array = np.load(base_path + snv_path + \"SNPdelta_\" + transcript_id + \".npy\")\n",
    "    pos = pos_df[pos_df.EnsemblTranscriptID == transcript_id].iloc[0]\n",
    "    indices = np.concatenate([np.arange(x[0],x[1]) for x in eval(pos[\"pos\"])])\n",
    "    atg_dist = np.flip(np.arange(len(indices))) + 1\n",
    "    conservation = np.load(base_path + cons_path + \"phyloP_\" + transcript_id + \".npy\")\n",
    "    if pos[\"strand\"] == \"-\":\n",
    "        indices = np.flip(indices)\n",
    "        conservation = np.flip(conservation)\n",
    "    return pd.DataFrame({\"EnsemblTranscriptID\":pos[\"EnsemblTranscriptID\"], \n",
    "                         \"chr\":pos[\"chr\"], \"strand\":pos[\"strand\"], \"pos_ensembl\":indices+1,\n",
    "                         \"dist_to_atg\":atg_dist,\n",
    "                         \"conservation\":conservation,\n",
    "                        \"A\":array[0,:],\"C\":array[1,:],\"G\":array[2,:],\"T\":array[3,:]})\n",
    "\n",
    "def read_all_arrays(pos_df, snv_path=\"Genecode_v19_frameslice_100/\"):\n",
    "    data = []\n",
    "    i = 0\n",
    "    for transcript_id in pos_df[\"EnsemblTranscriptID\"]:\n",
    "        arr = read_array(pos_df, transcript_id, snv_path=snv_path)\n",
    "        data.append(arr)\n",
    "        if i % 1000 == 0:\n",
    "            print(i)\n",
    "        i += 1\n",
    "    arr = pd.concat(data)\n",
    "    return arr"
   ]
  },
  {
   "cell_type": "markdown",
   "metadata": {},
   "source": [
    "#### Load needed data"
   ]
  },
  {
   "cell_type": "code",
   "execution_count": 185,
   "metadata": {},
   "outputs": [],
   "source": [
    "seq_df = pd.read_csv(\"../Data/gencodev19_5utr_seq.csv\")\n",
    "pos_df = pd.read_csv(\"../Data/gencodev19_5utr_pos.csv\")\n",
    "# remove length 1 utrs, as they can not yield sensible predictions and only mess with numpy\n",
    "seq_df = seq_df[seq_df[\"utr\"].str.len() > 1]\n",
    "pos_df = pos_df[pos_df[\"EnsemblTranscriptID\"].\n",
    "                isin(seq_df[seq_df[\"utr\"].str.len() > 1][\"EnsemblTranscriptID\"])]\n",
    "# reduce to lof intolerant genes\n",
    "# Lof intolerant: \"oe_lof_upper\" < 0.35\n",
    "lof_df = pd.read_csv(\"../Data/GTF/gencodev19_5utr_lof.bed\", sep=\"\\t\",\n",
    "                     names=[\"chr\", \"start\", \"stop\", \"EnsemblTranscriptID\", \"?\", \"strand\"])\n",
    "pos_df = pos_df[pos_df[\"EnsemblTranscriptID\"].isin(lof_df[\"EnsemblTranscriptID\"])]\n",
    "seq_df = seq_df[seq_df[\"EnsemblTranscriptID\"].isin(lof_df[\"EnsemblTranscriptID\"])]"
   ]
  },
  {
   "cell_type": "markdown",
   "metadata": {},
   "source": [
    "#### Compute and Write all snv effects for all 5'UTR of lof transcripts"
   ]
  },
  {
   "cell_type": "code",
   "execution_count": 127,
   "metadata": {},
   "outputs": [],
   "source": [
    "write_arrays(seq_df, utr_model, \"../Data/All_Variants/Genecode_v19_frameslice_100/\")"
   ]
  },
  {
   "cell_type": "code",
   "execution_count": 91,
   "metadata": {},
   "outputs": [],
   "source": [
    "write_arrays(seq_df, utr_model_combined, \"../Data/All_Variants/Genecode_v19_frameslice_combined/\", add_library=True)"
   ]
  },
  {
   "cell_type": "code",
   "execution_count": 161,
   "metadata": {},
   "outputs": [],
   "source": [
    "# write for utr model with truncation\n",
    "write_arrays(seq_df, utr_model, \"../Data/All_Variants/Genecode_v19_frameslice_100_truncated/\", min_len=100, suppress_postproc=True)"
   ]
  },
  {
   "cell_type": "code",
   "execution_count": 316,
   "metadata": {},
   "outputs": [],
   "source": [
    "seq_df_100 = seq_df[\"EnsemblTranscriptID\"][seq_df[\"utr\"].str.len() <= 100]\n",
    "seq_df_long = seq_df[\"EnsemblTranscriptID\"][seq_df[\"utr\"].str.len() > 100]"
   ]
  },
  {
   "cell_type": "code",
   "execution_count": 389,
   "metadata": {},
   "outputs": [
    {
     "name": "stderr",
     "output_type": "stream",
     "text": [
      "/data/ouga04b/ag_gagneur/home/karollus/.conda/envs/karollus-env/lib/python3.6/site-packages/ipykernel_launcher.py:89: RuntimeWarning: invalid value encountered in log2\n"
     ]
    }
   ],
   "source": [
    "# write arrays for paper model\n",
    "write_arrays(seq_df[seq_df[\"EnsemblTranscriptID\"].isin(seq_df_100)], paper_model2, \n",
    "                    \"../Data/All_Variants/Genecode_v19_paper/\", min_len=100)"
   ]
  },
  {
   "cell_type": "code",
   "execution_count": 426,
   "metadata": {},
   "outputs": [],
   "source": [
    "# write arrays for paper model with truncation\n",
    "write_arrays(seq_df, paper_model2, \n",
    "                    \"../Data/All_Variants/Genecode_v19_paper_truncated_rescale/\", min_len=100)"
   ]
  },
  {
   "cell_type": "markdown",
   "metadata": {},
   "source": [
    "#### Load results"
   ]
  },
  {
   "cell_type": "code",
   "execution_count": 186,
   "metadata": {},
   "outputs": [
    {
     "name": "stdout",
     "output_type": "stream",
     "text": [
      "0\n",
      "1000\n",
      "2000\n",
      "3000\n",
      "4000\n",
      "5000\n",
      "6000\n",
      "7000\n",
      "8000\n"
     ]
    }
   ],
   "source": [
    "# results for our model (framepool100), untruncated sequences\n",
    "arr = read_all_arrays(pos_df)"
   ]
  },
  {
   "cell_type": "code",
   "execution_count": 187,
   "metadata": {},
   "outputs": [
    {
     "name": "stdout",
     "output_type": "stream",
     "text": [
      "0\n",
      "1000\n",
      "2000\n",
      "3000\n",
      "4000\n",
      "5000\n",
      "6000\n",
      "7000\n",
      "8000\n"
     ]
    }
   ],
   "source": [
    "# results for our model on truncated sequences\n",
    "arr_truncated = read_all_arrays(pos_df, snv_path=\"Genecode_v19_frameslice_100_truncated/\")"
   ]
  },
  {
   "cell_type": "code",
   "execution_count": 427,
   "metadata": {},
   "outputs": [
    {
     "name": "stdout",
     "output_type": "stream",
     "text": [
      "0\n",
      "1000\n",
      "2000\n",
      "3000\n",
      "4000\n",
      "5000\n",
      "6000\n",
      "7000\n",
      "8000\n"
     ]
    }
   ],
   "source": [
    "# results for the optimus100 model on truncated sequences\n",
    "arr_paper_truncated = read_all_arrays(pos_df, snv_path=\"Genecode_v19_paper_truncated_rescale/\")"
   ]
  },
  {
   "cell_type": "code",
   "execution_count": 466,
   "metadata": {},
   "outputs": [],
   "source": [
    "# concatenate dataframes\n",
    "arr_far = arr[arr[\"dist_to_atg\"] > 100]\n",
    "arr_far[\"model\"] = \"Framepool100\"\n",
    "arr_far[\"data\"] = \">100nt from canonical AUG\"\n",
    "arr_truncated = arr_truncated[arr_truncated[\"dist_to_atg\"] <= 100]\n",
    "arr_truncated[\"model\"] = \"Framepool100\"\n",
    "arr_truncated[\"data\"] = \"within 100nt of canonical AUG\"\n",
    "arr_paper_truncated = arr_paper_truncated[arr_paper_truncated[\"dist_to_atg\"] <= 100]\n",
    "arr_paper_truncated[\"model\"] = \"Optimus100\"\n",
    "arr_paper_truncated[\"data\"] = \"within 100nt of canonical AUG\"\n",
    "snveffect_df = pd.concat([arr_far, arr_truncated, arr_paper_truncated])\n",
    "# compute the average absolute fold change\n",
    "snveffect_df[\"avg_effect\"] = np.sum(np.abs(np.array(snveffect_df[[\"A\",\"C\",\"G\",\"T\"]])), axis = 1)/3"
   ]
  },
  {
   "cell_type": "code",
   "execution_count": 469,
   "metadata": {},
   "outputs": [],
   "source": [
    "# average for identical position over different transcripts\n",
    "id_col = list(zip(snveffect_df[\"model\"], snveffect_df[\"data\"],\n",
    "                        snveffect_df[\"chr\"], snveffect_df[\"pos_ensembl\"]))\n",
    "snveffect_df[\"id_col\"] = id_col\n",
    "snveffect_posaggreg = snveffect_df.groupby(\"id_col\").agg({'avg_effect': 'mean', \"conservation\": \"max\"})\n",
    "snveffect_posaggreg[\"model\"] = [x[0] for x in snveffect_posaggreg.index]\n",
    "snveffect_posaggreg[\"data\"] = [x[1] for x in snveffect_posaggreg.index]\n",
    "snveffect_posaggreg[\"chr\"] = [x[2] for x in snveffect_posaggreg.index]\n",
    "snveffect_posaggreg[\"pos_ensembl\"] = [x[3] for x in snveffect_posaggreg.index]\n",
    "snveffect_posaggreg = snveffect_posaggreg.reset_index()[[\"avg_effect\", \"conservation\", \n",
    "                                                         \"model\", \"data\", \"chr\", \"pos_ensembl\"]]\n",
    "snveffect_posaggreg[\"avg_effect_FC\"] =  ((2 ** snveffect_posaggreg[\"avg_effect\"]) * 100) - 100"
   ]
  },
  {
   "cell_type": "code",
   "execution_count": 358,
   "metadata": {},
   "outputs": [],
   "source": [
    "# compute averages\n",
    "avg_within100nt = snveffect_posaggreg[snveffect_posaggreg.data == \"within 100nt of canonical AUG\"][\"conservation\"].mean()\n",
    "avg_far = snveffect_posaggreg[snveffect_posaggreg.data == \">100nt from canonical AUG\"][\"conservation\"].mean()\n",
    "df_avgphylop = pd.DataFrame({\"data\": [\"within 100nt of canonical AUG\", \">100nt from canonical AUG\"], \n",
    "                             \"average conservation\": [avg_within100nt, avg_far]})"
   ]
  },
  {
   "cell_type": "code",
   "execution_count": 328,
   "metadata": {},
   "outputs": [
    {
     "data": {
      "text/plain": [
       "1.5570408849089066"
      ]
     },
     "execution_count": 328,
     "metadata": {},
     "output_type": "execute_result"
    }
   ],
   "source": [
    "avg_within100nt"
   ]
  },
  {
   "cell_type": "code",
   "execution_count": 470,
   "metadata": {},
   "outputs": [],
   "source": [
    "cuts = [0, 10, 25, 50, 100]\n",
    "bin_labels = [\"<10\", \"10-25\", \"25-50\", \"50-100\", \">100\"]\n",
    "\n",
    "# bin the data\n",
    "def bin_data(cuts, labels, score_col=\"avg_effect_FC\"):\n",
    "    df_list = []\n",
    "    for model in [\"Optimus100\", \"Framepool100\"]:\n",
    "        for data in [\"within 100nt of canonical AUG\", \">100nt from canonical AUG\"]:\n",
    "            df = snveffect_posaggreg[(snveffect_posaggreg.model == model) & (snveffect_posaggreg.data == data)]\n",
    "            if len(df) == 0:\n",
    "                continue\n",
    "            cuts2 = cuts[1:] + [100000]\n",
    "            binned_phylop = []\n",
    "            binned_error = []\n",
    "            binned_counts = []\n",
    "            for i in range(len(labels)):\n",
    "                l = cuts[i]\n",
    "                u = cuts2[i]\n",
    "                sub_df = df[(df[score_col] < u) & (df[score_col] > l)]\n",
    "                binned_phylop.append(sub_df[\"conservation\"].mean())\n",
    "                binned_error.append(sub_df[\"conservation\"].sem() * stats.t.ppf(0.975,len(sub_df)))\n",
    "                binned_counts.append(len(sub_df))\n",
    "            binned_df = pd.DataFrame({\"bin\":labels, \"PhyloP\":binned_phylop, \"CI\":binned_error, \"count\":binned_counts,\n",
    "                                     \"model\":model, \"data\":data})\n",
    "            df_list.append(binned_df)\n",
    "    return pd.concat(df_list)\n",
    "\n",
    "binned_df = bin_data(cuts, bin_labels)"
   ]
  },
  {
   "cell_type": "code",
   "execution_count": 472,
   "metadata": {},
   "outputs": [
    {
     "data": {
      "text/html": [
       "<div>\n",
       "<style scoped>\n",
       "    .dataframe tbody tr th:only-of-type {\n",
       "        vertical-align: middle;\n",
       "    }\n",
       "\n",
       "    .dataframe tbody tr th {\n",
       "        vertical-align: top;\n",
       "    }\n",
       "\n",
       "    .dataframe thead th {\n",
       "        text-align: right;\n",
       "    }\n",
       "</style>\n",
       "<table border=\"1\" class=\"dataframe\">\n",
       "  <thead>\n",
       "    <tr style=\"text-align: right;\">\n",
       "      <th></th>\n",
       "      <th>bin</th>\n",
       "      <th>PhyloP</th>\n",
       "      <th>CI</th>\n",
       "      <th>count</th>\n",
       "      <th>model</th>\n",
       "      <th>data</th>\n",
       "      <th>Predicted absolute FC (%)</th>\n",
       "      <th>data_cat</th>\n",
       "    </tr>\n",
       "  </thead>\n",
       "  <tbody>\n",
       "    <tr>\n",
       "      <th>0</th>\n",
       "      <td>&lt;10</td>\n",
       "      <td>1.512067</td>\n",
       "      <td>0.006732</td>\n",
       "      <td>430028</td>\n",
       "      <td>Optimus100</td>\n",
       "      <td>within 100nt of canonical AUG</td>\n",
       "      <td>&lt;10</td>\n",
       "      <td>within 100nt of canonical AUG</td>\n",
       "    </tr>\n",
       "    <tr>\n",
       "      <th>1</th>\n",
       "      <td>10-25</td>\n",
       "      <td>2.012305</td>\n",
       "      <td>0.030534</td>\n",
       "      <td>24887</td>\n",
       "      <td>Optimus100</td>\n",
       "      <td>within 100nt of canonical AUG</td>\n",
       "      <td>10-25</td>\n",
       "      <td>within 100nt of canonical AUG</td>\n",
       "    </tr>\n",
       "    <tr>\n",
       "      <th>2</th>\n",
       "      <td>25-50</td>\n",
       "      <td>2.295488</td>\n",
       "      <td>0.063257</td>\n",
       "      <td>6379</td>\n",
       "      <td>Optimus100</td>\n",
       "      <td>within 100nt of canonical AUG</td>\n",
       "      <td>25-50</td>\n",
       "      <td>within 100nt of canonical AUG</td>\n",
       "    </tr>\n",
       "    <tr>\n",
       "      <th>3</th>\n",
       "      <td>50-100</td>\n",
       "      <td>3.058566</td>\n",
       "      <td>0.136959</td>\n",
       "      <td>1742</td>\n",
       "      <td>Optimus100</td>\n",
       "      <td>within 100nt of canonical AUG</td>\n",
       "      <td>50-100</td>\n",
       "      <td>within 100nt of canonical AUG</td>\n",
       "    </tr>\n",
       "    <tr>\n",
       "      <th>4</th>\n",
       "      <td>&gt;100</td>\n",
       "      <td>3.534450</td>\n",
       "      <td>0.309887</td>\n",
       "      <td>327</td>\n",
       "      <td>Optimus100</td>\n",
       "      <td>within 100nt of canonical AUG</td>\n",
       "      <td>&gt;100</td>\n",
       "      <td>within 100nt of canonical AUG</td>\n",
       "    </tr>\n",
       "    <tr>\n",
       "      <th>0</th>\n",
       "      <td>&lt;10</td>\n",
       "      <td>1.523839</td>\n",
       "      <td>0.006754</td>\n",
       "      <td>431786</td>\n",
       "      <td>Framepool100</td>\n",
       "      <td>within 100nt of canonical AUG</td>\n",
       "      <td>&lt;10</td>\n",
       "      <td>within 100nt of canonical AUG</td>\n",
       "    </tr>\n",
       "    <tr>\n",
       "      <th>1</th>\n",
       "      <td>10-25</td>\n",
       "      <td>1.909307</td>\n",
       "      <td>0.030569</td>\n",
       "      <td>22833</td>\n",
       "      <td>Framepool100</td>\n",
       "      <td>within 100nt of canonical AUG</td>\n",
       "      <td>10-25</td>\n",
       "      <td>within 100nt of canonical AUG</td>\n",
       "    </tr>\n",
       "    <tr>\n",
       "      <th>2</th>\n",
       "      <td>25-50</td>\n",
       "      <td>2.052626</td>\n",
       "      <td>0.058027</td>\n",
       "      <td>6869</td>\n",
       "      <td>Framepool100</td>\n",
       "      <td>within 100nt of canonical AUG</td>\n",
       "      <td>25-50</td>\n",
       "      <td>within 100nt of canonical AUG</td>\n",
       "    </tr>\n",
       "    <tr>\n",
       "      <th>3</th>\n",
       "      <td>50-100</td>\n",
       "      <td>2.967376</td>\n",
       "      <td>0.137607</td>\n",
       "      <td>1590</td>\n",
       "      <td>Framepool100</td>\n",
       "      <td>within 100nt of canonical AUG</td>\n",
       "      <td>50-100</td>\n",
       "      <td>within 100nt of canonical AUG</td>\n",
       "    </tr>\n",
       "    <tr>\n",
       "      <th>4</th>\n",
       "      <td>&gt;100</td>\n",
       "      <td>3.675652</td>\n",
       "      <td>0.313215</td>\n",
       "      <td>305</td>\n",
       "      <td>Framepool100</td>\n",
       "      <td>within 100nt of canonical AUG</td>\n",
       "      <td>&gt;100</td>\n",
       "      <td>within 100nt of canonical AUG</td>\n",
       "    </tr>\n",
       "    <tr>\n",
       "      <th>0</th>\n",
       "      <td>&lt;10</td>\n",
       "      <td>1.172052</td>\n",
       "      <td>0.003846</td>\n",
       "      <td>1137658</td>\n",
       "      <td>Framepool100</td>\n",
       "      <td>&gt;100nt from canonical AUG</td>\n",
       "      <td>&lt;10</td>\n",
       "      <td>&gt;100nt from canonical AUG</td>\n",
       "    </tr>\n",
       "    <tr>\n",
       "      <th>1</th>\n",
       "      <td>10-25</td>\n",
       "      <td>1.439366</td>\n",
       "      <td>0.026653</td>\n",
       "      <td>20818</td>\n",
       "      <td>Framepool100</td>\n",
       "      <td>&gt;100nt from canonical AUG</td>\n",
       "      <td>10-25</td>\n",
       "      <td>&gt;100nt from canonical AUG</td>\n",
       "    </tr>\n",
       "    <tr>\n",
       "      <th>2</th>\n",
       "      <td>25-50</td>\n",
       "      <td>1.549345</td>\n",
       "      <td>0.061819</td>\n",
       "      <td>4062</td>\n",
       "      <td>Framepool100</td>\n",
       "      <td>&gt;100nt from canonical AUG</td>\n",
       "      <td>25-50</td>\n",
       "      <td>&gt;100nt from canonical AUG</td>\n",
       "    </tr>\n",
       "    <tr>\n",
       "      <th>3</th>\n",
       "      <td>50-100</td>\n",
       "      <td>1.976168</td>\n",
       "      <td>0.144789</td>\n",
       "      <td>903</td>\n",
       "      <td>Framepool100</td>\n",
       "      <td>&gt;100nt from canonical AUG</td>\n",
       "      <td>50-100</td>\n",
       "      <td>&gt;100nt from canonical AUG</td>\n",
       "    </tr>\n",
       "    <tr>\n",
       "      <th>4</th>\n",
       "      <td>&gt;100</td>\n",
       "      <td>1.950459</td>\n",
       "      <td>0.283810</td>\n",
       "      <td>205</td>\n",
       "      <td>Framepool100</td>\n",
       "      <td>&gt;100nt from canonical AUG</td>\n",
       "      <td>&gt;100</td>\n",
       "      <td>&gt;100nt from canonical AUG</td>\n",
       "    </tr>\n",
       "  </tbody>\n",
       "</table>\n",
       "</div>"
      ],
      "text/plain": [
       "      bin    PhyloP        CI    count         model  \\\n",
       "0     <10  1.512067  0.006732   430028    Optimus100   \n",
       "1   10-25  2.012305  0.030534    24887    Optimus100   \n",
       "2   25-50  2.295488  0.063257     6379    Optimus100   \n",
       "3  50-100  3.058566  0.136959     1742    Optimus100   \n",
       "4    >100  3.534450  0.309887      327    Optimus100   \n",
       "0     <10  1.523839  0.006754   431786  Framepool100   \n",
       "1   10-25  1.909307  0.030569    22833  Framepool100   \n",
       "2   25-50  2.052626  0.058027     6869  Framepool100   \n",
       "3  50-100  2.967376  0.137607     1590  Framepool100   \n",
       "4    >100  3.675652  0.313215      305  Framepool100   \n",
       "0     <10  1.172052  0.003846  1137658  Framepool100   \n",
       "1   10-25  1.439366  0.026653    20818  Framepool100   \n",
       "2   25-50  1.549345  0.061819     4062  Framepool100   \n",
       "3  50-100  1.976168  0.144789      903  Framepool100   \n",
       "4    >100  1.950459  0.283810      205  Framepool100   \n",
       "\n",
       "                            data Predicted absolute FC (%)  \\\n",
       "0  within 100nt of canonical AUG                       <10   \n",
       "1  within 100nt of canonical AUG                     10-25   \n",
       "2  within 100nt of canonical AUG                     25-50   \n",
       "3  within 100nt of canonical AUG                    50-100   \n",
       "4  within 100nt of canonical AUG                      >100   \n",
       "0  within 100nt of canonical AUG                       <10   \n",
       "1  within 100nt of canonical AUG                     10-25   \n",
       "2  within 100nt of canonical AUG                     25-50   \n",
       "3  within 100nt of canonical AUG                    50-100   \n",
       "4  within 100nt of canonical AUG                      >100   \n",
       "0      >100nt from canonical AUG                       <10   \n",
       "1      >100nt from canonical AUG                     10-25   \n",
       "2      >100nt from canonical AUG                     25-50   \n",
       "3      >100nt from canonical AUG                    50-100   \n",
       "4      >100nt from canonical AUG                      >100   \n",
       "\n",
       "                        data_cat  \n",
       "0  within 100nt of canonical AUG  \n",
       "1  within 100nt of canonical AUG  \n",
       "2  within 100nt of canonical AUG  \n",
       "3  within 100nt of canonical AUG  \n",
       "4  within 100nt of canonical AUG  \n",
       "0  within 100nt of canonical AUG  \n",
       "1  within 100nt of canonical AUG  \n",
       "2  within 100nt of canonical AUG  \n",
       "3  within 100nt of canonical AUG  \n",
       "4  within 100nt of canonical AUG  \n",
       "0      >100nt from canonical AUG  \n",
       "1      >100nt from canonical AUG  \n",
       "2      >100nt from canonical AUG  \n",
       "3      >100nt from canonical AUG  \n",
       "4      >100nt from canonical AUG  "
      ]
     },
     "execution_count": 472,
     "metadata": {},
     "output_type": "execute_result"
    }
   ],
   "source": [
    "binned_df"
   ]
  },
  {
   "cell_type": "code",
   "execution_count": 474,
   "metadata": {},
   "outputs": [
    {
     "name": "stderr",
     "output_type": "stream",
     "text": [
      "/data/ouga04b/ag_gagneur/home/karollus/.conda/envs/karollus-env/lib/python3.6/site-packages/matplotlib/__init__.py:855: MatplotlibDeprecationWarning: \n",
      "examples.directory is deprecated; in the future, examples will be found relative to the 'datapath' directory.\n",
      "  \"found relative to the 'datapath' directory.\".format(key))\n",
      "/data/ouga04b/ag_gagneur/home/karollus/.conda/envs/karollus-env/lib/python3.6/site-packages/matplotlib/__init__.py:846: MatplotlibDeprecationWarning: \n",
      "The text.latex.unicode rcparam was deprecated in Matplotlib 2.2 and will be removed in 3.1.\n",
      "  \"2.2\", name=key, obj_type=\"rcparam\", addendum=addendum)\n"
     ]
    },
    {
     "data": {
      "image/png": "[encoded data removed]",
      "text/plain": [
       "<Figure size 640x480 with 2 Axes>"
      ]
     },
     "metadata": {},
     "output_type": "display_data"
    },
    {
     "data": {
      "text/plain": [
       "<ggplot: (8752667128100)>"
      ]
     },
     "execution_count": 474,
     "metadata": {},
     "output_type": "execute_result"
    }
   ],
   "source": [
    "binned_df['Predicted absolute FC (%)'] = pd.Categorical(binned_df['bin'], categories=bin_labels)\n",
    "binned_df['data_cat'] = pd.Categorical(binned_df['data'], categories=[\"within 100nt of canonical AUG\", \">100nt from canonical AUG\"])\n",
    "df_avgphylop['data_cat'] = pd.Categorical(df_avgphylop['data'], categories=[\"within 100nt of canonical AUG\", \">100nt from canonical AUG\"])\n",
    "\n",
    "p = (plotnine.ggplot(binned_df, plotnine.aes(fill=\"model\", y=\"PhyloP\", x=\"Predicted absolute FC (%)\")) + \n",
    "plotnine.geom_bar(position=\"dodge\", stat=\"identity\") + \n",
    " plotnine.xlab(\"Predicted SNV effect: average absolute value of log Fold Change of MRL (%)\") +\n",
    " plotnine.scale_y_continuous(expand = (0,0), limits = (0,4.2)) + \n",
    " plotnine.ylab(\"Average PhyloP conservation score\") +\n",
    " plotnine.labs(fill=\"\") +\n",
    " plotnine.facet_wrap(\"data_cat\") +\n",
    "plotnine.geom_hline(data=df_avgphylop, mapping=plotnine.aes(yintercept=\"average conservation\"), color=\"gray\") + \n",
    "plotnine.geom_errorbar(plotnine.aes(ymin=\"PhyloP-CI\", ymax=\"PhyloP+CI\"), position=plotnine.positions.position_dodge(width=0.9), \n",
    "                       colour=\"black\") + \n",
    "plotnine.theme_matplotlib() +\n",
    "plotnine.theme(legend_position = (0.25, 0.8)))\n",
    "p"
   ]
  },
  {
   "cell_type": "code",
   "execution_count": 475,
   "metadata": {},
   "outputs": [
    {
     "name": "stderr",
     "output_type": "stream",
     "text": [
      "/data/ouga04b/ag_gagneur/home/karollus/.conda/envs/karollus-env/lib/python3.6/site-packages/plotnine/ggplot.py:729: PlotnineWarning: Saving 6.4 x 4.8 in image.\n",
      "  from_inches(height, units), units), PlotnineWarning)\n",
      "/data/ouga04b/ag_gagneur/home/karollus/.conda/envs/karollus-env/lib/python3.6/site-packages/plotnine/ggplot.py:730: PlotnineWarning: Filename: ../Graphics/Fig4.svg\n",
      "  warn('Filename: {}'.format(filename), PlotnineWarning)\n",
      "/data/ouga04b/ag_gagneur/home/karollus/.conda/envs/karollus-env/lib/python3.6/site-packages/matplotlib/__init__.py:855: MatplotlibDeprecationWarning: \n",
      "examples.directory is deprecated; in the future, examples will be found relative to the 'datapath' directory.\n",
      "  \"found relative to the 'datapath' directory.\".format(key))\n",
      "/data/ouga04b/ag_gagneur/home/karollus/.conda/envs/karollus-env/lib/python3.6/site-packages/matplotlib/__init__.py:846: MatplotlibDeprecationWarning: \n",
      "The text.latex.unicode rcparam was deprecated in Matplotlib 2.2 and will be removed in 3.1.\n",
      "  \"2.2\", name=key, obj_type=\"rcparam\", addendum=addendum)\n"
     ]
    }
   ],
   "source": [
    "p.save(\"../Graphics/\" + \"Fig4\" + \".svg\")"
   ]
  },
  {
   "cell_type": "code",
   "execution_count": null,
   "metadata": {},
   "outputs": [],
   "source": []
  }
 ],
 "metadata": {
  "kernelspec": {
   "display_name": "Python 3",
   "language": "python",
   "name": "python3"
  },
  "language_info": {
   "codemirror_mode": {
    "name": "ipython",
    "version": 3
   },
   "file_extension": ".py",
   "mimetype": "text/x-python",
   "name": "python",
   "nbconvert_exporter": "python",
   "pygments_lexer": "ipython3",
   "version": "3.6.7"
  }
 },
 "nbformat": 4,
 "nbformat_minor": 2
}
