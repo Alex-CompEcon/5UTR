{
 "cells": [
  {
   "cell_type": "code",
   "execution_count": 2,
   "metadata": {},
   "outputs": [],
   "source": [
    "import pyBigWig\n",
    "import pysam\n",
    "\n",
    "import itertools\n",
    "import re\n",
    "\n",
    "import numpy as np\n",
    "import pandas as pd\n"
   ]
  },
  {
   "cell_type": "markdown",
   "metadata": {},
   "source": [
    "### Prepare phyloP scores for all 5utrs"
   ]
  },
  {
   "cell_type": "code",
   "execution_count": 2,
   "metadata": {},
   "outputs": [],
   "source": [
    "bw = pyBigWig.open(\"/s/genomes/human/hg19/conservation/phyloP/hg19.100way.phyloP100way.bw\")"
   ]
  },
  {
   "cell_type": "code",
   "execution_count": 3,
   "metadata": {},
   "outputs": [],
   "source": [
    "pos_df = pd.read_csv(\"../gencodev19_5utr_pos.csv\")"
   ]
  },
  {
   "cell_type": "code",
   "execution_count": 14,
   "metadata": {},
   "outputs": [],
   "source": [
    "def write_conservation_scores(pos_df, bw, path=\"phylop/\"):\n",
    "    for i in range(len(pos_df)):\n",
    "        row = pos_df.iloc[i]\n",
    "        scores = [bw.values(row[\"chr\"], x[0], x[1]) for x in eval(row[\"pos\"])]\n",
    "        scores = np.array(list(itertools.chain.from_iterable(scores)))\n",
    "        np.save(path + \"phyloP_\" + row[\"EnsemblTranscriptID\"] + \".npy\", scores)"
   ]
  },
  {
   "cell_type": "code",
   "execution_count": 17,
   "metadata": {},
   "outputs": [],
   "source": [
    "write_conservation_scores(pos_df, bw)"
   ]
  },
  {
   "cell_type": "code",
   "execution_count": 21,
   "metadata": {},
   "outputs": [
    {
     "data": {
      "text/plain": [
       "array([ 0.28600001,  3.15799999, -0.352     ,  1.05499995,  0.20299999,\n",
       "        2.4690001 ,  0.64499998,  1.25      ,  0.662     ,  0.861     ,\n",
       "        1.14400005,  1.00300002,  2.15199995,  2.06900001,  1.13      ,\n",
       "        1.21300006,  2.74099994,  1.91499996,  0.50700003, -0.114     ,\n",
       "        1.22599995,  1.85599995,  0.17399999,  1.99000001,  1.08500004,\n",
       "        1.04299998, -0.69599998, -0.76800001, -0.94099998,  0.82999998,\n",
       "       -0.19      ,  0.48899999,  0.182     ,  0.27399999,  1.03799999,\n",
       "       -2.17000008,  0.43399999,  1.22500002,  0.17900001,  0.19400001,\n",
       "        0.32499999,  0.81199998, -1.51100004,  1.15400004,  1.39300001,\n",
       "       -0.38800001,  1.35000002,  1.75899994, -1.14699996,  0.958     ,\n",
       "        0.77200001, -0.463     ,  0.082     , -0.73199999,  1.52900004,\n",
       "       -0.53399998,  1.91299999,  0.62699997,  2.08599997,  2.69799995,\n",
       "        1.34500003,  1.64999998,  0.49399999,  1.11399996, -0.42500001,\n",
       "        0.435     ,  2.08100009,  0.90399998,  3.1730001 ,  0.991     ,\n",
       "        2.21099997,  4.64499998,  1.77900004,  2.07399988,  0.79000002,\n",
       "        4.01900005,  3.93700004,  0.266     ,  1.50999999,  1.72000003,\n",
       "        0.46399999, -0.94599998,  0.26100001,  1.66299999,  0.41999999,\n",
       "        1.55200005,  2.14400005,  2.33200002,  4.25199986,  2.81599998,\n",
       "        0.069     ,  3.59500003,  0.236     , -0.46200001,  1.57599998,\n",
       "        2.96199989,  1.72300005,  3.20300007,  4.02199984,  1.51499999,\n",
       "        6.54699993,  4.80600023,  6.34299994,  5.16499996,  4.89699984,\n",
       "        3.95700002,  1.85500002,  1.33200002,  2.96000004,  4.01800013,\n",
       "        8.24800014,  5.3130002 ,  6.079     ,  3.33800006,  7.80900002,\n",
       "        2.4849999 ,  2.76200008,  2.80100012,  7.80900002,  8.24800014,\n",
       "        8.24800014,  7.80900002,  7.80900002,  6.73099995,  8.24800014,\n",
       "        3.58599997,  3.16000009,  7.80900002,  4.90899992,  4.94199991,\n",
       "        6.54699993,  3.16000009,  8.24800014,  6.54699993,  4.75400019,\n",
       "        7.80900002,  3.74499989,  6.54699993])"
      ]
     },
     "execution_count": 21,
     "metadata": {},
     "output_type": "execute_result"
    }
   ],
   "source": [
    "np.load(\"phylop/phyloP_ENST00000237247.npy\")"
   ]
  }
 ],
 "metadata": {
  "kernelspec": {
   "display_name": "Python 3",
   "language": "python",
   "name": "python3"
  },
  "language_info": {
   "codemirror_mode": {
    "name": "ipython",
    "version": 3
   },
   "file_extension": ".py",
   "mimetype": "text/x-python",
   "name": "python",
   "nbconvert_exporter": "python",
   "pygments_lexer": "ipython3",
   "version": "3.6.7"
  }
 },
 "nbformat": 4,
 "nbformat_minor": 2
}
