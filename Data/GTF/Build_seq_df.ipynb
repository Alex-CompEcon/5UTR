{
 "cells": [
  {
   "cell_type": "code",
   "execution_count": 4,
   "metadata": {},
   "outputs": [],
   "source": [
    "from Bio import SeqIO\n",
    "import pandas as pd\n",
    "import re"
   ]
  },
  {
   "cell_type": "code",
   "execution_count": 26,
   "metadata": {},
   "outputs": [],
   "source": [
    "with open('5utr_fasta') as fasta_file:  # Will close handle cleanly\n",
    "    identifiers_5utr = []\n",
    "    sequences_5utr = []\n",
    "    for seq_record in SeqIO.parse(fasta_file, 'fasta'):  # (generator)\n",
    "        identifiers_5utr.append(seq_record.id)\n",
    "        sequences_5utr.append(str(seq_record.seq))\n",
    "        \n",
    "ident_cleaned_5utr = [re.search(\"(ENST.*)\\.\", x)[1] for x in identifiers_5utr]"
   ]
  },
  {
   "cell_type": "code",
   "execution_count": 27,
   "metadata": {},
   "outputs": [],
   "source": [
    "with open('3utr_fasta') as fasta_file:  # Will close handle cleanly\n",
    "    identifiers_3utr = []\n",
    "    sequences_3utr = []\n",
    "    for seq_record in SeqIO.parse(fasta_file, 'fasta'):  # (generator)\n",
    "        identifiers_3utr.append(seq_record.id)\n",
    "        sequences_3utr.append(str(seq_record.seq))\n",
    "        \n",
    "ident_cleaned_3utr = [re.search(\"(ENST.*)\\.\", x)[1] for x in identifiers_3utr]"
   ]
  },
  {
   "cell_type": "code",
   "execution_count": 28,
   "metadata": {},
   "outputs": [],
   "source": [
    "with open('cds_fasta') as fasta_file:  # Will close handle cleanly\n",
    "    identifiers_cds = []\n",
    "    sequences_cds = []\n",
    "    for seq_record in SeqIO.parse(fasta_file, 'fasta'):  # (generator)\n",
    "        identifiers_cds.append(seq_record.id)\n",
    "        sequences_cds.append(str(seq_record.seq))\n",
    "        \n",
    "ident_cleaned_cds = [re.search(\"(ENST.*)\\.\", x)[1] for x in identifiers_cds]"
   ]
  },
  {
   "cell_type": "code",
   "execution_count": 29,
   "metadata": {},
   "outputs": [],
   "source": [
    "utr5_df = pd.DataFrame({\"EnsemblTranscriptID\":ident_cleaned_5utr, \"utr\":sequences_5utr})\n",
    "utr3_df = pd.DataFrame({\"EnsemblTranscriptID\":ident_cleaned_cds, \"cds\":sequences_cds})\n",
    "cds_df = pd.DataFrame({\"EnsemblTranscriptID\":ident_cleaned_3utr, \"3utr\":sequences_3utr})"
   ]
  },
  {
   "cell_type": "code",
   "execution_count": 30,
   "metadata": {},
   "outputs": [],
   "source": [
    "merged_df = utr5_df.merge(cds_df, on=\"EnsemblTranscriptID\").merge(utr3_df, on=\"EnsemblTranscriptID\")"
   ]
  },
  {
   "cell_type": "code",
   "execution_count": 35,
   "metadata": {},
   "outputs": [],
   "source": [
    "merged_df.to_csv(\"../gencodev19_seq.csv\")"
   ]
  },
  {
   "cell_type": "code",
   "execution_count": null,
   "metadata": {},
   "outputs": [],
   "source": []
  }
 ],
 "metadata": {
  "kernelspec": {
   "display_name": "Python 3",
   "language": "python",
   "name": "python3"
  },
  "language_info": {
   "codemirror_mode": {
    "name": "ipython",
    "version": 3
   },
   "file_extension": ".py",
   "mimetype": "text/x-python",
   "name": "python",
   "nbconvert_exporter": "python",
   "pygments_lexer": "ipython3",
   "version": "3.6.7"
  }
 },
 "nbformat": 4,
 "nbformat_minor": 2
}
