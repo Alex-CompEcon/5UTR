{
 "cells": [
  {
   "cell_type": "code",
   "execution_count": 7,
   "metadata": {},
   "outputs": [],
   "source": [
    "from Bio import SeqIO\n",
    "import pandas as pd\n",
    "import re\n",
    "pd.options.mode.chained_assignment = None "
   ]
  },
  {
   "cell_type": "code",
   "execution_count": 26,
   "metadata": {},
   "outputs": [],
   "source": [
    "with open('5utr.fasta') as fasta_file:  # Will close handle cleanly\n",
    "    identifiers_5utr = []\n",
    "    sequences_5utr = []\n",
    "    for seq_record in SeqIO.parse(fasta_file, 'fasta'):  # (generator)\n",
    "        identifiers_5utr.append(seq_record.id)\n",
    "        sequences_5utr.append(str(seq_record.seq))\n",
    "        \n",
    "ident_cleaned_5utr = [re.search(\"(ENST.*)\\.\", x)[1] for x in identifiers_5utr]"
   ]
  },
  {
   "cell_type": "code",
   "execution_count": 27,
   "metadata": {},
   "outputs": [],
   "source": [
    "with open('3utr.fasta') as fasta_file:  # Will close handle cleanly\n",
    "    identifiers_3utr = []\n",
    "    sequences_3utr = []\n",
    "    for seq_record in SeqIO.parse(fasta_file, 'fasta'):  # (generator)\n",
    "        identifiers_3utr.append(seq_record.id)\n",
    "        sequences_3utr.append(str(seq_record.seq))\n",
    "        \n",
    "ident_cleaned_3utr = [re.search(\"(ENST.*)\\.\", x)[1] for x in identifiers_3utr]"
   ]
  },
  {
   "cell_type": "code",
   "execution_count": 28,
   "metadata": {},
   "outputs": [],
   "source": [
    "with open('cds.fasta') as fasta_file:  # Will close handle cleanly\n",
    "    identifiers_cds = []\n",
    "    sequences_cds = []\n",
    "    for seq_record in SeqIO.parse(fasta_file, 'fasta'):  # (generator)\n",
    "        identifiers_cds.append(seq_record.id)\n",
    "        sequences_cds.append(str(seq_record.seq))\n",
    "        \n",
    "ident_cleaned_cds = [re.search(\"(ENST.*)\\.\", x)[1] for x in identifiers_cds]"
   ]
  },
  {
   "cell_type": "code",
   "execution_count": 29,
   "metadata": {},
   "outputs": [],
   "source": [
    "utr5_df = pd.DataFrame({\"EnsemblTranscriptID\":ident_cleaned_5utr, \"utr\":sequences_5utr})\n",
    "utr3_df = pd.DataFrame({\"EnsemblTranscriptID\":ident_cleaned_cds, \"cds\":sequences_cds})\n",
    "cds_df = pd.DataFrame({\"EnsemblTranscriptID\":ident_cleaned_3utr, \"3utr\":sequences_3utr})"
   ]
  },
  {
   "cell_type": "code",
   "execution_count": 30,
   "metadata": {},
   "outputs": [],
   "source": [
    "merged_df = utr5_df.merge(cds_df, on=\"EnsemblTranscriptID\").merge(utr3_df, on=\"EnsemblTranscriptID\")"
   ]
  },
  {
   "cell_type": "code",
   "execution_count": 35,
   "metadata": {},
   "outputs": [],
   "source": [
    "merged_df.to_csv(\"../gencodev19_seq.csv\")"
   ]
  },
  {
   "cell_type": "markdown",
   "metadata": {},
   "source": [
    "### Complete 5utr sequence file with coordinates"
   ]
  },
  {
   "cell_type": "code",
   "execution_count": 27,
   "metadata": {},
   "outputs": [],
   "source": [
    "with open('5utr.fasta') as fasta_file:  # Will close handle cleanly\n",
    "    identifiers_5utr = []\n",
    "    sequences_5utr = []\n",
    "    descript_5utr = []\n",
    "    for seq_record in SeqIO.parse(fasta_file, 'fasta'):  # (generator)\n",
    "        identifiers_5utr.append(seq_record.id)\n",
    "        sequences_5utr.append(str(seq_record.seq))\n",
    "        descript_5utr.append(seq_record.description)\n",
    "\n",
    "ident = [re.search(\"(ENST.*)\\.\", x)[1] for x in identifiers_5utr]\n",
    "chroms = [re.search(\"range=(\\S*):\", x)[1] for x in descript_5utr]\n",
    "ranges = [re.search(\"range=.*:(\\S*)\", x)[1].split(\"-\") for x in descript_5utr]\n",
    "starts = [r[0] for r in ranges]\n",
    "stops = [r[1] for r in ranges]\n",
    "strands = [re.search(\"strand=(\\S)\", x)[1] for x in descript_5utr]"
   ]
  },
  {
   "cell_type": "code",
   "execution_count": 30,
   "metadata": {},
   "outputs": [],
   "source": [
    "utr5_df = pd.DataFrame({\"EnsemblTranscriptID\":ident, \"utr\":sequences_5utr, \"chr\":chroms, \"start\":starts,\n",
    "                       \"stop\":stops, \"strand\":strands})"
   ]
  },
  {
   "cell_type": "code",
   "execution_count": 31,
   "metadata": {},
   "outputs": [],
   "source": [
    "utr5_df.to_csv(\"../gencodev19_5utr_seq.csv\")"
   ]
  },
  {
   "cell_type": "markdown",
   "metadata": {},
   "source": [
    "### 5utr coordinates BED"
   ]
  },
  {
   "cell_type": "code",
   "execution_count": 2,
   "metadata": {},
   "outputs": [],
   "source": [
    "utr5_bed = pd.read_csv(\"5utr.bed\", sep=\"\\t\", names=[\"chr\", \"start\", \"stop\", \"EnsemblTranscriptID\", \"?\", \"strand\"])"
   ]
  },
  {
   "cell_type": "code",
   "execution_count": 3,
   "metadata": {},
   "outputs": [],
   "source": [
    "utr5_bed[\"EnsemblTranscriptID\"] = [re.search(\"(ENST.*)\\.\", x)[1] for x in utr5_bed[\"EnsemblTranscriptID\"]]"
   ]
  },
  {
   "cell_type": "code",
   "execution_count": 5,
   "metadata": {},
   "outputs": [],
   "source": [
    "utr5_bed = utr5_bed[utr5_bed.chr.isin(['chr1', 'chr2', 'chr3', 'chr4', 'chr5', 'chr6', 'chr7', 'chr8',\n",
    "       'chr9', 'chrX', 'chrY', 'chr10', 'chr11', 'chr12', 'chr13',\n",
    "       'chr14', 'chr15', 'chr16', 'chr17', 'chr18', 'chr19', 'chr20',\n",
    "       'chr21', 'chr22'])]"
   ]
  },
  {
   "cell_type": "code",
   "execution_count": 8,
   "metadata": {},
   "outputs": [],
   "source": [
    "tuples = list(zip(utr5_bed.start, utr5_bed.stop))\n",
    "utr5_bed[\"pos\"] = [[x] for x in tuples]\n",
    "utr5_bed[\"id_chr\"] = list(zip(utr5_bed.EnsemblTranscriptID, utr5_bed.chr, utr5_bed.strand))"
   ]
  },
  {
   "cell_type": "code",
   "execution_count": 10,
   "metadata": {},
   "outputs": [],
   "source": [
    "utr5_bed_posaggreg = utr5_bed[[\"pos\", \"id_chr\"]].groupby(\"id_chr\").agg({'pos': 'sum'})"
   ]
  },
  {
   "cell_type": "code",
   "execution_count": 11,
   "metadata": {},
   "outputs": [],
   "source": [
    "utr5_bed_posaggreg[\"EnsemblTranscriptID\"] = [x[0] for x in utr5_bed_posaggreg.index]\n",
    "utr5_bed_posaggreg[\"chr\"] = [x[1] for x in utr5_bed_posaggreg.index]\n",
    "utr5_bed_posaggreg[\"strand\"] = [x[2] for x in utr5_bed_posaggreg.index]"
   ]
  },
  {
   "cell_type": "code",
   "execution_count": 12,
   "metadata": {},
   "outputs": [],
   "source": [
    "utr5_bed_posaggreg = utr5_bed_posaggreg.reset_index()[[\"EnsemblTranscriptID\", \"chr\", \"pos\", \"strand\"]]"
   ]
  },
  {
   "cell_type": "code",
   "execution_count": 14,
   "metadata": {},
   "outputs": [],
   "source": [
    "utr5_bed_posaggreg.to_csv(\"../gencodev19_5utr_pos.csv\")"
   ]
  },
  {
   "cell_type": "markdown",
   "metadata": {},
   "source": [
    "### Loss of function intolerant genes"
   ]
  },
  {
   "cell_type": "code",
   "execution_count": 119,
   "metadata": {},
   "outputs": [],
   "source": [
    "gnomad_lof = pd.read_csv(\"gnomad.v2.1.1.lof_metrics.by_transcript.tsv\", sep=\"\\t\")"
   ]
  },
  {
   "cell_type": "code",
   "execution_count": 122,
   "metadata": {},
   "outputs": [],
   "source": [
    "gnomad_lof = gnomad_lof[[\"transcript\", \"oe_lof_upper\", \"pLI\"]]"
   ]
  },
  {
   "cell_type": "code",
   "execution_count": 125,
   "metadata": {},
   "outputs": [],
   "source": [
    "gnomad_lof = gnomad_lof[gnomad_lof[\"oe_lof_upper\"] < 0.35]"
   ]
  },
  {
   "cell_type": "code",
   "execution_count": 128,
   "metadata": {},
   "outputs": [],
   "source": [
    "gnomad_lof = gnomad_lof.rename(columns={\"transcript\":\"EnsemblTranscriptID\"})"
   ]
  },
  {
   "cell_type": "code",
   "execution_count": 137,
   "metadata": {},
   "outputs": [],
   "source": [
    "utr5_lof = gnomad_lof.merge(utr5_bed, on = \"EnsemblTranscriptID\")"
   ]
  },
  {
   "cell_type": "code",
   "execution_count": 139,
   "metadata": {},
   "outputs": [],
   "source": [
    "utr5_bed = pd.read_csv(\"5utr.bed\", sep=\"\\t\", names=[\"chr\", \"start\", \"stop\", \"EnsemblTranscriptID\", \"?\", \"strand\"])\n",
    "utr5_bed[\"EnsemblTranscriptID\"] = [re.search(\"(ENST.*)\\.\", x)[1] for x in utr5_bed[\"EnsemblTranscriptID\"]]\n",
    "utr5_bed = utr5_bed[utr5_bed.chr.isin(['chr1', 'chr2', 'chr3', 'chr4', 'chr5', 'chr6', 'chr7', 'chr8',\n",
    "       'chr9', 'chrX', 'chrY', 'chr10', 'chr11', 'chr12', 'chr13',\n",
    "       'chr14', 'chr15', 'chr16', 'chr17', 'chr18', 'chr19', 'chr20',\n",
    "       'chr21', 'chr22'])]\n",
    "utr5_bed = utr5_bed[utr5_bed.EnsemblTranscriptID.isin(gnomad_lof[\"EnsemblTranscriptID\"])]\n",
    "utr5_bed.to_csv(\"gencodev19_5utr_lof.bed\", sep=\"\\t\", header=False, index=False)"
   ]
  }
 ],
 "metadata": {
  "kernelspec": {
   "display_name": "Python 3",
   "language": "python",
   "name": "python3"
  },
  "language_info": {
   "codemirror_mode": {
    "name": "ipython",
    "version": 3
   },
   "file_extension": ".py",
   "mimetype": "text/x-python",
   "name": "python",
   "nbconvert_exporter": "python",
   "pygments_lexer": "ipython3",
   "version": "3.6.7"
  }
 },
 "nbformat": 4,
 "nbformat_minor": 2
}
